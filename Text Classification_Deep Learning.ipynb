{
 "cells": [
  {
   "cell_type": "markdown",
   "id": "7cf518c5-45ab-424f-a1e7-3d8cdc7afb10",
   "metadata": {},
   "source": [
    "# Máster en Big Data Science - UNAV \n",
    "-----------------------------------------------------------------------------------------------------------------------------------------\n",
    "### Deep Learning - Entrega 2\n",
    "### María Auxiliadora Solano Ramírez - Junio 2022"
   ]
  },
  {
   "cell_type": "markdown",
   "id": "d58f101c-7285-4192-a0da-7ce8a4e3fcfc",
   "metadata": {},
   "source": [
    "# Text Classification model\n",
    "- Tutorial: https://www.tensorflow.org/text/tutorials/text_classification_rnn\n",
    "- Database: https://www.kaggle.com/datasets/kazanova/sentiment140\n",
    "- Objetivo: Predict possitive and negative tweets"
   ]
  },
  {
   "cell_type": "markdown",
   "id": "35875514-c464-43db-8d4a-3763a2975b66",
   "metadata": {},
   "source": [
    "## 1. Setup\n",
    "Importing dependencies, the principal required libraries"
   ]
  },
  {
   "cell_type": "code",
   "execution_count": 4,
   "id": "92c0abdc-bb82-4458-973f-d588fde5c55e",
   "metadata": {},
   "outputs": [],
   "source": [
    "#data processing\n",
    "import numpy as np\n",
    "import pandas as pd\n",
    "from sklearn.model_selection import train_test_split\n",
    "\n",
    "#Neural network\n",
    "import tensorflow as tf\n",
    "from tensorflow.keras.models import Sequential\n",
    "from tensorflow.keras import layers\n",
    "from tensorflow.keras.preprocessing.text import Tokenizer\n",
    "from tensorflow.keras.preprocessing.sequence import pad_sequences\n",
    "from tensorflow.keras.wrappers.scikit_learn import KerasClassifier\n",
    "\n",
    "#Visualization\n",
    "import matplotlib.pyplot as plt\n",
    "import seaborn as sns\n",
    "\n",
    "#Metrics\n",
    "from sklearn.metrics import classification_report\n",
    "from sklearn.metrics import confusion_matrix"
   ]
  },
  {
   "cell_type": "markdown",
   "id": "167a511b-41b5-4ada-ac0d-364de4134858",
   "metadata": {},
   "source": [
    "## 2. Data exploration\n",
    "This is the sentiment140 dataset. It contains 1,600,000 tweets extracted using the twitter api . The tweets have been annotated (0 = negative, 4 = positive) and they can be used to detect sentiment .\n",
    "### 2.1 General exploration"
   ]
  },
  {
   "cell_type": "code",
   "execution_count": 5,
   "id": "995e5d11-8ad2-4861-9053-8721f1ab14f4",
   "metadata": {},
   "outputs": [
    {
     "data": {
      "text/html": [
       "<div>\n",
       "<style scoped>\n",
       "    .dataframe tbody tr th:only-of-type {\n",
       "        vertical-align: middle;\n",
       "    }\n",
       "\n",
       "    .dataframe tbody tr th {\n",
       "        vertical-align: top;\n",
       "    }\n",
       "\n",
       "    .dataframe thead th {\n",
       "        text-align: right;\n",
       "    }\n",
       "</style>\n",
       "<table border=\"1\" class=\"dataframe\">\n",
       "  <thead>\n",
       "    <tr style=\"text-align: right;\">\n",
       "      <th></th>\n",
       "      <th>target</th>\n",
       "      <th>ids</th>\n",
       "      <th>date</th>\n",
       "      <th>flag</th>\n",
       "      <th>user</th>\n",
       "      <th>text</th>\n",
       "    </tr>\n",
       "  </thead>\n",
       "  <tbody>\n",
       "    <tr>\n",
       "      <th>0</th>\n",
       "      <td>0</td>\n",
       "      <td>1467810369</td>\n",
       "      <td>Mon Apr 06 22:19:45 PDT 2009</td>\n",
       "      <td>NO_QUERY</td>\n",
       "      <td>_TheSpecialOne_</td>\n",
       "      <td>@switchfoot http://twitpic.com/2y1zl - Awww, t...</td>\n",
       "    </tr>\n",
       "    <tr>\n",
       "      <th>1</th>\n",
       "      <td>0</td>\n",
       "      <td>1467810672</td>\n",
       "      <td>Mon Apr 06 22:19:49 PDT 2009</td>\n",
       "      <td>NO_QUERY</td>\n",
       "      <td>scotthamilton</td>\n",
       "      <td>is upset that he can't update his Facebook by ...</td>\n",
       "    </tr>\n",
       "    <tr>\n",
       "      <th>2</th>\n",
       "      <td>0</td>\n",
       "      <td>1467810917</td>\n",
       "      <td>Mon Apr 06 22:19:53 PDT 2009</td>\n",
       "      <td>NO_QUERY</td>\n",
       "      <td>mattycus</td>\n",
       "      <td>@Kenichan I dived many times for the ball. Man...</td>\n",
       "    </tr>\n",
       "    <tr>\n",
       "      <th>3</th>\n",
       "      <td>0</td>\n",
       "      <td>1467811184</td>\n",
       "      <td>Mon Apr 06 22:19:57 PDT 2009</td>\n",
       "      <td>NO_QUERY</td>\n",
       "      <td>ElleCTF</td>\n",
       "      <td>my whole body feels itchy and like its on fire</td>\n",
       "    </tr>\n",
       "    <tr>\n",
       "      <th>4</th>\n",
       "      <td>0</td>\n",
       "      <td>1467811193</td>\n",
       "      <td>Mon Apr 06 22:19:57 PDT 2009</td>\n",
       "      <td>NO_QUERY</td>\n",
       "      <td>Karoli</td>\n",
       "      <td>@nationwideclass no, it's not behaving at all....</td>\n",
       "    </tr>\n",
       "  </tbody>\n",
       "</table>\n",
       "</div>"
      ],
      "text/plain": [
       "   target         ids                          date      flag  \\\n",
       "0       0  1467810369  Mon Apr 06 22:19:45 PDT 2009  NO_QUERY   \n",
       "1       0  1467810672  Mon Apr 06 22:19:49 PDT 2009  NO_QUERY   \n",
       "2       0  1467810917  Mon Apr 06 22:19:53 PDT 2009  NO_QUERY   \n",
       "3       0  1467811184  Mon Apr 06 22:19:57 PDT 2009  NO_QUERY   \n",
       "4       0  1467811193  Mon Apr 06 22:19:57 PDT 2009  NO_QUERY   \n",
       "\n",
       "              user                                               text  \n",
       "0  _TheSpecialOne_  @switchfoot http://twitpic.com/2y1zl - Awww, t...  \n",
       "1    scotthamilton  is upset that he can't update his Facebook by ...  \n",
       "2         mattycus  @Kenichan I dived many times for the ball. Man...  \n",
       "3          ElleCTF    my whole body feels itchy and like its on fire   \n",
       "4           Karoli  @nationwideclass no, it's not behaving at all....  "
      ]
     },
     "execution_count": 5,
     "metadata": {},
     "output_type": "execute_result"
    }
   ],
   "source": [
    "dataframe = pd.read_csv('training.1600000.processed.noemoticon.csv',header=None,encoding='latin-1')\n",
    "dataframe = dataframe.set_axis(['target','ids','date','flag','user','text'], axis=1)\n",
    "dataframe.head()"
   ]
  },
  {
   "cell_type": "code",
   "execution_count": 6,
   "id": "65eb20cc-09cd-4602-947c-9aea7f5993f2",
   "metadata": {},
   "outputs": [
    {
     "name": "stdout",
     "output_type": "stream",
     "text": [
      "<class 'pandas.core.frame.DataFrame'>\n",
      "RangeIndex: 1600000 entries, 0 to 1599999\n",
      "Data columns (total 6 columns):\n",
      " #   Column  Non-Null Count    Dtype \n",
      "---  ------  --------------    ----- \n",
      " 0   target  1600000 non-null  int64 \n",
      " 1   ids     1600000 non-null  int64 \n",
      " 2   date    1600000 non-null  object\n",
      " 3   flag    1600000 non-null  object\n",
      " 4   user    1600000 non-null  object\n",
      " 5   text    1600000 non-null  object\n",
      "dtypes: int64(2), object(4)\n",
      "memory usage: 73.2+ MB\n"
     ]
    }
   ],
   "source": [
    "dataframe.info()"
   ]
  },
  {
   "cell_type": "markdown",
   "id": "3d038797-8d76-445a-bf9b-a6bee1e45bd9",
   "metadata": {},
   "source": [
    "**Conclusion:** Dataset with 1600000 lines is too big, so the initial modeling will be experimentary with a 10% sample"
   ]
  },
  {
   "cell_type": "code",
   "execution_count": 7,
   "id": "3837abbe-8a4e-40d7-b90d-a6f6808d74e3",
   "metadata": {},
   "outputs": [
    {
     "name": "stdout",
     "output_type": "stream",
     "text": [
      "(1600000, 6)\n",
      "(160000, 6)\n"
     ]
    }
   ],
   "source": [
    "#DataFrame random reduction\n",
    "print(dataframe.shape)\n",
    "dataframe = dataframe.sample(frac=0.1,random_state=1)\n",
    "print(dataframe.shape)"
   ]
  },
  {
   "cell_type": "code",
   "execution_count": 8,
   "id": "1da083c5-613d-40a4-9012-53cfafcba000",
   "metadata": {},
   "outputs": [
    {
     "data": {
      "text/html": [
       "<div>\n",
       "<style scoped>\n",
       "    .dataframe tbody tr th:only-of-type {\n",
       "        vertical-align: middle;\n",
       "    }\n",
       "\n",
       "    .dataframe tbody tr th {\n",
       "        vertical-align: top;\n",
       "    }\n",
       "\n",
       "    .dataframe thead th {\n",
       "        text-align: right;\n",
       "    }\n",
       "</style>\n",
       "<table border=\"1\" class=\"dataframe\">\n",
       "  <thead>\n",
       "    <tr style=\"text-align: right;\">\n",
       "      <th></th>\n",
       "      <th>target</th>\n",
       "      <th>text</th>\n",
       "    </tr>\n",
       "  </thead>\n",
       "  <tbody>\n",
       "    <tr>\n",
       "      <th>514293</th>\n",
       "      <td>0</td>\n",
       "      <td>i miss nikki nu nu already  shes always there ...</td>\n",
       "    </tr>\n",
       "    <tr>\n",
       "      <th>142282</th>\n",
       "      <td>0</td>\n",
       "      <td>So I had a dream last night. I  remember a sig...</td>\n",
       "    </tr>\n",
       "    <tr>\n",
       "      <th>403727</th>\n",
       "      <td>0</td>\n",
       "      <td>@girlyghost ohh poor sickly you   (((hugs)) ho...</td>\n",
       "    </tr>\n",
       "    <tr>\n",
       "      <th>649503</th>\n",
       "      <td>0</td>\n",
       "      <td>it is raining again</td>\n",
       "    </tr>\n",
       "    <tr>\n",
       "      <th>610789</th>\n",
       "      <td>0</td>\n",
       "      <td>@MissKeriBaby wish I was in LA right now</td>\n",
       "    </tr>\n",
       "  </tbody>\n",
       "</table>\n",
       "</div>"
      ],
      "text/plain": [
       "        target                                               text\n",
       "514293       0  i miss nikki nu nu already  shes always there ...\n",
       "142282       0  So I had a dream last night. I  remember a sig...\n",
       "403727       0  @girlyghost ohh poor sickly you   (((hugs)) ho...\n",
       "649503       0                               it is raining again \n",
       "610789       0          @MissKeriBaby wish I was in LA right now "
      ]
     },
     "execution_count": 8,
     "metadata": {},
     "output_type": "execute_result"
    }
   ],
   "source": [
    "#Reduce dataframe to feature and target\n",
    "dataframe = dataframe[['target','text']]\n",
    "dataframe.head()"
   ]
  },
  {
   "cell_type": "markdown",
   "id": "77976cd9-ff8d-4357-8498-2f5277942666",
   "metadata": {},
   "source": [
    "### 2.2 Target Value\n",
    "The column \"target\" describe the tweet is negative (target=0) or possitive (target=4). It is the value we are trying to predict"
   ]
  },
  {
   "cell_type": "code",
   "execution_count": 9,
   "id": "6aab2eb3-539e-4a20-828d-5bdba4e92dca",
   "metadata": {},
   "outputs": [
    {
     "data": {
      "text/html": [
       "<div>\n",
       "<style scoped>\n",
       "    .dataframe tbody tr th:only-of-type {\n",
       "        vertical-align: middle;\n",
       "    }\n",
       "\n",
       "    .dataframe tbody tr th {\n",
       "        vertical-align: top;\n",
       "    }\n",
       "\n",
       "    .dataframe thead th {\n",
       "        text-align: right;\n",
       "    }\n",
       "</style>\n",
       "<table border=\"1\" class=\"dataframe\">\n",
       "  <thead>\n",
       "    <tr style=\"text-align: right;\">\n",
       "      <th></th>\n",
       "      <th>Count</th>\n",
       "      <th>Percent</th>\n",
       "    </tr>\n",
       "  </thead>\n",
       "  <tbody>\n",
       "    <tr>\n",
       "      <th>4</th>\n",
       "      <td>80164</td>\n",
       "      <td>50.1025</td>\n",
       "    </tr>\n",
       "    <tr>\n",
       "      <th>0</th>\n",
       "      <td>79836</td>\n",
       "      <td>49.8975</td>\n",
       "    </tr>\n",
       "  </tbody>\n",
       "</table>\n",
       "</div>"
      ],
      "text/plain": [
       "   Count  Percent\n",
       "4  80164  50.1025\n",
       "0  79836  49.8975"
      ]
     },
     "execution_count": 9,
     "metadata": {},
     "output_type": "execute_result"
    }
   ],
   "source": [
    "#Check the count between classifications\n",
    "values = dataframe.target.value_counts()\n",
    "percent = dataframe.target.value_counts()/len(dataframe)*100\n",
    "\n",
    "#output: target is in balance\n",
    "table = pd.DataFrame(values)\n",
    "table['Percent'] = percent\n",
    "table =table.rename(columns={'target':\"Count\"})\n",
    "table"
   ]
  },
  {
   "cell_type": "markdown",
   "id": "979d9bb2-4e2f-4892-9f3a-ba0cc11082f2",
   "metadata": {},
   "source": [
    "**Conclusion:** Target data column is in balance, 50% each category"
   ]
  },
  {
   "cell_type": "markdown",
   "id": "eae016d2-9900-4639-aed9-672ac69917d7",
   "metadata": {},
   "source": [
    "## 3. Prepare dataset\n",
    "### 3.1 Train-Validation-Test Split\n",
    "The dataset is divided in 3 sections for training, validation and testing. This datasets will be used to train the model and test against it."
   ]
  },
  {
   "cell_type": "code",
   "execution_count": 10,
   "id": "b71ad2d1-150a-4bcb-8be4-49df4a8974ab",
   "metadata": {},
   "outputs": [
    {
     "name": "stdout",
     "output_type": "stream",
     "text": [
      "test_shape:(48000, 2)\n",
      "validation_shape:(33600, 2)\n",
      "train_shape:(78400, 2)\n"
     ]
    }
   ],
   "source": [
    "# Use a utility from sklearn to split and shuffle your dataset.\n",
    "train_df, test_df = train_test_split(dataframe, test_size=0.3,random_state=1)\n",
    "print(\"test_shape:\" + str(test_df.shape))\n",
    "\n",
    "#Split in train set and validation set\n",
    "train_df, val_df = train_test_split(train_df, test_size=0.3)\n",
    "print(\"validation_shape:\" + str(val_df.shape))\n",
    "print(\"train_shape:\" + str(train_df.shape))"
   ]
  },
  {
   "cell_type": "markdown",
   "id": "0d049bf6-8685-4178-867f-544b3d43a35e",
   "metadata": {},
   "source": [
    "**Text:** Defined as feature data"
   ]
  },
  {
   "cell_type": "code",
   "execution_count": 11,
   "id": "83576dd5-29e2-4832-b43a-e4f9ee250819",
   "metadata": {},
   "outputs": [
    {
     "data": {
      "text/plain": [
       "(78400,)"
      ]
     },
     "execution_count": 11,
     "metadata": {},
     "output_type": "execute_result"
    }
   ],
   "source": [
    "#Check text column count in train\n",
    "X_train = train_df.text\n",
    "X_train.shape"
   ]
  },
  {
   "cell_type": "code",
   "execution_count": 12,
   "id": "e37c984c-64cd-474a-8fec-675f926289ea",
   "metadata": {},
   "outputs": [
    {
     "data": {
      "text/plain": [
       "(33600,)"
      ]
     },
     "execution_count": 12,
     "metadata": {},
     "output_type": "execute_result"
    }
   ],
   "source": [
    "#Check text column count in validation\n",
    "X_val = val_df.text\n",
    "X_val.shape"
   ]
  },
  {
   "cell_type": "code",
   "execution_count": 13,
   "id": "29044706-196c-4012-8f81-27278a274596",
   "metadata": {},
   "outputs": [
    {
     "data": {
      "text/plain": [
       "(48000,)"
      ]
     },
     "execution_count": 13,
     "metadata": {},
     "output_type": "execute_result"
    }
   ],
   "source": [
    "#Check text column count in test\n",
    "X_test = test_df.text\n",
    "X_test.shape"
   ]
  },
  {
   "cell_type": "markdown",
   "id": "78ad707e-9d4b-4de6-9379-8f47ed88d9e3",
   "metadata": {},
   "source": [
    "**Target:** Defined as target data"
   ]
  },
  {
   "cell_type": "code",
   "execution_count": 14,
   "id": "a9c3c465-b3cf-42fe-8d80-bf248e9bff0a",
   "metadata": {},
   "outputs": [
    {
     "data": {
      "text/plain": [
       "4    39337\n",
       "0    39063\n",
       "Name: target, dtype: int64"
      ]
     },
     "execution_count": 14,
     "metadata": {},
     "output_type": "execute_result"
    }
   ],
   "source": [
    "#Check target column count in train\n",
    "y_train = train_df.target\n",
    "y_train.value_counts()"
   ]
  },
  {
   "cell_type": "code",
   "execution_count": 15,
   "id": "f80960c2-3d4b-4a05-b747-a6a0096bf86a",
   "metadata": {},
   "outputs": [
    {
     "data": {
      "text/plain": [
       "0    16863\n",
       "4    16737\n",
       "Name: target, dtype: int64"
      ]
     },
     "execution_count": 15,
     "metadata": {},
     "output_type": "execute_result"
    }
   ],
   "source": [
    "#Check target column count in validation\n",
    "y_val = val_df.target\n",
    "y_val.value_counts()"
   ]
  },
  {
   "cell_type": "code",
   "execution_count": 16,
   "id": "e746a13b-f8f4-4ec9-b0a3-2a059744f833",
   "metadata": {},
   "outputs": [
    {
     "data": {
      "text/plain": [
       "4    24090\n",
       "0    23910\n",
       "Name: target, dtype: int64"
      ]
     },
     "execution_count": 16,
     "metadata": {},
     "output_type": "execute_result"
    }
   ],
   "source": [
    "#Check target column count in test\n",
    "y_test = test_df.target\n",
    "y_test.value_counts()"
   ]
  },
  {
   "cell_type": "markdown",
   "id": "f8294be7-a674-47ba-b338-6b63a4755454",
   "metadata": {},
   "source": [
    "### 3.2 Transformation\n",
    "**Text**\n",
    "\n",
    "Text encoder. A preprocessing layer that maps text features and transforms them to integer sequences according to a dictionary based on the dataset"
   ]
  },
  {
   "cell_type": "code",
   "execution_count": 17,
   "id": "f1396a03-fe45-42c8-8f21-d9180b070d57",
   "metadata": {},
   "outputs": [],
   "source": [
    "#Vocabulary and ecoder definition\n",
    "VOCAB_SIZE = 1000\n",
    "encoder = tf.keras.layers.TextVectorization(max_tokens=VOCAB_SIZE)\n",
    "encoder.adapt(X_train.values)"
   ]
  },
  {
   "cell_type": "code",
   "execution_count": 18,
   "id": "66d1b65f-a504-458c-a9e7-1fedfa88e36c",
   "metadata": {},
   "outputs": [
    {
     "data": {
      "text/plain": [
       "<keras.layers.preprocessing.text_vectorization.TextVectorization at 0x263002405e0>"
      ]
     },
     "execution_count": 18,
     "metadata": {},
     "output_type": "execute_result"
    }
   ],
   "source": [
    "#TensorFlow object \n",
    "encoder"
   ]
  },
  {
   "cell_type": "code",
   "execution_count": 19,
   "id": "909a015b-6c13-42f7-856f-404ae40b3966",
   "metadata": {},
   "outputs": [
    {
     "data": {
      "text/plain": [
       "True"
      ]
     },
     "execution_count": 19,
     "metadata": {},
     "output_type": "execute_result"
    }
   ],
   "source": [
    "#check if data is already adapted\n",
    "encoder.is_adapted"
   ]
  },
  {
   "cell_type": "code",
   "execution_count": 20,
   "id": "1e8535f3-6a64-489e-a05f-b106b5755f3f",
   "metadata": {},
   "outputs": [
    {
     "data": {
      "text/plain": [
       "array(['', '[UNK]', 'i', 'to', 'the', 'a', 'my', 'and', 'you', 'is', 'it',\n",
       "       'for', 'in', 'of', 'im', 'on', 'me', 'so', 'have', 'that'],\n",
       "      dtype='<U13')"
      ]
     },
     "execution_count": 20,
     "metadata": {},
     "output_type": "execute_result"
    }
   ],
   "source": [
    "vocab = np.array(encoder.get_vocabulary())\n",
    "vocab[:20]"
   ]
  },
  {
   "cell_type": "code",
   "execution_count": 21,
   "id": "34b726fc-8505-4d96-a31a-c9c364a3958a",
   "metadata": {},
   "outputs": [
    {
     "name": "stdout",
     "output_type": "stream",
     "text": [
      "\u001b[1mReal text:\u001b[0m\n",
      "245880         i gotta go!  my parents r the RUDEST ppl EVER\n",
      "1524484    @arismckayl hey you! Are you still on? Anyway,...\n",
      "1536782                     @YoursTrulyXXOO thanks so much! \n",
      "Name: text, dtype: object\n",
      "\n",
      "\u001b[1mVocabulary detected:\u001b[0m\n",
      "['i' 'gotta' 'go' 'my' 'parents' 'r' 'the' '[UNK]' 'ppl' 'ever' '' '' ''\n",
      " '' '' '' '' '' '' '' '' '' '' '' '' '' '' '' '' '' '' '' '' '' '']\n",
      "['[UNK]' 'hey' 'you' 'are' 'you' 'still' 'on' 'anyway' 'did' 'you' 'get'\n",
      " 'my' 'reply' 'no' 'one' 'in' '[UNK]' '' '' '' '' '' '' '' '' '' '' '' ''\n",
      " '' '' '' '' '' '']\n",
      "['[UNK]' 'thanks' 'so' 'much' '' '' '' '' '' '' '' '' '' '' '' '' '' '' ''\n",
      " '' '' '' '' '' '' '' '' '' '' '' '' '' '' '' '']\n",
      "\n",
      "\u001b[1mEncoded text:\u001b[0m\n",
      "[[  2 283  38   6 716 388   4   1 656 210   0   0   0   0   0   0   0   0\n",
      "    0   0   0   0   0   0   0   0   0   0   0   0   0   0   0   0   0]\n",
      " [  1 152   8  36   8  68  15 587 118   8  33   6 554  39  57  12   1   0\n",
      "    0   0   0   0   0   0   0   0   0   0   0   0   0   0   0   0   0]\n",
      " [  1  77  17  84   0   0   0   0   0   0   0   0   0   0   0   0   0   0\n",
      "    0   0   0   0   0   0   0   0   0   0   0   0   0   0   0   0   0]]\n"
     ]
    }
   ],
   "source": [
    "#Example\n",
    "print(\"\\033[1m\"+\"Real text:\"+\"\\033[0m\")\n",
    "print(train_df.text[:3])\n",
    "\n",
    "encoded_example = encoder(train_df.text)[:3].numpy()\n",
    "\n",
    "print(\"\\n\"+\"\\033[1m\"+\"Vocabulary detected:\"+\"\\033[0m\")\n",
    "for n in range(3):\n",
    "    print(vocab[encoded_example[n]])\n",
    "\n",
    "print(\"\\n\"+\"\\033[1m\"+\"Encoded text:\"+\"\\033[0m\")\n",
    "print(encoded_example)"
   ]
  },
  {
   "cell_type": "markdown",
   "id": "30998772-8830-4e74-bb94-e6172f7aa33a",
   "metadata": {},
   "source": [
    "**Target**\n",
    "\n",
    "Rename the positive tweet changing target=4 to 1"
   ]
  },
  {
   "cell_type": "code",
   "execution_count": 22,
   "id": "69176747-c20a-47bd-8261-2eb3136b3ab1",
   "metadata": {},
   "outputs": [
    {
     "name": "stdout",
     "output_type": "stream",
     "text": [
      "[0 1]\n",
      "[1 0]\n",
      "[0 1]\n"
     ]
    }
   ],
   "source": [
    "#train\n",
    "y_train = y_train.replace(4,1)\n",
    "print(y_train.unique())\n",
    "\n",
    "#validation\n",
    "y_val = y_val.replace(4,1)\n",
    "print(y_val.unique())\n",
    "\n",
    "#test\n",
    "y_test = y_test.replace(4,1)\n",
    "print(y_test.unique())"
   ]
  },
  {
   "cell_type": "code",
   "execution_count": 23,
   "id": "7911ec96-fc4a-41e2-a08d-f866e57c5f7c",
   "metadata": {},
   "outputs": [
    {
     "name": "stdout",
     "output_type": "stream",
     "text": [
      "Train\n",
      "         target                                               text\n",
      "245880        0      i gotta go!  my parents r the RUDEST ppl EVER\n",
      "1524484       1  @arismckayl hey you! Are you still on? Anyway,...\n",
      "1536782       1                   @YoursTrulyXXOO thanks so much! \n",
      "1044203       1  Last Chemistry lesson for this school year!  O...\n",
      "162501        0                                          Headache \n",
      "Validation\n",
      "         target                                               text\n",
      "1311854       1  Ummmm. Who invented profanity? Why is bitch a ...\n",
      "425618        0  @IlanBr  Not yet.  Need more traffic on the ol...\n",
      "55580         0                 Bored @ the condo! Nobody is home \n",
      "1541986       1  @ddlovato i've voted for you!  Demi say me Goo...\n",
      "783661        0  @glennmarsalim come to think of it, all my awa...\n",
      "Test\n",
      "         target                                               text\n",
      "702516        0                       @MindHeartSpirit i feel you \n",
      "555376        0  @Dublins98Dave Seen loads of 98cars around coo...\n",
      "512074        0  @sn00pyj Still got an upset stomach - feel v d...\n",
      "548648        0  @aka55 Lol yeah, seriously. It takes me 30 sec...\n",
      "1241662       1  @dougiemcfly please please PLEASE say hey to @...\n"
     ]
    },
    {
     "name": "stderr",
     "output_type": "stream",
     "text": [
      "C:\\Users\\auxis\\AppData\\Local\\Temp\\ipykernel_5940\\4180812459.py:13: SettingWithCopyWarning: \n",
      "A value is trying to be set on a copy of a slice from a DataFrame.\n",
      "Try using .loc[row_indexer,col_indexer] = value instead\n",
      "\n",
      "See the caveats in the documentation: https://pandas.pydata.org/pandas-docs/stable/user_guide/indexing.html#returning-a-view-versus-a-copy\n",
      "  test_df['target'] = test_df.target.replace(4,1)\n"
     ]
    }
   ],
   "source": [
    "#replace positive to 1\n",
    "#train set\n",
    "train_df['target'] = train_df.target.replace(4,1)\n",
    "print(\"Train\")\n",
    "print(train_df.head())\n",
    "\n",
    "#Validation set\n",
    "val_df['target'] = val_df.target.replace(4,1)\n",
    "print(\"Validation\")\n",
    "print(val_df.head())\n",
    "\n",
    "#Test set\n",
    "test_df['target'] = test_df.target.replace(4,1)\n",
    "print(\"Test\")\n",
    "print(test_df.head())"
   ]
  },
  {
   "cell_type": "markdown",
   "id": "449d8c92-da94-4fe9-9d18-332cb319bb56",
   "metadata": {},
   "source": [
    "## 4. Model"
   ]
  },
  {
   "cell_type": "markdown",
   "id": "01450beb-224c-4258-b58c-346136b2cac7",
   "metadata": {},
   "source": [
    "Check how work encoder inside a model"
   ]
  },
  {
   "cell_type": "code",
   "execution_count": 24,
   "id": "42e700ca-8a03-4076-83b9-b9a901941fc0",
   "metadata": {},
   "outputs": [],
   "source": [
    "# Create the model that uses the vectorize text layer\n",
    "model = tf.keras.models.Sequential()\n",
    "\n",
    "# Start by creating an explicit input layer. It needs to have a shape of\n",
    "# (1,) (because we need to guarantee that there is exactly one string\n",
    "# input per batch), and the dtype needs to be 'string'.\n",
    "model.add(tf.keras.Input(shape=(1,), dtype=tf.string))\n",
    "\n",
    "# The first layer in our model is the vectorization layer. After this\n",
    "# layer, we have a tensor of shape (batch_size, max_len) containing vocab\n",
    "# indices.\n",
    "model.add(encoder)\n"
   ]
  },
  {
   "cell_type": "code",
   "execution_count": 25,
   "id": "d177d26b-1c49-4437-84ee-fef310323e46",
   "metadata": {},
   "outputs": [
    {
     "data": {
      "text/plain": [
       "array([[ 1,  1, 19,  1],\n",
       "       [ 1, 31,  1,  0]], dtype=int64)"
      ]
     },
     "execution_count": 25,
     "metadata": {},
     "output_type": "execute_result"
    }
   ],
   "source": [
    "# Now, the model can map strings to integers, and you can add an embedding\n",
    "# layer to map these integers to learned embeddings.\n",
    "input_data = [[\"foo qux that bar\"], [\"qux good baz\"]]\n",
    "model.predict(input_data) #it show the index in vocabulary list"
   ]
  },
  {
   "cell_type": "markdown",
   "id": "fa94888b-f388-4926-ba42-eff18881c704",
   "metadata": {},
   "source": [
    "### 4.1 Model 1\n",
    "#### Make the model"
   ]
  },
  {
   "cell_type": "code",
   "execution_count": 26,
   "id": "35bd7a64-0f05-4149-80eb-37ce76e42cb0",
   "metadata": {},
   "outputs": [],
   "source": [
    "model = Sequential()\n",
    "\n",
    "#Pre-processing\n",
    "#encoder: prepare the input \n",
    "model.add(encoder)\n",
    "#embedding: Turns positive integers (indexes) into dense vectors of fixed size.\n",
    "model.add(layers.Embedding(\n",
    "        input_dim=len(encoder.get_vocabulary()),\n",
    "        output_dim=64,\n",
    "        # Use masking to handle the variable sequence lengths\n",
    "        mask_zero=True))\n",
    "\n",
    "#Corpus\n",
    "#Bidirectional layer: This propagates the input forward and backwards through the RNN layer and then concatenates the final output.\n",
    "model.add(layers.Bidirectional(tf.keras.layers.LSTM(64)))\n",
    "# Dense layer: Densely-connected NN layer\n",
    "model.add(layers.Dense(64, activation='relu'))\n",
    "\n",
    "#Final layer: a single output from binary target\n",
    "model.add(layers.Dense(1, activation='sigmoid'))"
   ]
  },
  {
   "cell_type": "code",
   "execution_count": 27,
   "id": "b18ff264-6ae2-41bd-b948-e8e2da8421f0",
   "metadata": {},
   "outputs": [
    {
     "name": "stdout",
     "output_type": "stream",
     "text": [
      "[0.5012491]\n"
     ]
    }
   ],
   "source": [
    "# predict on a sample text without padding.\n",
    "sample_text = ('The movie was cool. The animation and the graphics '\n",
    "               'were out of this world. I would recommend this movie.')\n",
    "predictions = model.predict(np.array([sample_text]))\n",
    "print(predictions[0])"
   ]
  },
  {
   "cell_type": "code",
   "execution_count": 28,
   "id": "7c782644-d2a9-4ece-9e45-37a76a769002",
   "metadata": {},
   "outputs": [
    {
     "name": "stdout",
     "output_type": "stream",
     "text": [
      "[0.5012491]\n"
     ]
    }
   ],
   "source": [
    "# predict on a sample text with padding\n",
    "padding = \"the \" * 2000\n",
    "predictions = model.predict(np.array([sample_text, padding]))\n",
    "print(predictions[0])"
   ]
  },
  {
   "cell_type": "markdown",
   "id": "d534736a-7f15-4b69-8730-91dbf613d48b",
   "metadata": {},
   "source": [
    "**Conclusion:** \n",
    "The model is not training, that's why the predictions are the same in both cases"
   ]
  },
  {
   "cell_type": "code",
   "execution_count": 29,
   "id": "b64f5fe4-10d4-4abf-a7e2-0013d25a552e",
   "metadata": {},
   "outputs": [
    {
     "name": "stdout",
     "output_type": "stream",
     "text": [
      "Model: \"sequential_1\"\n",
      "_________________________________________________________________\n",
      " Layer (type)                Output Shape              Param #   \n",
      "=================================================================\n",
      " text_vectorization (TextVec  (None, None)             0         \n",
      " torization)                                                     \n",
      "                                                                 \n",
      " embedding (Embedding)       (None, None, 64)          64000     \n",
      "                                                                 \n",
      " bidirectional (Bidirectiona  (None, 128)              66048     \n",
      " l)                                                              \n",
      "                                                                 \n",
      " dense (Dense)               (None, 64)                8256      \n",
      "                                                                 \n",
      " dense_1 (Dense)             (None, 1)                 65        \n",
      "                                                                 \n",
      "=================================================================\n",
      "Total params: 138,369\n",
      "Trainable params: 138,369\n",
      "Non-trainable params: 0\n",
      "_________________________________________________________________\n"
     ]
    }
   ],
   "source": [
    "#compile: Configures the model for training\n",
    "model.compile(loss=tf.keras.losses.BinaryCrossentropy(), #BinaryCrossentropy: binary target\n",
    "              optimizer=tf.keras.optimizers.Adam(1e-3),\n",
    "              metrics=['accuracy'])\n",
    "model.summary()"
   ]
  },
  {
   "cell_type": "markdown",
   "id": "381dd783-35c1-429e-8f83-8df9742d0370",
   "metadata": {},
   "source": [
    "#### Training"
   ]
  },
  {
   "cell_type": "code",
   "execution_count": 30,
   "id": "57433559-ad18-490b-b969-c856b07f90fe",
   "metadata": {},
   "outputs": [
    {
     "name": "stdout",
     "output_type": "stream",
     "text": [
      "Epoch 1/10\n",
      "157/157 [==============================] - 61s 278ms/step - loss: 0.5404 - accuracy: 0.7243 - val_loss: 0.4998 - val_accuracy: 0.7572\n",
      "Epoch 2/10\n",
      "157/157 [==============================] - 39s 249ms/step - loss: 0.4796 - accuracy: 0.7673 - val_loss: 0.4973 - val_accuracy: 0.7566\n",
      "Epoch 3/10\n",
      "157/157 [==============================] - 38s 245ms/step - loss: 0.4705 - accuracy: 0.7729 - val_loss: 0.4923 - val_accuracy: 0.7610\n",
      "Epoch 4/10\n",
      "157/157 [==============================] - 36s 231ms/step - loss: 0.4609 - accuracy: 0.7762 - val_loss: 0.4896 - val_accuracy: 0.7612\n",
      "Epoch 5/10\n",
      "157/157 [==============================] - 38s 244ms/step - loss: 0.4524 - accuracy: 0.7814 - val_loss: 0.4893 - val_accuracy: 0.7650\n",
      "Epoch 6/10\n",
      "157/157 [==============================] - 38s 245ms/step - loss: 0.4451 - accuracy: 0.7854 - val_loss: 0.4857 - val_accuracy: 0.7680\n",
      "Epoch 7/10\n",
      "157/157 [==============================] - 39s 246ms/step - loss: 0.4389 - accuracy: 0.7890 - val_loss: 0.4909 - val_accuracy: 0.7672\n",
      "Epoch 8/10\n",
      "157/157 [==============================] - 38s 242ms/step - loss: 0.4325 - accuracy: 0.7922 - val_loss: 0.4851 - val_accuracy: 0.7668\n",
      "Epoch 9/10\n",
      "157/157 [==============================] - 35s 225ms/step - loss: 0.4256 - accuracy: 0.7961 - val_loss: 0.4904 - val_accuracy: 0.7664\n",
      "Epoch 10/10\n",
      "157/157 [==============================] - 35s 222ms/step - loss: 0.4188 - accuracy: 0.7992 - val_loss: 0.4932 - val_accuracy: 0.7666\n"
     ]
    }
   ],
   "source": [
    "#Trains the model for a fixed number of epochs (iterations on a dataset).\n",
    "history = model.fit(x=train_df.text, y=train_df.target,\n",
    "                    epochs=10,\n",
    "                    batch_size=500,\n",
    "                    validation_data=(val_df.text,val_df.target),\n",
    "                    validation_steps=10)"
   ]
  },
  {
   "cell_type": "code",
   "execution_count": 32,
   "id": "6c5d874c-4d5e-4593-a622-edd424225517",
   "metadata": {},
   "outputs": [],
   "source": [
    "#history plot function\n",
    "import matplotlib.pyplot as plt\n",
    "\n",
    "\n",
    "def plot_graphs(history, metric):\n",
    "    plt.plot(history.history[metric])\n",
    "    plt.plot(history.history['val_'+metric], '')\n",
    "    plt.xlabel(\"Epochs\")\n",
    "    plt.ylabel(metric)\n",
    "    plt.legend([metric, 'val_'+metric])"
   ]
  },
  {
   "cell_type": "code",
   "execution_count": 33,
   "id": "5cfa7447-fd42-4802-ad50-a68c61b8c9fc",
   "metadata": {},
   "outputs": [
    {
     "data": {
      "text/plain": [
       "(0.0, 1.0)"
      ]
     },
     "execution_count": 33,
     "metadata": {},
     "output_type": "execute_result"
    },
    {
     "data": {
      "image/png": "[encoded data removed]",
      "text/plain": [
       "<Figure size 864x360 with 2 Axes>"
      ]
     },
     "metadata": {
      "needs_background": "light"
     },
     "output_type": "display_data"
    }
   ],
   "source": [
    "#Check the evolution in accuracy and loss around the epochs\n",
    "plt.figure(figsize=(12, 5))\n",
    "plt.subplot(1, 2, 1)\n",
    "plot_graphs(history, 'accuracy')\n",
    "plt.ylim(None, 1)\n",
    "plt.subplot(1, 2, 2)\n",
    "plot_graphs(history, 'loss')\n",
    "plt.ylim(0, 1)"
   ]
  },
  {
   "cell_type": "markdown",
   "id": "5c1140af-e66d-4c8b-b4a8-cd03a79391d2",
   "metadata": {},
   "source": [
    "**Conclusion:** Validation loss is not learning well\n",
    "- Accuracy is going better in training than in validation\n",
    "- Loss function is very slow"
   ]
  },
  {
   "cell_type": "markdown",
   "id": "0712db27-2f94-4d5f-b58b-642fe0e62f9a",
   "metadata": {},
   "source": [
    "#### Testing"
   ]
  },
  {
   "cell_type": "code",
   "execution_count": 31,
   "id": "2f33b2be-8818-4d05-9c3f-4a1ae5665830",
   "metadata": {},
   "outputs": [
    {
     "name": "stdout",
     "output_type": "stream",
     "text": [
      "1500/1500 [==============================] - 22s 12ms/step - loss: 0.4908 - accuracy: 0.7658\n",
      "Test Loss: 0.4907582700252533\n",
      "Test Accuracy: 0.7657708525657654\n"
     ]
    }
   ],
   "source": [
    "#testing\n",
    "test_loss, test_acc = model.evaluate(test_df.text,test_df.target)\n",
    "\n",
    "print('Test Loss:', test_loss)\n",
    "print('Test Accuracy:', test_acc)"
   ]
  },
  {
   "cell_type": "code",
   "execution_count": 34,
   "id": "dc5ccd10-b09c-455c-a27b-0ca66dbae7cd",
   "metadata": {},
   "outputs": [
    {
     "data": {
      "text/plain": [
       "array([[0.9694481]], dtype=float32)"
      ]
     },
     "execution_count": 34,
     "metadata": {},
     "output_type": "execute_result"
    }
   ],
   "source": [
    "#Example to predict with the fitted model\n",
    "sample_text = ('The movie was cool. The animation and the graphics '\n",
    "               'were out of this world. I would recommend this movie.')\n",
    "predictions = model.predict(np.array([sample_text]))\n",
    "predictions"
   ]
  },
  {
   "cell_type": "markdown",
   "id": "885deebb-0e11-4ab4-93e2-97301679a784",
   "metadata": {},
   "source": [
    "**Conclusion:** The model is training, the prediction is not the same in both cases"
   ]
  },
  {
   "cell_type": "markdown",
   "id": "63ac095e-9a57-46f8-b63a-abfa9d4edcc8",
   "metadata": {},
   "source": [
    "#### Metrics"
   ]
  },
  {
   "cell_type": "code",
   "execution_count": 35,
   "id": "1b91d968-6c44-4670-98ac-289fb0d7baae",
   "metadata": {},
   "outputs": [
    {
     "data": {
      "text/plain": [
       "array([[0.22623155],\n",
       "       [0.713588  ],\n",
       "       [0.01222339],\n",
       "       ...,\n",
       "       [0.8136341 ],\n",
       "       [0.07353884],\n",
       "       [0.86706424]], dtype=float32)"
      ]
     },
     "execution_count": 35,
     "metadata": {},
     "output_type": "execute_result"
    }
   ],
   "source": [
    "#Prediction\n",
    "pred1 = model.predict(test_df.text)\n",
    "pred1"
   ]
  },
  {
   "cell_type": "code",
   "execution_count": 36,
   "id": "2e77582f-4155-4464-a656-f47f49a751d8",
   "metadata": {},
   "outputs": [],
   "source": [
    "#Confusion matrix viualization \n",
    "def plot_cm(labels, predictions, p=0.5):\n",
    "    cm = confusion_matrix(test_df.target, predictions > p)\n",
    "    plt.figure(figsize=(5,5))\n",
    "    sns.heatmap(cm, annot=True, fmt=\"d\")\n",
    "    plt.title('Confusion matrix @{:.2f}'.format(p))\n",
    "    plt.ylabel('Actual label')\n",
    "    plt.xlabel('Predicted label')\n",
    "\n",
    "    print('Legitimate Transactions Detected (True Negatives): ', cm[0][0], (cm[0][0]/(cm[0][0]+cm[1][0]))*100,\"%\")\n",
    "    print('Legitimate Transactions Incorrectly Detected (False Positives): ', cm[0][1])\n",
    "    print('Fraudulent Transactions Missed (False Negatives): ', cm[1][0])\n",
    "    print('Fraudulent Transactions Detected (True Positives): ', cm[1][1], (cm[1][1]/(cm[1][1]+cm[0][1]))*100,\"%\")\n",
    "    print('Total Fraudulent Transactions: ', np.sum(cm[1]))"
   ]
  },
  {
   "cell_type": "code",
   "execution_count": 37,
   "id": "634a6667-4849-495f-97e4-d002cc45bcbc",
   "metadata": {},
   "outputs": [
    {
     "name": "stdout",
     "output_type": "stream",
     "text": [
      "Legitimate Transactions Detected (True Negatives):  17562 78.20278754953912 %\n",
      "Legitimate Transactions Incorrectly Detected (False Positives):  6348\n",
      "Fraudulent Transactions Missed (False Negatives):  4895\n",
      "Fraudulent Transactions Detected (True Positives):  19195 75.14779000117449 %\n",
      "Total Fraudulent Transactions:  24090\n"
     ]
    },
    {
     "data": {
      "image/png": "[encoded data removed]",
      "text/plain": [
       "<Figure size 360x360 with 2 Axes>"
      ]
     },
     "metadata": {
      "needs_background": "light"
     },
     "output_type": "display_data"
    }
   ],
   "source": [
    "#Metrics\n",
    "plot_cm(test_df.target, pred1)"
   ]
  },
  {
   "cell_type": "markdown",
   "id": "e783b47d-705d-4d0d-bf2a-3f40498a08f6",
   "metadata": {},
   "source": [
    "**Model 1 conclusions:**\n",
    "- Model 1 is overfitting\n",
    "- Validation Accuracy is not improving if we increase epochs, but Training Accuracy does improvement   \n",
    "- Training Loss function is better than Validation Loss Function\n",
    "- The testing accuracy could be better"
   ]
  },
  {
   "cell_type": "markdown",
   "id": "bb4c44fa-67dd-4933-86e3-435a5a9a5aab",
   "metadata": {},
   "source": [
    "### 4.2 Model 2\n",
    "#### Make the model"
   ]
  },
  {
   "cell_type": "code",
   "execution_count": 38,
   "id": "72277c8f-7e8b-42ef-b272-404e865928e4",
   "metadata": {},
   "outputs": [],
   "source": [
    "model2 = Sequential()\n",
    "\n",
    "#Pre-processing\n",
    "#encoder: prepare the input \n",
    "model2.add(encoder)\n",
    "#embedding: Turns positive integers (indexes) into dense vectors of fixed size.\n",
    "model2.add(layers.Embedding(\n",
    "        input_dim=len(encoder.get_vocabulary()),\n",
    "        output_dim=64,\n",
    "        # Use masking to handle the variable sequence lengths\n",
    "        mask_zero=True))\n",
    "\n",
    "#Corpus\n",
    "#Bidirectional layer: This propagates the input forward and backwards through the RNN layer and then concatenates the final output.\n",
    "model2.add(layers.Bidirectional(tf.keras.layers.LSTM(64,return_sequences=True)))\n",
    "model2.add(layers.Bidirectional(tf.keras.layers.LSTM(32)))\n",
    "# Dense layer: Densely-connected NN layer\n",
    "model2.add(layers.Dense(64, activation='relu'))\n",
    "#Applies Dropout for regularization\n",
    "model2.add(layers.Dropout(0.5))\n",
    "\n",
    "#Final layer: a single output from binary target\n",
    "model2.add(layers.Dense(1, activation='sigmoid'))"
   ]
  },
  {
   "cell_type": "code",
   "execution_count": 39,
   "id": "3dac54ef-d883-4bb0-bf57-a39a5a64d3f1",
   "metadata": {},
   "outputs": [
    {
     "name": "stdout",
     "output_type": "stream",
     "text": [
      "Model: \"sequential_2\"\n",
      "_________________________________________________________________\n",
      " Layer (type)                Output Shape              Param #   \n",
      "=================================================================\n",
      " text_vectorization (TextVec  (None, None)             0         \n",
      " torization)                                                     \n",
      "                                                                 \n",
      " embedding_1 (Embedding)     (None, None, 64)          64000     \n",
      "                                                                 \n",
      " bidirectional_1 (Bidirectio  (None, None, 128)        66048     \n",
      " nal)                                                            \n",
      "                                                                 \n",
      " bidirectional_2 (Bidirectio  (None, 64)               41216     \n",
      " nal)                                                            \n",
      "                                                                 \n",
      " dense_2 (Dense)             (None, 64)                4160      \n",
      "                                                                 \n",
      " dropout (Dropout)           (None, 64)                0         \n",
      "                                                                 \n",
      " dense_3 (Dense)             (None, 1)                 65        \n",
      "                                                                 \n",
      "=================================================================\n",
      "Total params: 175,489\n",
      "Trainable params: 175,489\n",
      "Non-trainable params: 0\n",
      "_________________________________________________________________\n"
     ]
    }
   ],
   "source": [
    "model2.compile(loss=tf.keras.losses.BinaryCrossentropy(),\n",
    "              optimizer=tf.keras.optimizers.Adam(1e-4),\n",
    "              metrics=['accuracy'])\n",
    "model2.summary()"
   ]
  },
  {
   "cell_type": "markdown",
   "id": "3c09840e-fa8e-4d7a-b1a4-2f2f32576c6f",
   "metadata": {},
   "source": [
    "#### Training"
   ]
  },
  {
   "cell_type": "code",
   "execution_count": 40,
   "id": "2724005e-304d-4d70-ac51-cc7fd75752b6",
   "metadata": {},
   "outputs": [
    {
     "name": "stdout",
     "output_type": "stream",
     "text": [
      "Epoch 1/10\n",
      "79/79 [==============================] - 100s 913ms/step - loss: 0.6880 - accuracy: 0.6009 - val_loss: 0.6758 - val_accuracy: 0.6439\n",
      "Epoch 2/10\n",
      "79/79 [==============================] - 70s 887ms/step - loss: 0.6294 - accuracy: 0.6872 - val_loss: 0.5806 - val_accuracy: 0.7261\n",
      "Epoch 3/10\n",
      "79/79 [==============================] - 76s 958ms/step - loss: 0.5555 - accuracy: 0.7485 - val_loss: 0.5392 - val_accuracy: 0.7554\n",
      "Epoch 4/10\n",
      "79/79 [==============================] - 74s 934ms/step - loss: 0.5262 - accuracy: 0.7632 - val_loss: 0.5190 - val_accuracy: 0.7599\n",
      "Epoch 5/10\n",
      "79/79 [==============================] - 77s 979ms/step - loss: 0.5088 - accuracy: 0.7667 - val_loss: 0.5063 - val_accuracy: 0.7632\n",
      "Epoch 6/10\n",
      "79/79 [==============================] - 75s 955ms/step - loss: 0.4975 - accuracy: 0.7695 - val_loss: 0.4986 - val_accuracy: 0.7644\n",
      "Epoch 7/10\n",
      "79/79 [==============================] - 77s 977ms/step - loss: 0.4908 - accuracy: 0.7706 - val_loss: 0.4940 - val_accuracy: 0.7654\n",
      "Epoch 8/10\n",
      "79/79 [==============================] - 79s 997ms/step - loss: 0.4863 - accuracy: 0.7720 - val_loss: 0.4913 - val_accuracy: 0.7668\n",
      "Epoch 9/10\n",
      "79/79 [==============================] - 79s 996ms/step - loss: 0.4837 - accuracy: 0.7734 - val_loss: 0.4886 - val_accuracy: 0.7675\n",
      "Epoch 10/10\n",
      "79/79 [==============================] - 76s 961ms/step - loss: 0.4809 - accuracy: 0.7751 - val_loss: 0.4875 - val_accuracy: 0.7679\n"
     ]
    }
   ],
   "source": [
    "history2 = model2.fit(x=train_df.text, y=train_df.target,\n",
    "                     epochs=10,\n",
    "                     batch_size=1000,\n",
    "                     validation_data=(val_df.text,val_df.target),\n",
    "                     validation_steps=30)"
   ]
  },
  {
   "cell_type": "code",
   "execution_count": 43,
   "id": "c2861353-3d10-4fbe-a50e-495bf91ffe8a",
   "metadata": {},
   "outputs": [
    {
     "data": {
      "image/png": "[encoded data removed]",
      "text/plain": [
       "<Figure size 1152x432 with 2 Axes>"
      ]
     },
     "metadata": {
      "needs_background": "light"
     },
     "output_type": "display_data"
    }
   ],
   "source": [
    "plt.figure(figsize=(16, 6))\n",
    "plt.subplot(1, 2, 1)\n",
    "plot_graphs(history2, 'accuracy')\n",
    "plt.subplot(1, 2, 2)\n",
    "plot_graphs(history2, 'loss')"
   ]
  },
  {
   "cell_type": "markdown",
   "id": "db22360d-0fa2-40f0-aa12-56b202756fc2",
   "metadata": {},
   "source": [
    "#### Testing"
   ]
  },
  {
   "cell_type": "code",
   "execution_count": 41,
   "id": "e711c19e-5f3d-4618-903f-12fdceb97711",
   "metadata": {},
   "outputs": [
    {
     "name": "stdout",
     "output_type": "stream",
     "text": [
      "1500/1500 [==============================] - 40s 20ms/step - loss: 0.4898 - accuracy: 0.7648\n",
      "Test Loss: 0.4898202419281006\n",
      "Test Accuracy: 0.7648333311080933\n"
     ]
    }
   ],
   "source": [
    "#testing\n",
    "test_loss, test_acc = model2.evaluate(test_df.text,test_df.target)\n",
    "\n",
    "print('Test Loss:', test_loss)\n",
    "print('Test Accuracy:', test_acc)"
   ]
  },
  {
   "cell_type": "markdown",
   "id": "9ec33b59-291f-4da2-8fab-d00be477b16b",
   "metadata": {},
   "source": [
    "#### Metrics"
   ]
  },
  {
   "cell_type": "code",
   "execution_count": 44,
   "id": "bdafb68d-d6a9-46f2-90b4-5225b01e0903",
   "metadata": {},
   "outputs": [
    {
     "data": {
      "text/plain": [
       "array([[0.4670565 ],\n",
       "       [0.76753676],\n",
       "       [0.08926216],\n",
       "       ...,\n",
       "       [0.96273583],\n",
       "       [0.19381869],\n",
       "       [0.8583961 ]], dtype=float32)"
      ]
     },
     "execution_count": 44,
     "metadata": {},
     "output_type": "execute_result"
    }
   ],
   "source": [
    "#Prediction\n",
    "pred2 = model2.predict(test_df.text)\n",
    "pred2"
   ]
  },
  {
   "cell_type": "code",
   "execution_count": 45,
   "id": "cfea7f17-a3a1-40e8-93cb-fd02374646ba",
   "metadata": {},
   "outputs": [
    {
     "name": "stdout",
     "output_type": "stream",
     "text": [
      "Legitimate Transactions Detected (True Negatives):  18358 76.19324313106998 %\n",
      "Legitimate Transactions Incorrectly Detected (False Positives):  5552\n",
      "Fraudulent Transactions Missed (False Negatives):  5736\n",
      "Fraudulent Transactions Detected (True Positives):  18354 76.77570484397222 %\n",
      "Total Fraudulent Transactions:  24090\n"
     ]
    },
    {
     "data": {
      "image/png": "[encoded data removed]",
      "text/plain": [
       "<Figure size 360x360 with 2 Axes>"
      ]
     },
     "metadata": {
      "needs_background": "light"
     },
     "output_type": "display_data"
    }
   ],
   "source": [
    "#Metrics\n",
    "plot_cm(test_df.target, pred2)"
   ]
  },
  {
   "cell_type": "markdown",
   "id": "b9364b36-a7ca-494f-b03e-787a177a43cd",
   "metadata": {},
   "source": [
    "**Model 2 conclusions:**\n",
    "- The Loss Function plot behavior is very good, because the training and validation curves are descending in both cases\n",
    "- Around epoch number 5, validation accuracy is less than training accuracy\n",
    "- Testing accuracy is better than accuracy in Model 1"
   ]
  },
  {
   "cell_type": "markdown",
   "id": "df940166-12b6-42cb-b70f-c8f7aade7d55",
   "metadata": {},
   "source": [
    "### 4.3 Model 1 with grid search"
   ]
  },
  {
   "cell_type": "code",
   "execution_count": 46,
   "id": "0c39973e-03a3-4bd3-996a-173f97644aa0",
   "metadata": {},
   "outputs": [],
   "source": [
    "def make_model( dense_units = 64\n",
    "               , dropout = 0.5\n",
    "               , lr = 1e-4\n",
    "               , verbose = 1):\n",
    "    \n",
    "\n",
    "    model = Sequential()\n",
    "\n",
    "    #Pre-processing\n",
    "    #encoder: prepare the input \n",
    "    model.add(encoder)\n",
    "    #embedding: Turns positive integers (indexes) into dense vectors of fixed size.\n",
    "    model.add(layers.Embedding(\n",
    "            input_dim=len(encoder.get_vocabulary()),\n",
    "            output_dim=64,\n",
    "            # Use masking to handle the variable sequence lengths\n",
    "            mask_zero=True))\n",
    "\n",
    "    #Corpus\n",
    "    #Bidirectional layer: This propagates the input forward and backwards through the RNN layer and then concatenates the final output.\n",
    "    model.add(layers.Bidirectional(tf.keras.layers.LSTM(64,return_sequences=True)))\n",
    "    model.add(layers.Bidirectional(tf.keras.layers.LSTM(32)))\n",
    "    # Dense layer: Densely-connected NN layer\n",
    "    model.add(layers.Dense(dense_units, activation='relu'))\n",
    "    #Applies Dropout for regularization\n",
    "    model.add(layers.Dropout(dropout))\n",
    "\n",
    "    #Final layer: a single output from binary target\n",
    "    model.add(layers.Dense(1, activation='sigmoid'))\n",
    "    \n",
    "    #compile: Configures the model for training\n",
    "    model.compile(loss=tf.keras.losses.BinaryCrossentropy(), #BinaryCrossentropy: binary target\n",
    "                  optimizer=tf.keras.optimizers.Adam(lr),\n",
    "                  metrics=['accuracy'])\n",
    "    model.summary()\n",
    "\n",
    "    return model"
   ]
  },
  {
   "cell_type": "code",
   "execution_count": 47,
   "id": "d07d9739-0b51-455d-a9c1-b5dd785c9103",
   "metadata": {},
   "outputs": [
    {
     "data": {
      "text/plain": [
       "dict_keys(['dense_units', 'dropout', 'lr'])"
      ]
     },
     "execution_count": 47,
     "metadata": {},
     "output_type": "execute_result"
    }
   ],
   "source": [
    "#list to perform the grid search\n",
    "dense_units = [32,64]\n",
    "dropout = [0.2, 0.5]\n",
    "lr = [1e-4,1e-3]\n",
    "\n",
    "\n",
    "import itertools\n",
    "\n",
    "param_grid = dict(dense_units = dense_units\n",
    "                  , dropout = dropout\n",
    "                  , lr=lr\n",
    "                 )\n",
    "param_grid.keys()"
   ]
  },
  {
   "cell_type": "code",
   "execution_count": 48,
   "id": "35d6e7b2-ff93-4be2-943c-a6b0f697d94f",
   "metadata": {},
   "outputs": [
    {
     "name": "stdout",
     "output_type": "stream",
     "text": [
      "Model: \"sequential_3\"\n",
      "_________________________________________________________________\n",
      " Layer (type)                Output Shape              Param #   \n",
      "=================================================================\n",
      " text_vectorization (TextVec  (None, None)             0         \n",
      " torization)                                                     \n",
      "                                                                 \n",
      " embedding_2 (Embedding)     (None, None, 64)          64000     \n",
      "                                                                 \n",
      " bidirectional_3 (Bidirectio  (None, None, 128)        66048     \n",
      " nal)                                                            \n",
      "                                                                 \n",
      " bidirectional_4 (Bidirectio  (None, 64)               41216     \n",
      " nal)                                                            \n",
      "                                                                 \n",
      " dense_4 (Dense)             (None, 10)                650       \n",
      "                                                                 \n",
      " dropout_1 (Dropout)         (None, 10)                0         \n",
      "                                                                 \n",
      " dense_5 (Dense)             (None, 1)                 11        \n",
      "                                                                 \n",
      "=================================================================\n",
      "Total params: 171,925\n",
      "Trainable params: 171,925\n",
      "Non-trainable params: 0\n",
      "_________________________________________________________________\n"
     ]
    }
   ],
   "source": [
    "#Model Definition\n",
    "model3 = make_model( dense_units = 10\n",
    "                    ,dropout = 0.5\n",
    "                    ,lr = 1e-3)"
   ]
  },
  {
   "cell_type": "markdown",
   "id": "83e9b630-584d-403c-8105-cab63dc036d5",
   "metadata": {},
   "source": [
    "#### dense_units\n",
    "Tuning the number of nodes in layer before the last one"
   ]
  },
  {
   "cell_type": "code",
   "execution_count": 49,
   "id": "cf75de78-719f-41f8-8db5-7984c0d02bd0",
   "metadata": {},
   "outputs": [
    {
     "data": {
      "text/plain": [
       "dict_keys(['dense_units', 'dropout', 'lr'])"
      ]
     },
     "execution_count": 49,
     "metadata": {},
     "output_type": "execute_result"
    }
   ],
   "source": [
    "#list to perform the grid search\n",
    "dense_units = [16,32,64]\n",
    "dropout = [0.5]\n",
    "lr = [1e-4]\n",
    "\n",
    "\n",
    "import itertools\n",
    "\n",
    "param_grid = dict(dense_units = dense_units\n",
    "                  , dropout = dropout\n",
    "                  , lr=lr\n",
    "                 )\n",
    "param_grid.keys()"
   ]
  },
  {
   "cell_type": "code",
   "execution_count": 50,
   "id": "2724e994-136d-469f-a88a-9e89634f4c87",
   "metadata": {},
   "outputs": [
    {
     "name": "stdout",
     "output_type": "stream",
     "text": [
      "Proposed 3 models\n",
      "Model: \"sequential_4\"\n",
      "_________________________________________________________________\n",
      " Layer (type)                Output Shape              Param #   \n",
      "=================================================================\n",
      " text_vectorization (TextVec  (None, None)             0         \n",
      " torization)                                                     \n",
      "                                                                 \n",
      " embedding_3 (Embedding)     (None, None, 64)          64000     \n",
      "                                                                 \n",
      " bidirectional_5 (Bidirectio  (None, None, 128)        66048     \n",
      " nal)                                                            \n",
      "                                                                 \n",
      " bidirectional_6 (Bidirectio  (None, 64)               41216     \n",
      " nal)                                                            \n",
      "                                                                 \n",
      " dense_6 (Dense)             (None, 16)                1040      \n",
      "                                                                 \n",
      " dropout_2 (Dropout)         (None, 16)                0         \n",
      "                                                                 \n",
      " dense_7 (Dense)             (None, 1)                 17        \n",
      "                                                                 \n",
      "=================================================================\n",
      "Total params: 172,321\n",
      "Trainable params: 172,321\n",
      "Non-trainable params: 0\n",
      "_________________________________________________________________\n",
      "Epoch 1/10\n",
      "79/79 [==============================] - 129s 1s/step - loss: 0.6911 - accuracy: 0.5416 - val_loss: 0.6862 - val_accuracy: 0.6346\n",
      "Epoch 2/10\n",
      "79/79 [==============================] - 104s 1s/step - loss: 0.6632 - accuracy: 0.6390 - val_loss: 0.6218 - val_accuracy: 0.7060\n",
      "Epoch 3/10\n",
      "79/79 [==============================] - 113s 1s/step - loss: 0.6015 - accuracy: 0.7245 - val_loss: 0.5675 - val_accuracy: 0.7480\n",
      "Epoch 4/10\n",
      "79/79 [==============================] - 116s 1s/step - loss: 0.5652 - accuracy: 0.7522 - val_loss: 0.5418 - val_accuracy: 0.7591\n",
      "Epoch 5/10\n",
      "79/79 [==============================] - 118s 2s/step - loss: 0.5449 - accuracy: 0.7590 - val_loss: 0.5244 - val_accuracy: 0.7629\n",
      "Epoch 6/10\n",
      "79/79 [==============================] - 118s 1s/step - loss: 0.5292 - accuracy: 0.7651 - val_loss: 0.5101 - val_accuracy: 0.7656\n",
      "Epoch 7/10\n",
      "79/79 [==============================] - 116s 1s/step - loss: 0.5189 - accuracy: 0.7671 - val_loss: 0.5020 - val_accuracy: 0.7647\n",
      "Epoch 8/10\n",
      "79/79 [==============================] - 114s 1s/step - loss: 0.5107 - accuracy: 0.7700 - val_loss: 0.4973 - val_accuracy: 0.7658\n",
      "Epoch 9/10\n",
      "79/79 [==============================] - 112s 1s/step - loss: 0.5061 - accuracy: 0.7717 - val_loss: 0.4937 - val_accuracy: 0.7654\n",
      "Epoch 10/10\n",
      "79/79 [==============================] - 93s 1s/step - loss: 0.5030 - accuracy: 0.7736 - val_loss: 0.4919 - val_accuracy: 0.7658\n",
      "Model: \"sequential_5\"\n",
      "_________________________________________________________________\n",
      " Layer (type)                Output Shape              Param #   \n",
      "=================================================================\n",
      " text_vectorization (TextVec  (None, None)             0         \n",
      " torization)                                                     \n",
      "                                                                 \n",
      " embedding_4 (Embedding)     (None, None, 64)          64000     \n",
      "                                                                 \n",
      " bidirectional_7 (Bidirectio  (None, None, 128)        66048     \n",
      " nal)                                                            \n",
      "                                                                 \n",
      " bidirectional_8 (Bidirectio  (None, 64)               41216     \n",
      " nal)                                                            \n",
      "                                                                 \n",
      " dense_8 (Dense)             (None, 32)                2080      \n",
      "                                                                 \n",
      " dropout_3 (Dropout)         (None, 32)                0         \n",
      "                                                                 \n",
      " dense_9 (Dense)             (None, 1)                 33        \n",
      "                                                                 \n",
      "=================================================================\n",
      "Total params: 173,377\n",
      "Trainable params: 173,377\n",
      "Non-trainable params: 0\n",
      "_________________________________________________________________\n",
      "Epoch 1/10\n",
      "79/79 [==============================] - 74s 781ms/step - loss: 0.6901 - accuracy: 0.5830 - val_loss: 0.6829 - val_accuracy: 0.6420\n",
      "Epoch 2/10\n",
      "79/79 [==============================] - 73s 931ms/step - loss: 0.6505 - accuracy: 0.6676 - val_loss: 0.6038 - val_accuracy: 0.7032\n",
      "Epoch 3/10\n",
      "79/79 [==============================] - 107s 1s/step - loss: 0.5736 - accuracy: 0.7396 - val_loss: 0.5489 - val_accuracy: 0.7507\n",
      "Epoch 4/10\n",
      "79/79 [==============================] - 109s 1s/step - loss: 0.5392 - accuracy: 0.7597 - val_loss: 0.5257 - val_accuracy: 0.7603\n",
      "Epoch 5/10\n",
      "79/79 [==============================] - 110s 1s/step - loss: 0.5210 - accuracy: 0.7641 - val_loss: 0.5109 - val_accuracy: 0.7638\n",
      "Epoch 6/10\n",
      "79/79 [==============================] - 119s 2s/step - loss: 0.5083 - accuracy: 0.7685 - val_loss: 0.5017 - val_accuracy: 0.7656\n",
      "Epoch 7/10\n",
      "79/79 [==============================] - 109s 1s/step - loss: 0.5000 - accuracy: 0.7703 - val_loss: 0.4965 - val_accuracy: 0.7667\n",
      "Epoch 8/10\n",
      "79/79 [==============================] - 114s 1s/step - loss: 0.4955 - accuracy: 0.7715 - val_loss: 0.4934 - val_accuracy: 0.7665\n",
      "Epoch 9/10\n",
      "79/79 [==============================] - 117s 1s/step - loss: 0.4926 - accuracy: 0.7723 - val_loss: 0.4916 - val_accuracy: 0.7668\n",
      "Epoch 10/10\n",
      "79/79 [==============================] - 112s 1s/step - loss: 0.4884 - accuracy: 0.7733 - val_loss: 0.4901 - val_accuracy: 0.7668\n",
      "Model: \"sequential_6\"\n",
      "_________________________________________________________________\n",
      " Layer (type)                Output Shape              Param #   \n",
      "=================================================================\n",
      " text_vectorization (TextVec  (None, None)             0         \n",
      " torization)                                                     \n",
      "                                                                 \n",
      " embedding_5 (Embedding)     (None, None, 64)          64000     \n",
      "                                                                 \n",
      " bidirectional_9 (Bidirectio  (None, None, 128)        66048     \n",
      " nal)                                                            \n",
      "                                                                 \n",
      " bidirectional_10 (Bidirecti  (None, 64)               41216     \n",
      " onal)                                                           \n",
      "                                                                 \n",
      " dense_10 (Dense)            (None, 64)                4160      \n",
      "                                                                 \n",
      " dropout_4 (Dropout)         (None, 64)                0         \n",
      "                                                                 \n",
      " dense_11 (Dense)            (None, 1)                 65        \n",
      "                                                                 \n",
      "=================================================================\n",
      "Total params: 175,489\n",
      "Trainable params: 175,489\n",
      "Non-trainable params: 0\n",
      "_________________________________________________________________\n",
      "Epoch 1/10\n",
      "79/79 [==============================] - 155s 2s/step - loss: 0.6902 - accuracy: 0.5776 - val_loss: 0.6834 - val_accuracy: 0.6285\n",
      "Epoch 2/10\n",
      "79/79 [==============================] - 136s 2s/step - loss: 0.6457 - accuracy: 0.6715 - val_loss: 0.5907 - val_accuracy: 0.7170\n",
      "Epoch 3/10\n",
      "79/79 [==============================] - 145s 2s/step - loss: 0.5614 - accuracy: 0.7423 - val_loss: 0.5412 - val_accuracy: 0.7535\n",
      "Epoch 4/10\n",
      "79/79 [==============================] - 136s 2s/step - loss: 0.5262 - accuracy: 0.7614 - val_loss: 0.5178 - val_accuracy: 0.7612\n",
      "Epoch 5/10\n",
      "79/79 [==============================] - 147s 2s/step - loss: 0.5077 - accuracy: 0.7671 - val_loss: 0.5039 - val_accuracy: 0.7639\n",
      "Epoch 6/10\n",
      "79/79 [==============================] - 138s 2s/step - loss: 0.4971 - accuracy: 0.7695 - val_loss: 0.4970 - val_accuracy: 0.7651\n",
      "Epoch 7/10\n",
      "79/79 [==============================] - 155s 2s/step - loss: 0.4910 - accuracy: 0.7721 - val_loss: 0.4936 - val_accuracy: 0.7669\n",
      "Epoch 8/10\n",
      "79/79 [==============================] - 149s 2s/step - loss: 0.4879 - accuracy: 0.7724 - val_loss: 0.4918 - val_accuracy: 0.7658\n",
      "Epoch 9/10\n",
      "79/79 [==============================] - 148s 2s/step - loss: 0.4838 - accuracy: 0.7735 - val_loss: 0.4899 - val_accuracy: 0.7667\n",
      "Epoch 10/10\n",
      "79/79 [==============================] - 155s 2s/step - loss: 0.4815 - accuracy: 0.7740 - val_loss: 0.4884 - val_accuracy: 0.7675\n"
     ]
    }
   ],
   "source": [
    "#iteration \n",
    "keys = param_grid.keys()\n",
    "values = (param_grid[key] for key in keys)\n",
    "param_grid = [dict(zip(keys, param_grid)) for param_grid in itertools.product(*values)]\n",
    "\n",
    "print('Proposed ' + str(len(param_grid)) + ' models')\n",
    "\n",
    "for j in range(0, len(param_grid)):\n",
    "    dense_units = param_grid[j].get(\"dense_units\")\n",
    "    dropout = param_grid[j].get(\"dropout\")\n",
    "    lr = param_grid[j].get(\"lr\")\n",
    "\n",
    "    model3 = make_model( dense_units = dense_units\n",
    "                       , dropout = dropout\n",
    "                       , lr = lr)\n",
    "    \n",
    "    history3 = model3.fit(x=train_df.text, y=train_df.target\n",
    "                         ,epochs=10\n",
    "                         ,batch_size=1000\n",
    "                         ,validation_data=(val_df.text,val_df.target)\n",
    "                         ,validation_steps=30)\n",
    "    \n",
    "    accuracy = pd.DataFrame.from_dict(history3.history)['accuracy'].iloc[-1]\n",
    "    param_grid[j].update( {\"accuracy\":accuracy})\n",
    "    \n",
    "results = pd.DataFrame(param_grid)"
   ]
  },
  {
   "cell_type": "code",
   "execution_count": 51,
   "id": "e7c0dcca-1629-45a1-b41e-d6bbe311053e",
   "metadata": {},
   "outputs": [
    {
     "data": {
      "text/html": [
       "<div>\n",
       "<style scoped>\n",
       "    .dataframe tbody tr th:only-of-type {\n",
       "        vertical-align: middle;\n",
       "    }\n",
       "\n",
       "    .dataframe tbody tr th {\n",
       "        vertical-align: top;\n",
       "    }\n",
       "\n",
       "    .dataframe thead th {\n",
       "        text-align: right;\n",
       "    }\n",
       "</style>\n",
       "<table border=\"1\" class=\"dataframe\">\n",
       "  <thead>\n",
       "    <tr style=\"text-align: right;\">\n",
       "      <th></th>\n",
       "      <th>dense_units</th>\n",
       "      <th>dropout</th>\n",
       "      <th>lr</th>\n",
       "      <th>accuracy</th>\n",
       "    </tr>\n",
       "  </thead>\n",
       "  <tbody>\n",
       "    <tr>\n",
       "      <th>2</th>\n",
       "      <td>64</td>\n",
       "      <td>0.5</td>\n",
       "      <td>0.0001</td>\n",
       "      <td>0.774043</td>\n",
       "    </tr>\n",
       "    <tr>\n",
       "      <th>0</th>\n",
       "      <td>16</td>\n",
       "      <td>0.5</td>\n",
       "      <td>0.0001</td>\n",
       "      <td>0.773597</td>\n",
       "    </tr>\n",
       "    <tr>\n",
       "      <th>1</th>\n",
       "      <td>32</td>\n",
       "      <td>0.5</td>\n",
       "      <td>0.0001</td>\n",
       "      <td>0.773329</td>\n",
       "    </tr>\n",
       "  </tbody>\n",
       "</table>\n",
       "</div>"
      ],
      "text/plain": [
       "   dense_units  dropout      lr  accuracy\n",
       "2           64      0.5  0.0001  0.774043\n",
       "0           16      0.5  0.0001  0.773597\n",
       "1           32      0.5  0.0001  0.773329"
      ]
     },
     "execution_count": 51,
     "metadata": {},
     "output_type": "execute_result"
    }
   ],
   "source": [
    "#grid search results\n",
    "results.sort_values(['accuracy'],ascending = False)"
   ]
  },
  {
   "cell_type": "markdown",
   "id": "fab2069e-d948-4eb7-a003-2604ba6abe56",
   "metadata": {},
   "source": [
    "**Conclusions:**\n",
    "- When we tunning the number of nodes, the accuracy is not changing too much\n",
    "- If we check the loss function in all models, at the end, val_loss(validation) is not very different from the training loss"
   ]
  },
  {
   "cell_type": "markdown",
   "id": "b51185fd-652e-41ec-bbbc-c572d330d252",
   "metadata": {},
   "source": [
    "#### dropout\n",
    "Tuning the dropout percent for the regularization"
   ]
  },
  {
   "cell_type": "code",
   "execution_count": 52,
   "id": "8e51749d-8a59-4a6d-b347-adb26f61d1b0",
   "metadata": {},
   "outputs": [
    {
     "data": {
      "text/plain": [
       "dict_keys(['dense_units', 'dropout', 'lr'])"
      ]
     },
     "execution_count": 52,
     "metadata": {},
     "output_type": "execute_result"
    }
   ],
   "source": [
    "#list to perform the grid search\n",
    "dense_units = [32]\n",
    "dropout = [0.1, 0.3, 0.5]\n",
    "lr = [1e-3]\n",
    "\n",
    "\n",
    "import itertools\n",
    "\n",
    "param_grid = dict(dense_units = dense_units\n",
    "                  , dropout = dropout\n",
    "                  , lr=lr\n",
    "                 )\n",
    "param_grid.keys()"
   ]
  },
  {
   "cell_type": "code",
   "execution_count": 53,
   "id": "1ea94094-08d3-4ac7-bc5a-1450b37238ba",
   "metadata": {},
   "outputs": [
    {
     "name": "stdout",
     "output_type": "stream",
     "text": [
      "Proposed 3 models\n",
      "Model: \"sequential_7\"\n",
      "_________________________________________________________________\n",
      " Layer (type)                Output Shape              Param #   \n",
      "=================================================================\n",
      " text_vectorization (TextVec  (None, None)             0         \n",
      " torization)                                                     \n",
      "                                                                 \n",
      " embedding_6 (Embedding)     (None, None, 64)          64000     \n",
      "                                                                 \n",
      " bidirectional_11 (Bidirecti  (None, None, 128)        66048     \n",
      " onal)                                                           \n",
      "                                                                 \n",
      " bidirectional_12 (Bidirecti  (None, 64)               41216     \n",
      " onal)                                                           \n",
      "                                                                 \n",
      " dense_12 (Dense)            (None, 32)                2080      \n",
      "                                                                 \n",
      " dropout_5 (Dropout)         (None, 32)                0         \n",
      "                                                                 \n",
      " dense_13 (Dense)            (None, 1)                 33        \n",
      "                                                                 \n",
      "=================================================================\n",
      "Total params: 173,377\n",
      "Trainable params: 173,377\n",
      "Non-trainable params: 0\n",
      "_________________________________________________________________\n",
      "Epoch 1/10\n",
      "79/79 [==============================] - 177s 2s/step - loss: 0.5776 - accuracy: 0.7046 - val_loss: 0.4960 - val_accuracy: 0.7631\n",
      "Epoch 2/10\n",
      "79/79 [==============================] - 178s 2s/step - loss: 0.4852 - accuracy: 0.7669 - val_loss: 0.4900 - val_accuracy: 0.7624\n",
      "Epoch 3/10\n",
      "79/79 [==============================] - 188s 2s/step - loss: 0.4770 - accuracy: 0.7705 - val_loss: 0.4819 - val_accuracy: 0.7696\n",
      "Epoch 4/10\n",
      "79/79 [==============================] - 179s 2s/step - loss: 0.4712 - accuracy: 0.7729 - val_loss: 0.4794 - val_accuracy: 0.7697\n",
      "Epoch 5/10\n",
      "79/79 [==============================] - 174s 2s/step - loss: 0.4678 - accuracy: 0.7752 - val_loss: 0.4789 - val_accuracy: 0.7697\n",
      "Epoch 6/10\n",
      "79/79 [==============================] - 189s 2s/step - loss: 0.4649 - accuracy: 0.7756 - val_loss: 0.4792 - val_accuracy: 0.7696\n",
      "Epoch 7/10\n",
      "79/79 [==============================] - 183s 2s/step - loss: 0.4596 - accuracy: 0.7784 - val_loss: 0.4780 - val_accuracy: 0.7705\n",
      "Epoch 8/10\n",
      "79/79 [==============================] - 164s 2s/step - loss: 0.4538 - accuracy: 0.7816 - val_loss: 0.4767 - val_accuracy: 0.7715\n",
      "Epoch 9/10\n",
      "79/79 [==============================] - 188s 2s/step - loss: 0.4496 - accuracy: 0.7840 - val_loss: 0.4779 - val_accuracy: 0.7721\n",
      "Epoch 10/10\n",
      "79/79 [==============================] - 177s 2s/step - loss: 0.4438 - accuracy: 0.7869 - val_loss: 0.4819 - val_accuracy: 0.7696\n",
      "Model: \"sequential_8\"\n",
      "_________________________________________________________________\n",
      " Layer (type)                Output Shape              Param #   \n",
      "=================================================================\n",
      " text_vectorization (TextVec  (None, None)             0         \n",
      " torization)                                                     \n",
      "                                                                 \n",
      " embedding_7 (Embedding)     (None, None, 64)          64000     \n",
      "                                                                 \n",
      " bidirectional_13 (Bidirecti  (None, None, 128)        66048     \n",
      " onal)                                                           \n",
      "                                                                 \n",
      " bidirectional_14 (Bidirecti  (None, 64)               41216     \n",
      " onal)                                                           \n",
      "                                                                 \n",
      " dense_14 (Dense)            (None, 32)                2080      \n",
      "                                                                 \n",
      " dropout_6 (Dropout)         (None, 32)                0         \n",
      "                                                                 \n",
      " dense_15 (Dense)            (None, 1)                 33        \n",
      "                                                                 \n",
      "=================================================================\n",
      "Total params: 173,377\n",
      "Trainable params: 173,377\n",
      "Non-trainable params: 0\n",
      "_________________________________________________________________\n",
      "Epoch 1/10\n",
      "79/79 [==============================] - 187s 2s/step - loss: 0.5822 - accuracy: 0.7008 - val_loss: 0.4974 - val_accuracy: 0.7608\n",
      "Epoch 2/10\n",
      "79/79 [==============================] - 216s 3s/step - loss: 0.4890 - accuracy: 0.7673 - val_loss: 0.4860 - val_accuracy: 0.7671\n",
      "Epoch 3/10\n",
      "79/79 [==============================] - 201s 3s/step - loss: 0.4799 - accuracy: 0.7704 - val_loss: 0.4816 - val_accuracy: 0.7686\n",
      "Epoch 4/10\n",
      "79/79 [==============================] - 216s 3s/step - loss: 0.4738 - accuracy: 0.7729 - val_loss: 0.4819 - val_accuracy: 0.7701\n",
      "Epoch 5/10\n",
      "79/79 [==============================] - 231s 3s/step - loss: 0.4706 - accuracy: 0.7750 - val_loss: 0.4801 - val_accuracy: 0.7684\n",
      "Epoch 6/10\n",
      "79/79 [==============================] - 208s 3s/step - loss: 0.4655 - accuracy: 0.7782 - val_loss: 0.4827 - val_accuracy: 0.7695\n",
      "Epoch 7/10\n",
      "79/79 [==============================] - 230s 3s/step - loss: 0.4596 - accuracy: 0.7808 - val_loss: 0.4766 - val_accuracy: 0.7705\n",
      "Epoch 8/10\n",
      "79/79 [==============================] - 220s 3s/step - loss: 0.4522 - accuracy: 0.7829 - val_loss: 0.4772 - val_accuracy: 0.7722\n",
      "Epoch 9/10\n",
      "79/79 [==============================] - 214s 3s/step - loss: 0.4469 - accuracy: 0.7862 - val_loss: 0.4781 - val_accuracy: 0.7713\n",
      "Epoch 10/10\n",
      "79/79 [==============================] - 231s 3s/step - loss: 0.4403 - accuracy: 0.7888 - val_loss: 0.4808 - val_accuracy: 0.7689\n",
      "Model: \"sequential_9\"\n",
      "_________________________________________________________________\n",
      " Layer (type)                Output Shape              Param #   \n",
      "=================================================================\n",
      " text_vectorization (TextVec  (None, None)             0         \n",
      " torization)                                                     \n",
      "                                                                 \n",
      " embedding_8 (Embedding)     (None, None, 64)          64000     \n",
      "                                                                 \n",
      " bidirectional_15 (Bidirecti  (None, None, 128)        66048     \n",
      " onal)                                                           \n",
      "                                                                 \n",
      " bidirectional_16 (Bidirecti  (None, 64)               41216     \n",
      " onal)                                                           \n",
      "                                                                 \n",
      " dense_16 (Dense)            (None, 32)                2080      \n",
      "                                                                 \n",
      " dropout_7 (Dropout)         (None, 32)                0         \n",
      "                                                                 \n",
      " dense_17 (Dense)            (None, 1)                 33        \n",
      "                                                                 \n",
      "=================================================================\n",
      "Total params: 173,377\n",
      "Trainable params: 173,377\n",
      "Non-trainable params: 0\n",
      "_________________________________________________________________\n",
      "Epoch 1/10\n",
      "79/79 [==============================] - 252s 3s/step - loss: 0.5910 - accuracy: 0.6933 - val_loss: 0.5081 - val_accuracy: 0.7558\n",
      "Epoch 2/10\n",
      "79/79 [==============================] - 227s 3s/step - loss: 0.4948 - accuracy: 0.7660 - val_loss: 0.4872 - val_accuracy: 0.7675\n",
      "Epoch 3/10\n",
      "79/79 [==============================] - 227s 3s/step - loss: 0.4834 - accuracy: 0.7713 - val_loss: 0.4819 - val_accuracy: 0.7673\n",
      "Epoch 4/10\n",
      "79/79 [==============================] - 240s 3s/step - loss: 0.4775 - accuracy: 0.7727 - val_loss: 0.4820 - val_accuracy: 0.7675\n",
      "Epoch 5/10\n",
      "79/79 [==============================] - 227s 3s/step - loss: 0.4715 - accuracy: 0.7769 - val_loss: 0.4787 - val_accuracy: 0.7694\n",
      "Epoch 6/10\n",
      "79/79 [==============================] - 242s 3s/step - loss: 0.4663 - accuracy: 0.7786 - val_loss: 0.4812 - val_accuracy: 0.7705\n",
      "Epoch 7/10\n",
      "79/79 [==============================] - 236s 3s/step - loss: 0.4616 - accuracy: 0.7802 - val_loss: 0.4781 - val_accuracy: 0.7706\n",
      "Epoch 8/10\n",
      "79/79 [==============================] - 241s 3s/step - loss: 0.4553 - accuracy: 0.7832 - val_loss: 0.4825 - val_accuracy: 0.7706\n",
      "Epoch 9/10\n",
      "79/79 [==============================] - 242s 3s/step - loss: 0.4516 - accuracy: 0.7843 - val_loss: 0.4826 - val_accuracy: 0.7679\n",
      "Epoch 10/10\n",
      "79/79 [==============================] - 240s 3s/step - loss: 0.4455 - accuracy: 0.7859 - val_loss: 0.4847 - val_accuracy: 0.7668\n"
     ]
    }
   ],
   "source": [
    "#iteration \n",
    "keys = param_grid.keys()\n",
    "values = (param_grid[key] for key in keys)\n",
    "param_grid = [dict(zip(keys, param_grid)) for param_grid in itertools.product(*values)]\n",
    "\n",
    "print('Proposed ' + str(len(param_grid)) + ' models')\n",
    "\n",
    "for j in range(0, len(param_grid)):\n",
    "    dense_units = param_grid[j].get(\"dense_units\")\n",
    "    dropout = param_grid[j].get(\"dropout\")\n",
    "    lr = param_grid[j].get(\"lr\")\n",
    "    \n",
    "    #make model\n",
    "    model4 = make_model( dense_units = dense_units\n",
    "                       , dropout = dropout\n",
    "                       , lr = lr)\n",
    "    \n",
    "    #history\n",
    "    history4 = model4.fit(x=train_df.text, y=train_df.target\n",
    "                         ,epochs=10\n",
    "                         ,batch_size=1000\n",
    "                         ,validation_data=(val_df.text,val_df.target)\n",
    "                         ,validation_steps=30)\n",
    "    \n",
    "    accuracy = pd.DataFrame.from_dict(history4.history)['accuracy'].iloc[-1]\n",
    "    param_grid[j].update( {\"accuracy\":accuracy})\n",
    "    \n",
    "results = pd.DataFrame(param_grid)"
   ]
  },
  {
   "cell_type": "code",
   "execution_count": 54,
   "id": "b3add394-a6a8-4cfb-9be0-7f2000a90a8f",
   "metadata": {},
   "outputs": [
    {
     "data": {
      "text/html": [
       "<div>\n",
       "<style scoped>\n",
       "    .dataframe tbody tr th:only-of-type {\n",
       "        vertical-align: middle;\n",
       "    }\n",
       "\n",
       "    .dataframe tbody tr th {\n",
       "        vertical-align: top;\n",
       "    }\n",
       "\n",
       "    .dataframe thead th {\n",
       "        text-align: right;\n",
       "    }\n",
       "</style>\n",
       "<table border=\"1\" class=\"dataframe\">\n",
       "  <thead>\n",
       "    <tr style=\"text-align: right;\">\n",
       "      <th></th>\n",
       "      <th>dense_units</th>\n",
       "      <th>dropout</th>\n",
       "      <th>lr</th>\n",
       "      <th>accuracy</th>\n",
       "    </tr>\n",
       "  </thead>\n",
       "  <tbody>\n",
       "    <tr>\n",
       "      <th>1</th>\n",
       "      <td>32</td>\n",
       "      <td>0.3</td>\n",
       "      <td>0.001</td>\n",
       "      <td>0.788839</td>\n",
       "    </tr>\n",
       "    <tr>\n",
       "      <th>0</th>\n",
       "      <td>32</td>\n",
       "      <td>0.1</td>\n",
       "      <td>0.001</td>\n",
       "      <td>0.786926</td>\n",
       "    </tr>\n",
       "    <tr>\n",
       "      <th>2</th>\n",
       "      <td>32</td>\n",
       "      <td>0.5</td>\n",
       "      <td>0.001</td>\n",
       "      <td>0.785906</td>\n",
       "    </tr>\n",
       "  </tbody>\n",
       "</table>\n",
       "</div>"
      ],
      "text/plain": [
       "   dense_units  dropout     lr  accuracy\n",
       "1           32      0.3  0.001  0.788839\n",
       "0           32      0.1  0.001  0.786926\n",
       "2           32      0.5  0.001  0.785906"
      ]
     },
     "execution_count": 54,
     "metadata": {},
     "output_type": "execute_result"
    }
   ],
   "source": [
    "#grid search results\n",
    "results.sort_values(['accuracy'],ascending = False)"
   ]
  },
  {
   "cell_type": "markdown",
   "id": "5f083d10-2cf3-4e5d-a2b8-d91cc821399b",
   "metadata": {},
   "source": [
    "**Conclusions:**\n",
    "- When we tunning the number of nodes, the accuracy is not changing too much\n",
    "- If we check the accuracy in all models, at the end, val_accuracy(validation) is not very different from the accuracy in traning"
   ]
  },
  {
   "cell_type": "markdown",
   "id": "2adcc341-ed0a-4240-b6db-3c5c9026d3b0",
   "metadata": {},
   "source": [
    "#### learning rate\n",
    "Tuning the argument of the optimization "
   ]
  },
  {
   "cell_type": "code",
   "execution_count": 55,
   "id": "27e0ec8a-e67e-4b82-ae57-c01d26347584",
   "metadata": {},
   "outputs": [
    {
     "data": {
      "text/plain": [
       "dict_keys(['dense_units', 'dropout', 'lr'])"
      ]
     },
     "execution_count": 55,
     "metadata": {},
     "output_type": "execute_result"
    }
   ],
   "source": [
    "#list to perform the grid search\n",
    "dense_units = [32]\n",
    "dropout = [0.5]\n",
    "lr = [1e-1, 1e-2, 1e-3]\n",
    "\n",
    "\n",
    "import itertools\n",
    "\n",
    "param_grid = dict(dense_units = dense_units\n",
    "                  , dropout = dropout\n",
    "                  , lr=lr\n",
    "                 )\n",
    "param_grid.keys()"
   ]
  },
  {
   "cell_type": "code",
   "execution_count": 56,
   "id": "da7b2eb9-75bf-4e09-8b34-398bc2cb6da3",
   "metadata": {},
   "outputs": [
    {
     "name": "stdout",
     "output_type": "stream",
     "text": [
      "Proposed 3 models\n",
      "Model: \"sequential_10\"\n",
      "_________________________________________________________________\n",
      " Layer (type)                Output Shape              Param #   \n",
      "=================================================================\n",
      " text_vectorization (TextVec  (None, None)             0         \n",
      " torization)                                                     \n",
      "                                                                 \n",
      " embedding_9 (Embedding)     (None, None, 64)          64000     \n",
      "                                                                 \n",
      " bidirectional_17 (Bidirecti  (None, None, 128)        66048     \n",
      " onal)                                                           \n",
      "                                                                 \n",
      " bidirectional_18 (Bidirecti  (None, 64)               41216     \n",
      " onal)                                                           \n",
      "                                                                 \n",
      " dense_18 (Dense)            (None, 32)                2080      \n",
      "                                                                 \n",
      " dropout_8 (Dropout)         (None, 32)                0         \n",
      "                                                                 \n",
      " dense_19 (Dense)            (None, 1)                 33        \n",
      "                                                                 \n",
      "=================================================================\n",
      "Total params: 173,377\n",
      "Trainable params: 173,377\n",
      "Non-trainable params: 0\n",
      "_________________________________________________________________\n",
      "Epoch 1/10\n",
      "79/79 [==============================] - 275s 3s/step - loss: 0.7559 - accuracy: 0.4995 - val_loss: 0.6923 - val_accuracy: 0.5174\n",
      "Epoch 2/10\n",
      "79/79 [==============================] - 251s 3s/step - loss: 0.6852 - accuracy: 0.5405 - val_loss: 0.6800 - val_accuracy: 0.5894\n",
      "Epoch 3/10\n",
      "79/79 [==============================] - 252s 3s/step - loss: 0.6540 - accuracy: 0.6031 - val_loss: 0.5898 - val_accuracy: 0.6947\n",
      "Epoch 4/10\n",
      "79/79 [==============================] - 250s 3s/step - loss: 0.5971 - accuracy: 0.6930 - val_loss: 0.5455 - val_accuracy: 0.7291\n",
      "Epoch 5/10\n",
      "79/79 [==============================] - 223s 3s/step - loss: 0.5671 - accuracy: 0.7157 - val_loss: 0.5414 - val_accuracy: 0.7325\n",
      "Epoch 6/10\n",
      "79/79 [==============================] - 250s 3s/step - loss: 0.5553 - accuracy: 0.7246 - val_loss: 0.5262 - val_accuracy: 0.7377\n",
      "Epoch 7/10\n",
      "79/79 [==============================] - 235s 3s/step - loss: 0.5464 - accuracy: 0.7271 - val_loss: 0.5377 - val_accuracy: 0.7314\n",
      "Epoch 8/10\n",
      "79/79 [==============================] - 225s 3s/step - loss: 0.5497 - accuracy: 0.7247 - val_loss: 0.5397 - val_accuracy: 0.7273\n",
      "Epoch 9/10\n",
      "79/79 [==============================] - 223s 3s/step - loss: 0.5470 - accuracy: 0.7266 - val_loss: 0.5400 - val_accuracy: 0.7190\n",
      "Epoch 10/10\n",
      "79/79 [==============================] - 247s 3s/step - loss: 0.5508 - accuracy: 0.7261 - val_loss: 0.5335 - val_accuracy: 0.7328\n",
      "Model: \"sequential_11\"\n",
      "_________________________________________________________________\n",
      " Layer (type)                Output Shape              Param #   \n",
      "=================================================================\n",
      " text_vectorization (TextVec  (None, None)             0         \n",
      " torization)                                                     \n",
      "                                                                 \n",
      " embedding_10 (Embedding)    (None, None, 64)          64000     \n",
      "                                                                 \n",
      " bidirectional_19 (Bidirecti  (None, None, 128)        66048     \n",
      " onal)                                                           \n",
      "                                                                 \n",
      " bidirectional_20 (Bidirecti  (None, 64)               41216     \n",
      " onal)                                                           \n",
      "                                                                 \n",
      " dense_20 (Dense)            (None, 32)                2080      \n",
      "                                                                 \n",
      " dropout_9 (Dropout)         (None, 32)                0         \n",
      "                                                                 \n",
      " dense_21 (Dense)            (None, 1)                 33        \n",
      "                                                                 \n",
      "=================================================================\n",
      "Total params: 173,377\n",
      "Trainable params: 173,377\n",
      "Non-trainable params: 0\n",
      "_________________________________________________________________\n",
      "Epoch 1/10\n",
      "79/79 [==============================] - 342s 4s/step - loss: 0.5315 - accuracy: 0.7347 - val_loss: 0.4877 - val_accuracy: 0.7649\n",
      "Epoch 2/10\n",
      "79/79 [==============================] - 320s 4s/step - loss: 0.4782 - accuracy: 0.7709 - val_loss: 0.4749 - val_accuracy: 0.7715\n",
      "Epoch 3/10\n",
      "79/79 [==============================] - 338s 4s/step - loss: 0.4600 - accuracy: 0.7813 - val_loss: 0.4701 - val_accuracy: 0.7741\n",
      "Epoch 4/10\n",
      "79/79 [==============================] - 345s 4s/step - loss: 0.4493 - accuracy: 0.7880 - val_loss: 0.4694 - val_accuracy: 0.7754\n",
      "Epoch 5/10\n",
      "79/79 [==============================] - 347s 4s/step - loss: 0.4368 - accuracy: 0.7940 - val_loss: 0.4759 - val_accuracy: 0.7704\n",
      "Epoch 6/10\n",
      "79/79 [==============================] - 331s 4s/step - loss: 0.4248 - accuracy: 0.8010 - val_loss: 0.4783 - val_accuracy: 0.7714\n",
      "Epoch 7/10\n",
      "79/79 [==============================] - 310s 4s/step - loss: 0.4095 - accuracy: 0.8069 - val_loss: 0.4790 - val_accuracy: 0.7731\n",
      "Epoch 8/10\n",
      "79/79 [==============================] - 295s 4s/step - loss: 0.3940 - accuracy: 0.8163 - val_loss: 0.4990 - val_accuracy: 0.7691\n",
      "Epoch 9/10\n",
      "79/79 [==============================] - 303s 4s/step - loss: 0.3748 - accuracy: 0.8272 - val_loss: 0.5024 - val_accuracy: 0.7672\n",
      "Epoch 10/10\n",
      "79/79 [==============================] - 290s 4s/step - loss: 0.3562 - accuracy: 0.8361 - val_loss: 0.5297 - val_accuracy: 0.7645\n",
      "Model: \"sequential_12\"\n",
      "_________________________________________________________________\n",
      " Layer (type)                Output Shape              Param #   \n",
      "=================================================================\n",
      " text_vectorization (TextVec  (None, None)             0         \n",
      " torization)                                                     \n",
      "                                                                 \n",
      " embedding_11 (Embedding)    (None, None, 64)          64000     \n",
      "                                                                 \n",
      " bidirectional_21 (Bidirecti  (None, None, 128)        66048     \n",
      " onal)                                                           \n",
      "                                                                 \n",
      " bidirectional_22 (Bidirecti  (None, 64)               41216     \n",
      " onal)                                                           \n",
      "                                                                 \n",
      " dense_22 (Dense)            (None, 32)                2080      \n",
      "                                                                 \n",
      " dropout_10 (Dropout)        (None, 32)                0         \n",
      "                                                                 \n",
      " dense_23 (Dense)            (None, 1)                 33        \n",
      "                                                                 \n",
      "=================================================================\n",
      "Total params: 173,377\n",
      "Trainable params: 173,377\n",
      "Non-trainable params: 0\n",
      "_________________________________________________________________\n",
      "Epoch 1/10\n",
      "79/79 [==============================] - 490s 6s/step - loss: 0.5872 - accuracy: 0.7023 - val_loss: 0.4978 - val_accuracy: 0.7614\n",
      "Epoch 2/10\n",
      "79/79 [==============================] - 881s 11s/step - loss: 0.4941 - accuracy: 0.7662 - val_loss: 0.4856 - val_accuracy: 0.7680\n",
      "Epoch 3/10\n",
      "79/79 [==============================] - 1015s 13s/step - loss: 0.4834 - accuracy: 0.7707 - val_loss: 0.4829 - val_accuracy: 0.7674\n",
      "Epoch 4/10\n",
      "79/79 [==============================] - 891s 11s/step - loss: 0.4785 - accuracy: 0.7730 - val_loss: 0.4813 - val_accuracy: 0.7688\n",
      "Epoch 5/10\n",
      "79/79 [==============================] - 881s 11s/step - loss: 0.4723 - accuracy: 0.7749 - val_loss: 0.4808 - val_accuracy: 0.7691\n",
      "Epoch 6/10\n",
      "79/79 [==============================] - 783s 10s/step - loss: 0.4694 - accuracy: 0.7747 - val_loss: 0.4821 - val_accuracy: 0.7696\n",
      "Epoch 7/10\n",
      "79/79 [==============================] - 773s 10s/step - loss: 0.4639 - accuracy: 0.7789 - val_loss: 0.4809 - val_accuracy: 0.7696\n",
      "Epoch 8/10\n",
      "79/79 [==============================] - 786s 10s/step - loss: 0.4597 - accuracy: 0.7799 - val_loss: 0.4842 - val_accuracy: 0.7680\n",
      "Epoch 9/10\n",
      "79/79 [==============================] - 771s 10s/step - loss: 0.4573 - accuracy: 0.7817 - val_loss: 0.4855 - val_accuracy: 0.7655\n",
      "Epoch 10/10\n",
      "79/79 [==============================] - 732s 9s/step - loss: 0.4517 - accuracy: 0.7846 - val_loss: 0.4852 - val_accuracy: 0.7663\n"
     ]
    }
   ],
   "source": [
    "#iteration \n",
    "keys = param_grid.keys()\n",
    "values = (param_grid[key] for key in keys)\n",
    "param_grid = [dict(zip(keys, param_grid)) for param_grid in itertools.product(*values)]\n",
    "\n",
    "print('Proposed ' + str(len(param_grid)) + ' models')\n",
    "\n",
    "for j in range(0, len(param_grid)):\n",
    "    dense_units = param_grid[j].get(\"dense_units\")\n",
    "    dropout = param_grid[j].get(\"dropout\")\n",
    "    lr = param_grid[j].get(\"lr\")\n",
    "    \n",
    "    #make model\n",
    "    model5 = make_model( dense_units = dense_units\n",
    "                       , dropout = dropout\n",
    "                       , lr = lr)\n",
    "    \n",
    "    #history\n",
    "    history5 = model5.fit(x=train_df.text, y=train_df.target\n",
    "                         ,epochs=10\n",
    "                         ,batch_size=1000\n",
    "                         ,validation_data=(val_df.text,val_df.target)\n",
    "                         ,validation_steps=30)\n",
    "    \n",
    "    accuracy = pd.DataFrame.from_dict(history5.history)['accuracy'].iloc[-1]\n",
    "    param_grid[j].update( {\"accuracy\":accuracy})\n",
    "    \n",
    "results = pd.DataFrame(param_grid)"
   ]
  },
  {
   "cell_type": "code",
   "execution_count": 57,
   "id": "c5bb79c6-1b91-4e25-ab13-f2f6381846e0",
   "metadata": {},
   "outputs": [
    {
     "data": {
      "text/html": [
       "<div>\n",
       "<style scoped>\n",
       "    .dataframe tbody tr th:only-of-type {\n",
       "        vertical-align: middle;\n",
       "    }\n",
       "\n",
       "    .dataframe tbody tr th {\n",
       "        vertical-align: top;\n",
       "    }\n",
       "\n",
       "    .dataframe thead th {\n",
       "        text-align: right;\n",
       "    }\n",
       "</style>\n",
       "<table border=\"1\" class=\"dataframe\">\n",
       "  <thead>\n",
       "    <tr style=\"text-align: right;\">\n",
       "      <th></th>\n",
       "      <th>dense_units</th>\n",
       "      <th>dropout</th>\n",
       "      <th>lr</th>\n",
       "      <th>accuracy</th>\n",
       "    </tr>\n",
       "  </thead>\n",
       "  <tbody>\n",
       "    <tr>\n",
       "      <th>1</th>\n",
       "      <td>32</td>\n",
       "      <td>0.5</td>\n",
       "      <td>0.010</td>\n",
       "      <td>0.836084</td>\n",
       "    </tr>\n",
       "    <tr>\n",
       "      <th>2</th>\n",
       "      <td>32</td>\n",
       "      <td>0.5</td>\n",
       "      <td>0.001</td>\n",
       "      <td>0.784643</td>\n",
       "    </tr>\n",
       "    <tr>\n",
       "      <th>0</th>\n",
       "      <td>32</td>\n",
       "      <td>0.5</td>\n",
       "      <td>0.100</td>\n",
       "      <td>0.726059</td>\n",
       "    </tr>\n",
       "  </tbody>\n",
       "</table>\n",
       "</div>"
      ],
      "text/plain": [
       "   dense_units  dropout     lr  accuracy\n",
       "1           32      0.5  0.010  0.836084\n",
       "2           32      0.5  0.001  0.784643\n",
       "0           32      0.5  0.100  0.726059"
      ]
     },
     "execution_count": 57,
     "metadata": {},
     "output_type": "execute_result"
    }
   ],
   "source": [
    "#grid search results\n",
    "results.sort_values(['accuracy'],ascending = False)"
   ]
  },
  {
   "cell_type": "markdown",
   "id": "c36bfffe-1a57-4c56-ac9b-c9a83c055331",
   "metadata": {},
   "source": [
    "**Conclusions:**\n",
    "- The better result is when learning rate is 0.010\n",
    "- If we check the loss function in all models, at the end, val_loss(validation) is not very different from the training loss"
   ]
  },
  {
   "cell_type": "markdown",
   "id": "ba22dff3-f47f-43a8-b32b-3a87eea90557",
   "metadata": {},
   "source": [
    "#### Combination grid search\n",
    "Tuning different arguments at the same time"
   ]
  },
  {
   "cell_type": "code",
   "execution_count": 58,
   "id": "6f0b5765-f280-437f-93a4-67c2a00077d8",
   "metadata": {},
   "outputs": [
    {
     "data": {
      "text/plain": [
       "dict_keys(['dense_units', 'dropout', 'lr'])"
      ]
     },
     "execution_count": 58,
     "metadata": {},
     "output_type": "execute_result"
    }
   ],
   "source": [
    "#list to perform the grid search\n",
    "dense_units = [32, 64]\n",
    "dropout = [0.5]\n",
    "lr = [1e-1, 1e-3]\n",
    "\n",
    "\n",
    "import itertools\n",
    "\n",
    "param_grid = dict(dense_units = dense_units\n",
    "                  , dropout = dropout\n",
    "                  , lr=lr\n",
    "                 )\n",
    "param_grid.keys()"
   ]
  },
  {
   "cell_type": "code",
   "execution_count": 59,
   "id": "e9d81f4b-40d6-4ac5-b06c-e6c11f4cb518",
   "metadata": {},
   "outputs": [
    {
     "name": "stdout",
     "output_type": "stream",
     "text": [
      "Proposed 4 models\n",
      "Model: \"sequential_13\"\n",
      "_________________________________________________________________\n",
      " Layer (type)                Output Shape              Param #   \n",
      "=================================================================\n",
      " text_vectorization (TextVec  (None, None)             0         \n",
      " torization)                                                     \n",
      "                                                                 \n",
      " embedding_12 (Embedding)    (None, None, 64)          64000     \n",
      "                                                                 \n",
      " bidirectional_23 (Bidirecti  (None, None, 128)        66048     \n",
      " onal)                                                           \n",
      "                                                                 \n",
      " bidirectional_24 (Bidirecti  (None, 64)               41216     \n",
      " onal)                                                           \n",
      "                                                                 \n",
      " dense_24 (Dense)            (None, 32)                2080      \n",
      "                                                                 \n",
      " dropout_11 (Dropout)        (None, 32)                0         \n",
      "                                                                 \n",
      " dense_25 (Dense)            (None, 1)                 33        \n",
      "                                                                 \n",
      "=================================================================\n",
      "Total params: 173,377\n",
      "Trainable params: 173,377\n",
      "Non-trainable params: 0\n",
      "_________________________________________________________________\n",
      "Epoch 1/10\n",
      "79/79 [==============================] - 378s 5s/step - loss: 0.6621 - accuracy: 0.6306 - val_loss: 0.5614 - val_accuracy: 0.7065\n",
      "Epoch 2/10\n",
      "79/79 [==============================] - 341s 4s/step - loss: 0.5605 - accuracy: 0.7199 - val_loss: 0.5170 - val_accuracy: 0.7444\n",
      "Epoch 3/10\n",
      "79/79 [==============================] - 358s 5s/step - loss: 0.5461 - accuracy: 0.7303 - val_loss: 0.5222 - val_accuracy: 0.7469\n",
      "Epoch 4/10\n",
      "79/79 [==============================] - 346s 4s/step - loss: 0.5288 - accuracy: 0.7405 - val_loss: 0.5141 - val_accuracy: 0.7443\n",
      "Epoch 5/10\n",
      "79/79 [==============================] - 350s 4s/step - loss: 0.5289 - accuracy: 0.7408 - val_loss: 0.5300 - val_accuracy: 0.7400\n",
      "Epoch 6/10\n",
      "79/79 [==============================] - 348s 4s/step - loss: 0.5309 - accuracy: 0.7367 - val_loss: 0.5224 - val_accuracy: 0.7382\n",
      "Epoch 7/10\n",
      "79/79 [==============================] - 362s 5s/step - loss: 0.5291 - accuracy: 0.7389 - val_loss: 0.5174 - val_accuracy: 0.7366\n",
      "Epoch 8/10\n",
      "79/79 [==============================] - 3410s 44s/step - loss: 0.5321 - accuracy: 0.7366 - val_loss: 0.5221 - val_accuracy: 0.7300\n",
      "Epoch 9/10\n",
      "79/79 [==============================] - 306s 4s/step - loss: 0.5333 - accuracy: 0.7373 - val_loss: 0.5203 - val_accuracy: 0.7390\n",
      "Epoch 10/10\n",
      "79/79 [==============================] - 1451s 19s/step - loss: 0.5301 - accuracy: 0.7407 - val_loss: 0.5226 - val_accuracy: 0.7460\n",
      "Model: \"sequential_14\"\n",
      "_________________________________________________________________\n",
      " Layer (type)                Output Shape              Param #   \n",
      "=================================================================\n",
      " text_vectorization (TextVec  (None, None)             0         \n",
      " torization)                                                     \n",
      "                                                                 \n",
      " embedding_13 (Embedding)    (None, None, 64)          64000     \n",
      "                                                                 \n",
      " bidirectional_25 (Bidirecti  (None, None, 128)        66048     \n",
      " onal)                                                           \n",
      "                                                                 \n",
      " bidirectional_26 (Bidirecti  (None, 64)               41216     \n",
      " onal)                                                           \n",
      "                                                                 \n",
      " dense_26 (Dense)            (None, 32)                2080      \n",
      "                                                                 \n",
      " dropout_12 (Dropout)        (None, 32)                0         \n",
      "                                                                 \n",
      " dense_27 (Dense)            (None, 1)                 33        \n",
      "                                                                 \n",
      "=================================================================\n",
      "Total params: 173,377\n",
      "Trainable params: 173,377\n",
      "Non-trainable params: 0\n",
      "_________________________________________________________________\n",
      "Epoch 1/10\n",
      "79/79 [==============================] - 385s 5s/step - loss: 0.5864 - accuracy: 0.6977 - val_loss: 0.4969 - val_accuracy: 0.7610\n",
      "Epoch 2/10\n",
      "79/79 [==============================] - 409s 5s/step - loss: 0.4940 - accuracy: 0.7661 - val_loss: 0.4865 - val_accuracy: 0.7672\n",
      "Epoch 3/10\n",
      "79/79 [==============================] - 836s 11s/step - loss: 0.4832 - accuracy: 0.7708 - val_loss: 0.4843 - val_accuracy: 0.7671\n",
      "Epoch 4/10\n",
      "79/79 [==============================] - 839s 11s/step - loss: 0.4779 - accuracy: 0.7740 - val_loss: 0.4818 - val_accuracy: 0.7686\n",
      "Epoch 5/10\n",
      "79/79 [==============================] - 592s 7s/step - loss: 0.4702 - accuracy: 0.7762 - val_loss: 0.4788 - val_accuracy: 0.7714\n",
      "Epoch 6/10\n",
      "79/79 [==============================] - 337s 4s/step - loss: 0.4650 - accuracy: 0.7788 - val_loss: 0.4785 - val_accuracy: 0.7711\n",
      "Epoch 7/10\n",
      "79/79 [==============================] - 360s 5s/step - loss: 0.4614 - accuracy: 0.7798 - val_loss: 0.4813 - val_accuracy: 0.7703\n",
      "Epoch 8/10\n",
      "79/79 [==============================] - 354s 4s/step - loss: 0.4547 - accuracy: 0.7826 - val_loss: 0.4805 - val_accuracy: 0.7696\n",
      "Epoch 9/10\n",
      "79/79 [==============================] - 342s 4s/step - loss: 0.4500 - accuracy: 0.7844 - val_loss: 0.4800 - val_accuracy: 0.7697\n",
      "Epoch 10/10\n",
      "79/79 [==============================] - 341s 4s/step - loss: 0.4446 - accuracy: 0.7869 - val_loss: 0.4815 - val_accuracy: 0.7686\n",
      "Model: \"sequential_15\"\n",
      "_________________________________________________________________\n",
      " Layer (type)                Output Shape              Param #   \n",
      "=================================================================\n",
      " text_vectorization (TextVec  (None, None)             0         \n",
      " torization)                                                     \n",
      "                                                                 \n",
      " embedding_14 (Embedding)    (None, None, 64)          64000     \n",
      "                                                                 \n",
      " bidirectional_27 (Bidirecti  (None, None, 128)        66048     \n",
      " onal)                                                           \n",
      "                                                                 \n",
      " bidirectional_28 (Bidirecti  (None, 64)               41216     \n",
      " onal)                                                           \n",
      "                                                                 \n",
      " dense_28 (Dense)            (None, 64)                4160      \n",
      "                                                                 \n",
      " dropout_13 (Dropout)        (None, 64)                0         \n",
      "                                                                 \n",
      " dense_29 (Dense)            (None, 1)                 65        \n",
      "                                                                 \n",
      "=================================================================\n",
      "Total params: 175,489\n",
      "Trainable params: 175,489\n",
      "Non-trainable params: 0\n",
      "_________________________________________________________________\n",
      "Epoch 1/10\n",
      "79/79 [==============================] - 549s 7s/step - loss: 0.7904 - accuracy: 0.5046 - val_loss: 0.6886 - val_accuracy: 0.5209\n",
      "Epoch 2/10\n",
      "79/79 [==============================] - 457s 6s/step - loss: 0.6903 - accuracy: 0.5084 - val_loss: 0.6873 - val_accuracy: 0.5218\n",
      "Epoch 3/10\n",
      "79/79 [==============================] - 454s 6s/step - loss: 0.6888 - accuracy: 0.5132 - val_loss: 0.6856 - val_accuracy: 0.5313\n",
      "Epoch 4/10\n",
      "79/79 [==============================] - 456s 6s/step - loss: 0.6661 - accuracy: 0.5893 - val_loss: 0.6065 - val_accuracy: 0.6818\n",
      "Epoch 5/10\n",
      "79/79 [==============================] - 437s 6s/step - loss: 0.6022 - accuracy: 0.6876 - val_loss: 0.5706 - val_accuracy: 0.7116\n",
      "Epoch 6/10\n",
      "79/79 [==============================] - 442s 6s/step - loss: 0.5818 - accuracy: 0.7070 - val_loss: 0.5676 - val_accuracy: 0.7205\n",
      "Epoch 7/10\n",
      "79/79 [==============================] - 461s 6s/step - loss: 0.5745 - accuracy: 0.7109 - val_loss: 0.5668 - val_accuracy: 0.6963\n",
      "Epoch 8/10\n",
      "79/79 [==============================] - 459s 6s/step - loss: 0.5689 - accuracy: 0.7116 - val_loss: 0.5434 - val_accuracy: 0.7242\n",
      "Epoch 9/10\n",
      "79/79 [==============================] - 457s 6s/step - loss: 0.5617 - accuracy: 0.7170 - val_loss: 0.5509 - val_accuracy: 0.7179\n",
      "Epoch 10/10\n",
      "79/79 [==============================] - 468s 6s/step - loss: 0.5627 - accuracy: 0.7155 - val_loss: 0.5505 - val_accuracy: 0.7100\n",
      "Model: \"sequential_16\"\n",
      "_________________________________________________________________\n",
      " Layer (type)                Output Shape              Param #   \n",
      "=================================================================\n",
      " text_vectorization (TextVec  (None, None)             0         \n",
      " torization)                                                     \n",
      "                                                                 \n",
      " embedding_15 (Embedding)    (None, None, 64)          64000     \n",
      "                                                                 \n",
      " bidirectional_29 (Bidirecti  (None, None, 128)        66048     \n",
      " onal)                                                           \n",
      "                                                                 \n",
      " bidirectional_30 (Bidirecti  (None, 64)               41216     \n",
      " onal)                                                           \n",
      "                                                                 \n",
      " dense_30 (Dense)            (None, 64)                4160      \n",
      "                                                                 \n",
      " dropout_14 (Dropout)        (None, 64)                0         \n",
      "                                                                 \n",
      " dense_31 (Dense)            (None, 1)                 65        \n",
      "                                                                 \n",
      "=================================================================\n",
      "Total params: 175,489\n",
      "Trainable params: 175,489\n",
      "Non-trainable params: 0\n",
      "_________________________________________________________________\n",
      "Epoch 1/10\n",
      "79/79 [==============================] - 506s 6s/step - loss: 0.5814 - accuracy: 0.6986 - val_loss: 0.4945 - val_accuracy: 0.7622\n",
      "Epoch 2/10\n",
      "79/79 [==============================] - 36513s 468s/step - loss: 0.4895 - accuracy: 0.7662 - val_loss: 0.4856 - val_accuracy: 0.7665\n",
      "Epoch 3/10\n",
      "79/79 [==============================] - 2829s 36s/step - loss: 0.4808 - accuracy: 0.7701 - val_loss: 0.4827 - val_accuracy: 0.7692\n",
      "Epoch 4/10\n",
      "79/79 [==============================] - 1261s 16s/step - loss: 0.4750 - accuracy: 0.7729 - val_loss: 0.4816 - val_accuracy: 0.7685\n",
      "Epoch 5/10\n",
      "79/79 [==============================] - 1095s 14s/step - loss: 0.4686 - accuracy: 0.7746 - val_loss: 0.4793 - val_accuracy: 0.7727\n",
      "Epoch 6/10\n",
      "79/79 [==============================] - 1076s 14s/step - loss: 0.4626 - accuracy: 0.7782 - val_loss: 0.4784 - val_accuracy: 0.7714\n",
      "Epoch 7/10\n",
      "79/79 [==============================] - 1122s 14s/step - loss: 0.4563 - accuracy: 0.7815 - val_loss: 0.4792 - val_accuracy: 0.7706\n",
      "Epoch 8/10\n",
      "79/79 [==============================] - 1141s 14s/step - loss: 0.4498 - accuracy: 0.7839 - val_loss: 0.4786 - val_accuracy: 0.7694\n",
      "Epoch 9/10\n",
      "79/79 [==============================] - 1141s 14s/step - loss: 0.4449 - accuracy: 0.7849 - val_loss: 0.4828 - val_accuracy: 0.7709\n",
      "Epoch 10/10\n",
      "79/79 [==============================] - 827s 10s/step - loss: 0.4397 - accuracy: 0.7890 - val_loss: 0.4818 - val_accuracy: 0.7658\n"
     ]
    }
   ],
   "source": [
    "#iteration \n",
    "keys = param_grid.keys()\n",
    "values = (param_grid[key] for key in keys)\n",
    "param_grid = [dict(zip(keys, param_grid)) for param_grid in itertools.product(*values)]\n",
    "\n",
    "print('Proposed ' + str(len(param_grid)) + ' models')\n",
    "\n",
    "for j in range(0, len(param_grid)):\n",
    "    dense_units = param_grid[j].get(\"dense_units\")\n",
    "    dropout = param_grid[j].get(\"dropout\")\n",
    "    lr = param_grid[j].get(\"lr\")\n",
    "    \n",
    "    #make model\n",
    "    model6 = make_model( dense_units = dense_units\n",
    "                       , dropout = dropout\n",
    "                       , lr = lr)\n",
    "    \n",
    "    #history\n",
    "    history6 = model6.fit(x=train_df.text, y=train_df.target\n",
    "                         ,epochs=10\n",
    "                         ,batch_size=1000\n",
    "                         ,validation_data=(val_df.text,val_df.target)\n",
    "                         ,validation_steps=30)\n",
    "    \n",
    "    accuracy = pd.DataFrame.from_dict(history6.history)['accuracy'].iloc[-1]\n",
    "    param_grid[j].update( {\"accuracy\":accuracy})\n",
    "    \n",
    "results = pd.DataFrame(param_grid)"
   ]
  },
  {
   "cell_type": "code",
   "execution_count": 60,
   "id": "49198f52-b304-4c3e-bf21-a44bced1afcc",
   "metadata": {},
   "outputs": [
    {
     "data": {
      "text/html": [
       "<div>\n",
       "<style scoped>\n",
       "    .dataframe tbody tr th:only-of-type {\n",
       "        vertical-align: middle;\n",
       "    }\n",
       "\n",
       "    .dataframe tbody tr th {\n",
       "        vertical-align: top;\n",
       "    }\n",
       "\n",
       "    .dataframe thead th {\n",
       "        text-align: right;\n",
       "    }\n",
       "</style>\n",
       "<table border=\"1\" class=\"dataframe\">\n",
       "  <thead>\n",
       "    <tr style=\"text-align: right;\">\n",
       "      <th></th>\n",
       "      <th>dense_units</th>\n",
       "      <th>dropout</th>\n",
       "      <th>lr</th>\n",
       "      <th>accuracy</th>\n",
       "    </tr>\n",
       "  </thead>\n",
       "  <tbody>\n",
       "    <tr>\n",
       "      <th>3</th>\n",
       "      <td>64</td>\n",
       "      <td>0.5</td>\n",
       "      <td>0.001</td>\n",
       "      <td>0.788992</td>\n",
       "    </tr>\n",
       "    <tr>\n",
       "      <th>1</th>\n",
       "      <td>32</td>\n",
       "      <td>0.5</td>\n",
       "      <td>0.001</td>\n",
       "      <td>0.786901</td>\n",
       "    </tr>\n",
       "    <tr>\n",
       "      <th>0</th>\n",
       "      <td>32</td>\n",
       "      <td>0.5</td>\n",
       "      <td>0.100</td>\n",
       "      <td>0.740689</td>\n",
       "    </tr>\n",
       "    <tr>\n",
       "      <th>2</th>\n",
       "      <td>64</td>\n",
       "      <td>0.5</td>\n",
       "      <td>0.100</td>\n",
       "      <td>0.715523</td>\n",
       "    </tr>\n",
       "  </tbody>\n",
       "</table>\n",
       "</div>"
      ],
      "text/plain": [
       "   dense_units  dropout     lr  accuracy\n",
       "3           64      0.5  0.001  0.788992\n",
       "1           32      0.5  0.001  0.786901\n",
       "0           32      0.5  0.100  0.740689\n",
       "2           64      0.5  0.100  0.715523"
      ]
     },
     "execution_count": 60,
     "metadata": {},
     "output_type": "execute_result"
    }
   ],
   "source": [
    "#grid search results\n",
    "results.sort_values(['accuracy'],ascending = False)"
   ]
  },
  {
   "cell_type": "markdown",
   "id": "655b9337-778c-4599-99ea-1ec16a94292c",
   "metadata": {},
   "source": [
    "**Grid search conclusions:**\n",
    "Comparing all this results, the higher accuracy is the model with this parameters:\n",
    " - dense_units: 32\n",
    " - dropout: 0.5\n",
    " - learning_rate: 0.010"
   ]
  },
  {
   "cell_type": "markdown",
   "id": "934e33ae-a72c-4874-98eb-ed01aad9a4fc",
   "metadata": {},
   "source": [
    "## 5. Feature engineering\n",
    "### 5.1 Data cleaning"
   ]
  },
  {
   "cell_type": "code",
   "execution_count": 61,
   "id": "07eb46a1-54eb-4273-bf5a-34dba6883f4b",
   "metadata": {},
   "outputs": [],
   "source": [
    "#emojis list\n",
    "emojis = {':)': 'smile', ':-)': 'smile', ';d': 'wink', ':-E': 'vampire', ':(': 'sad', \n",
    "          ':-(': 'sad', ':-<': 'sad', ':P': 'raspberry', ':O': 'surprised',\n",
    "          ':-@': 'shocked', ':@': 'shocked',':-$': 'confused', ':\\\\': 'annoyed', \n",
    "          ':#': 'mute', ':X': 'mute', ':^)': 'smile', ':-&': 'confused', '$_$': 'greedy',\n",
    "          '@@': 'eyeroll', ':-!': 'confused', ':-D': 'smile', ':-0': 'yell', 'O.o': 'confused',\n",
    "          '<(-_-)>': 'robot', 'd[-_-]b': 'dj', \":'-)\": 'sadsmile', ';)': 'wink', \n",
    "          ';-)': 'wink', 'O:-)': 'angel','O*-)': 'angel','(:-D': 'gossip',\n",
    "          '=^.^=': 'cat', ':D': 'smile', ';D': 'smile'}"
   ]
  },
  {
   "cell_type": "code",
   "execution_count": 62,
   "id": "eaec4134-824f-4788-a90b-86cee00fe85e",
   "metadata": {},
   "outputs": [],
   "source": [
    "mystopwordlist = ['a', 'about', 'above', 'after', 'again', 'ain', 'all', 'am', 'an',\n",
    "             'and','any','are', 'as', 'at', 'be', 'because', 'been', 'before',\n",
    "             'being', 'below', 'between','both', 'by', 'can', 'd', 'did', 'do',\n",
    "             'does', 'doing', 'down', 'during', 'each','few', 'for', 'from', \n",
    "             'further', 'had', 'has', 'have', 'having', 'he', 'her', 'here',\n",
    "             'hers', 'herself', 'him', 'himself', 'his', 'how', 'i', 'if', 'in',\n",
    "             'into','is', 'it', 'its', 'itself', 'just', 'll', 'm', 'ma',\n",
    "             'me', 'more', 'most','my', 'myself', 'now', 'o', 'of', 'on', 'once',\n",
    "             'only', 'or', 'other', 'our', 'ours','ourselves', 'out', 'own', 're',\n",
    "             's', 'same', 'she', \"shes\", 'should', \"shouldve\",'so', 'some', 'such',\n",
    "             't', 'than', 'that', \"thatll\", 'the', 'their', 'theirs', 'them',\n",
    "             'themselves', 'then', 'there', 'these', 'they', 'this', 'those', \n",
    "             'through', 'to', 'too','under', 'until', 'up', 've', 'very', 'was',\n",
    "             'we', 'were', 'what', 'when', 'where','which','while', 'who', 'whom',\n",
    "             'why', 'will', 'with', 'won', 'y', 'you', \"youd\",\"youll\", \"youre\",\n",
    "             \"youve\", 'your', 'yours', 'yourself', 'yourselves']"
   ]
  },
  {
   "cell_type": "code",
   "execution_count": 67,
   "id": "44936617-249c-4555-b630-3424011b1e3a",
   "metadata": {},
   "outputs": [
    {
     "name": "stderr",
     "output_type": "stream",
     "text": [
      "[nltk_data] Downloading package stopwords to\n",
      "[nltk_data]     C:\\Users\\auxis\\AppData\\Roaming\\nltk_data...\n",
      "[nltk_data]   Package stopwords is already up-to-date!\n",
      "[nltk_data] Downloading package wordnet to\n",
      "[nltk_data]     C:\\Users\\auxis\\AppData\\Roaming\\nltk_data...\n",
      "[nltk_data]   Package wordnet is already up-to-date!\n"
     ]
    }
   ],
   "source": [
    "# Natural Language Toolkit (nltk)\n",
    "from nltk.stem import WordNetLemmatizer\n",
    "from nltk import download\n",
    "download('stopwords')\n",
    "download('wordnet')\n",
    "from nltk.corpus import stopwords\n",
    "import re"
   ]
  },
  {
   "cell_type": "code",
   "execution_count": 64,
   "id": "5cd62429-b1ac-48aa-a811-850de8015e60",
   "metadata": {},
   "outputs": [
    {
     "data": {
      "text/plain": [
       "['i', 'me', 'my', 'myself', 'we', 'our', 'ours', 'ourselves', 'you', \"you're\"]"
      ]
     },
     "execution_count": 64,
     "metadata": {},
     "output_type": "execute_result"
    }
   ],
   "source": [
    "english_stop_words =  stopwords.words('english')\n",
    "english_stop_words[:10]"
   ]
  },
  {
   "cell_type": "code",
   "execution_count": 65,
   "id": "4b488dd7-264b-4af7-9420-b06f4da173c7",
   "metadata": {},
   "outputs": [],
   "source": [
    "#Clean data function\n",
    "def preprocess(textdata):\n",
    "    processedText = []\n",
    "    \n",
    "    #creating a Lemmatizer\n",
    "    wordLemma = WordNetLemmatizer() #define the imported library\n",
    "    \n",
    "    # Defining regular expression pattern we can find. in tweets\n",
    "    \n",
    "    urlPattern        = r\"((http://)[^ ]*|(https://)[^ ]*|( www\\.)[^ ]*)\" # e.g check out https://dot.com for more\n",
    "    userPattern       = '@[^\\s]+' # e.g @FagbamigbeK check this out\n",
    "    alphaPattern      = \"[^a-zA-Z0-9]\" # e.g I am *10 better!\n",
    "    sequencePattern   = r\"(.)\\1\\1+\"  # e.g Heyyyyyyy, I am back!\n",
    "    seqReplacePattern = r\"\\1\\1\" # e.g Replace Heyyyyyyy with Heyy\n",
    "    \n",
    "    \n",
    "    for tweet in textdata:\n",
    "        tweet = tweet.lower() #normalizing all text to a lower case\n",
    "        \n",
    "        \n",
    "        # Replace all URls with 'URL'\n",
    "        tweet = re.sub(urlPattern,' URL',tweet) #using the substitution method of the regular expression library\n",
    "        \n",
    "        \n",
    "        # Replace all emojis.\n",
    "        for emoji in emojis.keys(): #in each of the looped tweet, replace each emojis with their respective meaning\n",
    "            tweet = tweet.replace(emoji, \"EMOJI\" + emojis[emoji])  # emojis[emoji] helps to get the value of the emoji from the dictionary\n",
    "            \n",
    "            \n",
    "        # Replace @USERNAME to 'USER'.\n",
    "        tweet = re.sub(userPattern,' USER', tweet)  #To hide Personal Information, we can replace all usernames with User\n",
    "        \n",
    "        \n",
    "        # Replace all non alphabets.\n",
    "        tweet = re.sub(alphaPattern, \" \", tweet) # e.g I am *10 better!\n",
    "        \n",
    "        \n",
    "        # Replace 3 or more consecutive letters by 2 letter.\n",
    "        tweet = re.sub(sequencePattern, seqReplacePattern, tweet) # e.g Replace Heyyyyyyy with Heyy\n",
    "        \n",
    "        \n",
    "        tweetwords = ''\n",
    "        for word in tweet.split():\n",
    "            if len(word) > 2 and word.isalpha():\n",
    "                word = wordLemma.lemmatize(word)\n",
    "                tweetwords += (word + ' ')\n",
    "        \n",
    "        processedText.append(tweetwords)\n",
    "        \n",
    "    return processedText"
   ]
  },
  {
   "cell_type": "code",
   "execution_count": 68,
   "id": "4994389c-ef4e-4d65-a840-5670d834619d",
   "metadata": {},
   "outputs": [
    {
     "data": {
      "text/html": [
       "<div>\n",
       "<style scoped>\n",
       "    .dataframe tbody tr th:only-of-type {\n",
       "        vertical-align: middle;\n",
       "    }\n",
       "\n",
       "    .dataframe tbody tr th {\n",
       "        vertical-align: top;\n",
       "    }\n",
       "\n",
       "    .dataframe thead th {\n",
       "        text-align: right;\n",
       "    }\n",
       "</style>\n",
       "<table border=\"1\" class=\"dataframe\">\n",
       "  <thead>\n",
       "    <tr style=\"text-align: right;\">\n",
       "      <th></th>\n",
       "      <th>target</th>\n",
       "      <th>text</th>\n",
       "    </tr>\n",
       "  </thead>\n",
       "  <tbody>\n",
       "    <tr>\n",
       "      <th>514293</th>\n",
       "      <td>0</td>\n",
       "      <td>miss nikki already shes always there when need...</td>\n",
       "    </tr>\n",
       "    <tr>\n",
       "      <th>142282</th>\n",
       "      <td>0</td>\n",
       "      <td>had dream last night remember sign which clear...</td>\n",
       "    </tr>\n",
       "    <tr>\n",
       "      <th>403727</th>\n",
       "      <td>0</td>\n",
       "      <td>USER ohh poor sickly you hug hope you feel lit...</td>\n",
       "    </tr>\n",
       "    <tr>\n",
       "      <th>649503</th>\n",
       "      <td>0</td>\n",
       "      <td>raining again</td>\n",
       "    </tr>\n",
       "    <tr>\n",
       "      <th>610789</th>\n",
       "      <td>0</td>\n",
       "      <td>USER wish wa right now</td>\n",
       "    </tr>\n",
       "  </tbody>\n",
       "</table>\n",
       "</div>"
      ],
      "text/plain": [
       "        target                                               text\n",
       "514293       0  miss nikki already shes always there when need...\n",
       "142282       0  had dream last night remember sign which clear...\n",
       "403727       0  USER ohh poor sickly you hug hope you feel lit...\n",
       "649503       0                                     raining again \n",
       "610789       0                            USER wish wa right now "
      ]
     },
     "execution_count": 68,
     "metadata": {},
     "output_type": "execute_result"
    }
   ],
   "source": [
    "#Data transformation: example\n",
    "data2 = dataframe.copy()\n",
    "data2['target'] = data2.target.replace(4,1)\n",
    "data2['text'] = preprocess(data2.text)\n",
    "data2.head()"
   ]
  },
  {
   "cell_type": "code",
   "execution_count": 69,
   "id": "b760f8fd-9aaa-4501-b394-c1e09611535c",
   "metadata": {},
   "outputs": [
    {
     "name": "stdout",
     "output_type": "stream",
     "text": [
      "['gotta parent the rudest ppl ever '\n",
      " 'USER hey you are you still anyway did you get reply one particular '\n",
      " 'USER thanks much '\n",
      " 'last chemistry lesson for this school year brighter note birthday will sandwiched between two day chemistry lab '\n",
      " 'headache '\n",
      " 'USER not even better than kapsel cha nulis note spertinya ditag cuz ada notificationnya huhu '\n",
      " 'USER thanks '\n",
      " 'but think this movie boring opinon bullshit ehhm yay finished second chapter for wandern ist de sportlers lust '\n",
      " 'hate hayfever eye are leaking nose running and keep sneezing not doing well '\n",
      " 'upset take good care please ']\n",
      "['umm who invented profanity why bitch curse word did they say curse word when jesus walked the earth being serious here '\n",
      " 'USER not yet need more traffic the old blog methinks how about fotomoto '\n",
      " 'bored the condo nobody home '\n",
      " 'USER voted for you demi say goo lucking tomorrow have the exam school and talk about you subject music '\n",
      " 'USER come think all award were for scam hiks wasn fault hiks the company said wa '\n",
      " 'don wanna get ' 'USER you would amazed how many fan have told that '\n",
      " 'USER USER what happened tyrone twitter '\n",
      " 'hey you guy sir goony voice just saw the trailer for the new twilight saga new moon love '\n",
      " 'USER went church and had family dinner cause brother wa town for his best friend wedding and left yesterday ']\n",
      "['USER feel you '\n",
      " 'USER seen load around coolock think could catch and get sticker '\n",
      " 'USER still got upset stomach feel dodgy seems diet raw ginger and plain toast yesterday wasn enough send packing '\n",
      " 'USER lol yeah seriously take second '\n",
      " 'USER please please please say hey USER she love you pleasee '\n",
      " 'USER haha baby talking you too thanks having dippy egg later think EMOJIwink haha love you '\n",
      " 'ready work her charm that she just happened find and get her man tomorrow psh least try '\n",
      " 'USER anytime haha too '\n",
      " 'USER see the matinee cost le and you see the carmike you get student discount '\n",
      " 'USER they bought one recently the bris young designer market alarna very nice sure she helpful ']\n"
     ]
    }
   ],
   "source": [
    "#Transform X - features\n",
    "X_train_clean = np.array(preprocess(X_train))\n",
    "print(X_train_clean[0:10])\n",
    "X_val_clean = np.array(preprocess(X_val))\n",
    "print(X_val_clean[0:10])\n",
    "X_test_clean = np.array(preprocess(X_test))\n",
    "print(X_test_clean[0:10])"
   ]
  },
  {
   "cell_type": "code",
   "execution_count": 70,
   "id": "bf0edacd-2867-4825-af3b-d2eb936090db",
   "metadata": {},
   "outputs": [
    {
     "name": "stdout",
     "output_type": "stream",
     "text": [
      "[0 1 1 1 0 0 1 1 0 0]\n",
      "[1 0 0 1 0 0 1 0 1 1]\n",
      "[0 0 0 0 1 1 1 1 1 1]\n"
     ]
    }
   ],
   "source": [
    "#Transform y - target\n",
    "y_train_clean = np.array(y_train)\n",
    "print(y_train_clean[0:10])\n",
    "\n",
    "y_val_clean = np.array(y_val)\n",
    "print(y_val_clean[0:10])\n",
    "\n",
    "y_test_clean = np.array(y_test)\n",
    "print(y_test_clean[0:10])"
   ]
  },
  {
   "cell_type": "markdown",
   "id": "60f4b463-32ad-4aa5-bb6d-d0c4a3df155f",
   "metadata": {},
   "source": [
    "### 5.2 Model 3 \n",
    "Appply the best model hyperparameters "
   ]
  },
  {
   "cell_type": "markdown",
   "id": "10e5fa46-14d6-4190-950a-548a62b72192",
   "metadata": {},
   "source": [
    "#### Model"
   ]
  },
  {
   "cell_type": "code",
   "execution_count": 71,
   "id": "c2a5de35-6a82-483a-bebf-b90ef4b8cbf9",
   "metadata": {},
   "outputs": [
    {
     "name": "stdout",
     "output_type": "stream",
     "text": [
      "Model: \"sequential_17\"\n",
      "_________________________________________________________________\n",
      " Layer (type)                Output Shape              Param #   \n",
      "=================================================================\n",
      " text_vectorization (TextVec  (None, None)             0         \n",
      " torization)                                                     \n",
      "                                                                 \n",
      " embedding_16 (Embedding)    (None, None, 64)          64000     \n",
      "                                                                 \n",
      " bidirectional_31 (Bidirecti  (None, None, 128)        66048     \n",
      " onal)                                                           \n",
      "                                                                 \n",
      " bidirectional_32 (Bidirecti  (None, 64)               41216     \n",
      " onal)                                                           \n",
      "                                                                 \n",
      " dense_32 (Dense)            (None, 32)                2080      \n",
      "                                                                 \n",
      " dropout_15 (Dropout)        (None, 32)                0         \n",
      "                                                                 \n",
      " dense_33 (Dense)            (None, 1)                 33        \n",
      "                                                                 \n",
      "=================================================================\n",
      "Total params: 173,377\n",
      "Trainable params: 173,377\n",
      "Non-trainable params: 0\n",
      "_________________________________________________________________\n"
     ]
    }
   ],
   "source": [
    "#Define the model\n",
    "model_final = make_model( dense_units = 32\n",
    "               , dropout = 0.5\n",
    "               , lr = 0.010\n",
    "               , verbose = 1)"
   ]
  },
  {
   "cell_type": "markdown",
   "id": "32452431-b5c2-40e9-9955-c4b6dec9ff11",
   "metadata": {},
   "source": [
    "#### Training"
   ]
  },
  {
   "cell_type": "code",
   "execution_count": 72,
   "id": "e39054ac-e081-4cd6-bfef-43ce1e657870",
   "metadata": {},
   "outputs": [
    {
     "name": "stdout",
     "output_type": "stream",
     "text": [
      "Epoch 1/10\n",
      "79/79 [==============================] - 585s 7s/step - loss: 0.5422 - accuracy: 0.7250 - val_loss: 0.5014 - val_accuracy: 0.7546\n",
      "Epoch 2/10\n",
      "79/79 [==============================] - 513s 6s/step - loss: 0.4976 - accuracy: 0.7591 - val_loss: 0.4900 - val_accuracy: 0.7590\n",
      "Epoch 3/10\n",
      "79/79 [==============================] - 461s 6s/step - loss: 0.4824 - accuracy: 0.7660 - val_loss: 0.4893 - val_accuracy: 0.7645\n",
      "Epoch 4/10\n",
      "79/79 [==============================] - 444s 6s/step - loss: 0.4708 - accuracy: 0.7734 - val_loss: 0.4857 - val_accuracy: 0.7628\n",
      "Epoch 5/10\n",
      "79/79 [==============================] - 457s 6s/step - loss: 0.4619 - accuracy: 0.7791 - val_loss: 0.4875 - val_accuracy: 0.7604\n",
      "Epoch 6/10\n",
      "79/79 [==============================] - 456s 6s/step - loss: 0.4521 - accuracy: 0.7839 - val_loss: 0.4974 - val_accuracy: 0.7617\n",
      "Epoch 7/10\n",
      "79/79 [==============================] - 453s 6s/step - loss: 0.4404 - accuracy: 0.7897 - val_loss: 0.4989 - val_accuracy: 0.7567\n",
      "Epoch 8/10\n",
      "79/79 [==============================] - 433s 5s/step - loss: 0.4271 - accuracy: 0.7975 - val_loss: 0.5117 - val_accuracy: 0.7558\n",
      "Epoch 9/10\n",
      "79/79 [==============================] - 438s 6s/step - loss: 0.4095 - accuracy: 0.8052 - val_loss: 0.5318 - val_accuracy: 0.7576\n",
      "Epoch 10/10\n",
      "79/79 [==============================] - 405s 5s/step - loss: 0.3916 - accuracy: 0.8166 - val_loss: 0.5415 - val_accuracy: 0.7489\n"
     ]
    }
   ],
   "source": [
    "#Fit the model\n",
    "history_final = model_final.fit(x=X_train_clean, y=y_train_clean\n",
    "                         ,epochs=10\n",
    "                         ,batch_size=1000\n",
    "                         ,validation_data=(X_val_clean,y_val_clean)\n",
    "                         ,validation_steps=30)\n",
    "\n",
    "accuracy = pd.DataFrame.from_dict(history_final.history)['accuracy'].iloc[-1]"
   ]
  },
  {
   "cell_type": "code",
   "execution_count": 75,
   "id": "a1ca7c98-f1f8-4a91-8340-9b529ac95419",
   "metadata": {},
   "outputs": [
    {
     "data": {
      "text/plain": [
       "(0.0, 1.0)"
      ]
     },
     "execution_count": 75,
     "metadata": {},
     "output_type": "execute_result"
    },
    {
     "data": {
      "image/png": "[encoded data removed]",
      "text/plain": [
       "<Figure size 864x360 with 2 Axes>"
      ]
     },
     "metadata": {
      "needs_background": "light"
     },
     "output_type": "display_data"
    }
   ],
   "source": [
    "#Check the evolution in accuracy and loss around the epochs\n",
    "plt.figure(figsize=(12, 5))\n",
    "plt.subplot(1, 2, 1)\n",
    "plot_graphs(history_final, 'accuracy')\n",
    "plt.ylim(None, 1)\n",
    "plt.subplot(1, 2, 2)\n",
    "plot_graphs(history_final, 'loss')\n",
    "plt.ylim(0, 1)"
   ]
  },
  {
   "cell_type": "code",
   "execution_count": 73,
   "id": "035433a7-f046-4618-9984-b2be18bf17a2",
   "metadata": {},
   "outputs": [
    {
     "data": {
      "text/plain": [
       "0.8166071176528931"
      ]
     },
     "execution_count": 73,
     "metadata": {},
     "output_type": "execute_result"
    }
   ],
   "source": [
    "#Training accuracy\n",
    "accuracy "
   ]
  },
  {
   "cell_type": "markdown",
   "id": "8c47d53c-f1a4-49a9-836b-b85703653464",
   "metadata": {},
   "source": [
    "**Conclusions:**\n",
    "- Loss function in training and validation are not very similiar at the end, so the model is overfitting\n",
    "- Accuracy gets worse with the validation set, but better in training, the model is overfitting"
   ]
  },
  {
   "cell_type": "markdown",
   "id": "d9291708-dd9e-4973-8d56-18c55fb9847e",
   "metadata": {},
   "source": [
    "#### Testing"
   ]
  },
  {
   "cell_type": "code",
   "execution_count": 74,
   "id": "f55f9eda-9b47-411f-a886-fad06d06b05c",
   "metadata": {},
   "outputs": [
    {
     "name": "stdout",
     "output_type": "stream",
     "text": [
      "1500/1500 [==============================] - 131s 82ms/step - loss: 0.5449 - accuracy: 0.7484\n",
      "Test Loss: 0.5449116230010986\n",
      "Test Accuracy: 0.7484166622161865\n"
     ]
    }
   ],
   "source": [
    "#testing\n",
    "test_loss, test_acc = model_final.evaluate(X_test_clean,y_test_clean)\n",
    "\n",
    "print('Test Loss:', test_loss)\n",
    "print('Test Accuracy:', test_acc)"
   ]
  },
  {
   "cell_type": "code",
   "execution_count": 76,
   "id": "050ea4b0-ac0c-470d-b32e-5d5c11a52c86",
   "metadata": {},
   "outputs": [
    {
     "data": {
      "text/plain": [
       "array([[0.39919156],\n",
       "       [0.2445023 ],\n",
       "       [0.02264413],\n",
       "       ...,\n",
       "       [0.96122396],\n",
       "       [0.04419217],\n",
       "       [0.42691177]], dtype=float32)"
      ]
     },
     "execution_count": 76,
     "metadata": {},
     "output_type": "execute_result"
    }
   ],
   "source": [
    "#Prediction\n",
    "pred1 = model_final.predict(X_test_clean)\n",
    "pred1"
   ]
  },
  {
   "cell_type": "code",
   "execution_count": 77,
   "id": "28a48c26-9e80-47a6-98e2-cf8ca5d9daba",
   "metadata": {},
   "outputs": [
    {
     "name": "stdout",
     "output_type": "stream",
     "text": [
      "Legitimate Transactions Detected (True Negatives):  18061 74.36182476943345 %\n",
      "Legitimate Transactions Incorrectly Detected (False Positives):  5849\n",
      "Fraudulent Transactions Missed (False Negatives):  6227\n",
      "Fraudulent Transactions Detected (True Positives):  17863 75.33316464237517 %\n",
      "Total Fraudulent Transactions:  24090\n"
     ]
    },
    {
     "data": {
      "image/png": "[encoded data removed]",
      "text/plain": [
       "<Figure size 360x360 with 2 Axes>"
      ]
     },
     "metadata": {
      "needs_background": "light"
     },
     "output_type": "display_data"
    }
   ],
   "source": [
    "#Metrics\n",
    "plot_cm(test_df.target, pred1)"
   ]
  },
  {
   "cell_type": "markdown",
   "id": "a81745d4-57ae-4360-835c-31619c82917e",
   "metadata": {},
   "source": [
    "**Conclusion:**\n",
    "\n",
    "This model is overfitting. Some evidences:\n",
    " - Accuracy: The training accuracy is greater than validation accuracy, and even testing accuracy is lower\n",
    " - In Loss Function plot, training curve and validation curve are separating with grater epochs\n",
    " - In Accuracy plot, training curve and validation curve are separating with grater epochs"
   ]
  }
 ],
 "metadata": {
  "kernelspec": {
   "display_name": "Python 3 (ipykernel)",
   "language": "python",
   "name": "python3"
  },
  "language_info": {
   "codemirror_mode": {
    "name": "ipython",
    "version": 3
   },
   "file_extension": ".py",
   "mimetype": "text/x-python",
   "name": "python",
   "nbconvert_exporter": "python",
   "pygments_lexer": "ipython3",
   "version": "3.8.8"
  }
 },
 "nbformat": 4,
 "nbformat_minor": 5
}
