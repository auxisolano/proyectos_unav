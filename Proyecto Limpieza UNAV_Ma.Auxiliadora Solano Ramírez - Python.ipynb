{
 "cells": [
  {
   "cell_type": "markdown",
   "metadata": {
    "application/vnd.databricks.v1+cell": {
     "inputWidgets": {},
     "nuid": "510c5bdd-8509-41ef-b2dd-5c00d34ccf68",
     "showTitle": false,
     "title": ""
    }
   },
   "source": [
    "# Máster en Big Data Science - UNAV \n",
    "-----------------------------------------------------------------------------------------------------------------------------------------\n",
    "**Preparación y Limpieza de Datos - Proyecto de curso**\n",
    "\n",
    " María Auxiliadora Solano Ramírez - Febrero 2022"
   ]
  },
  {
   "cell_type": "markdown",
   "metadata": {
    "application/vnd.databricks.v1+cell": {
     "inputWidgets": {},
     "nuid": "2655d713-5f7d-45d1-883d-4265a58cca3b",
     "showTitle": false,
     "title": ""
    }
   },
   "source": [
    "**Contenido**\n",
    "1. Aspectos generales\n",
    "2. Importación de datos\n",
    "3. Transformación de campos\n",
    "4. Estadística descrciptiva\n",
    "5. Limpieza de datos \n",
    "6. Feature selection\n",
    "7. Modelo"
   ]
  },
  {
   "cell_type": "markdown",
   "metadata": {
    "application/vnd.databricks.v1+cell": {
     "inputWidgets": {},
     "nuid": "a4bb686d-4dcc-4eba-9536-649190cd902c",
     "showTitle": false,
     "title": ""
    }
   },
   "source": [
    "## 1. Aspectos generales"
   ]
  },
  {
   "cell_type": "markdown",
   "metadata": {
    "application/vnd.databricks.v1+cell": {
     "inputWidgets": {},
     "nuid": "6f084757-071e-4a7f-bab2-efa95e487206",
     "showTitle": false,
     "title": ""
    }
   },
   "source": [
    "### 1.1 Fuente de datos\n",
    "\n",
    "Se selecciona una base de datos relacionada con desastres naturales a nivel mundial desde 1950 hasta 2010\n",
    "- Nombre: Natural Disasters Data Explorer\n",
    "- Página web: https://www.kaggle.com/mathurinache/natural-disasters-data-explorer"
   ]
  },
  {
   "cell_type": "markdown",
   "metadata": {
    "application/vnd.databricks.v1+cell": {
     "inputWidgets": {},
     "nuid": "f4a657e2-bc74-409f-a2a3-598824c37e89",
     "showTitle": false,
     "title": ""
    }
   },
   "source": [
    "### 1.2 Objetivo:\n",
    "\n",
    "Identificar la relación entre la variable Total economic damages con el resto de variables"
   ]
  },
  {
   "cell_type": "markdown",
   "metadata": {
    "application/vnd.databricks.v1+cell": {
     "inputWidgets": {},
     "nuid": "1f0b62d4-a252-4c33-92bc-35abd7f33dec",
     "showTitle": false,
     "title": ""
    }
   },
   "source": [
    "### 1.3 Bases de datos:\n",
    "\n",
    "DataFrame creados para ser manipulados a lo largo de este Notebook\n",
    " - data: lectura de base de datos\n",
    " - df_unido: base de datos transformada\n",
    " - X: base de datos de inspección\n",
    " - datos: base datos para limpiar\n",
    " - data_final: base de datos lista para el modelo"
   ]
  },
  {
   "cell_type": "markdown",
   "metadata": {
    "application/vnd.databricks.v1+cell": {
     "inputWidgets": {},
     "nuid": "f4b6fe9d-d014-40e8-82b0-bc8a7e8f6ed1",
     "showTitle": false,
     "title": ""
    }
   },
   "source": [
    "## 2. Importación de datos\n",
    "\n",
    "Importación de los datos desde el disco duro del ordenador al Cluster de Databricks para luego acceder a la tabla creada y ser transformado en un DataFrame"
   ]
  },
  {
   "cell_type": "code",
   "execution_count": 4,
   "metadata": {
    "application/vnd.databricks.v1+cell": {
     "inputWidgets": {},
     "nuid": "a9b91b1a-ea34-48eb-81bd-6f8a76e71ae8",
     "showTitle": false,
     "title": ""
    }
   },
   "outputs": [
    {
     "name": "stdout",
     "output_type": "stream",
     "text": [
      "Collecting lightgbm\n",
      "  Downloading lightgbm-3.3.2-py3-none-win_amd64.whl (1.0 MB)\n",
      "Requirement already satisfied: wheel in c:\\users\\auxis\\anaconda3\\lib\\site-packages (from lightgbm) (0.36.2)\n",
      "Requirement already satisfied: scipy in c:\\users\\auxis\\anaconda3\\lib\\site-packages (from lightgbm) (1.6.2)\n",
      "Requirement already satisfied: numpy in c:\\users\\auxis\\anaconda3\\lib\\site-packages (from lightgbm) (1.20.1)\n",
      "Requirement already satisfied: scikit-learn!=0.22.0 in c:\\users\\auxis\\anaconda3\\lib\\site-packages (from lightgbm) (1.0.2)\n",
      "Requirement already satisfied: joblib>=0.11 in c:\\users\\auxis\\anaconda3\\lib\\site-packages (from scikit-learn!=0.22.0->lightgbm) (1.0.1)\n",
      "Requirement already satisfied: threadpoolctl>=2.0.0 in c:\\users\\auxis\\anaconda3\\lib\\site-packages (from scikit-learn!=0.22.0->lightgbm) (2.1.0)\n",
      "Installing collected packages: lightgbm\n",
      "Successfully installed lightgbm-3.3.2\n"
     ]
    }
   ],
   "source": [
    "!pip install lightgbm"
   ]
  },
  {
   "cell_type": "markdown",
   "metadata": {
    "application/vnd.databricks.v1+cell": {
     "inputWidgets": {},
     "nuid": "9d8c6913-52b3-4d0e-af49-8ede18bba815",
     "showTitle": false,
     "title": ""
    }
   },
   "source": [
    "### 2.1 Importación de librerías requeridas"
   ]
  },
  {
   "cell_type": "code",
   "execution_count": 1,
   "metadata": {
    "application/vnd.databricks.v1+cell": {
     "inputWidgets": {},
     "nuid": "52cc2056-c871-4e8c-8c39-bd4c002ed66e",
     "showTitle": false,
     "title": ""
    }
   },
   "outputs": [],
   "source": [
    "# numpy and pandas for data manipulation\n",
    "import pandas as pd\n",
    "import numpy as np\n",
    "\n",
    "# model used for feature importances\n",
    "import lightgbm as lgb\n",
    "\n",
    "# utility for early stopping with a validation set\n",
    "from sklearn.model_selection import train_test_split\n",
    "\n",
    "# visualizations\n",
    "import matplotlib.pyplot as plt\n",
    "import seaborn as sns\n",
    "\n",
    "# memory management\n",
    "import gc\n",
    "\n",
    "# utilities\n",
    "from itertools import chain"
   ]
  },
  {
   "cell_type": "markdown",
   "metadata": {
    "application/vnd.databricks.v1+cell": {
     "inputWidgets": {},
     "nuid": "833a20d7-66cd-43cb-ac45-8b2948538f1b",
     "showTitle": false,
     "title": ""
    }
   },
   "source": [
    "### 2.2 Carga de datos"
   ]
  },
  {
   "cell_type": "code",
   "execution_count": 2,
   "metadata": {
    "application/vnd.databricks.v1+cell": {
     "inputWidgets": {},
     "nuid": "637725da-2312-46b8-b0bd-5fc2eb3d5e29",
     "showTitle": false,
     "title": ""
    }
   },
   "outputs": [
    {
     "data": {
      "text/html": [
       "<div>\n",
       "<style scoped>\n",
       "    .dataframe tbody tr th:only-of-type {\n",
       "        vertical-align: middle;\n",
       "    }\n",
       "\n",
       "    .dataframe tbody tr th {\n",
       "        vertical-align: top;\n",
       "    }\n",
       "\n",
       "    .dataframe thead th {\n",
       "        text-align: right;\n",
       "    }\n",
       "</style>\n",
       "<table border=\"1\" class=\"dataframe\">\n",
       "  <thead>\n",
       "    <tr style=\"text-align: right;\">\n",
       "      <th></th>\n",
       "      <th>Number of deaths from drought</th>\n",
       "      <th>Number of people injured from drought</th>\n",
       "      <th>Number of people affected from drought</th>\n",
       "      <th>Number of people left homeless from drought</th>\n",
       "      <th>Number of total people affected by drought</th>\n",
       "      <th>Reconstruction costs from drought</th>\n",
       "      <th>Insured damages against drought</th>\n",
       "      <th>Total economic damages from drought</th>\n",
       "      <th>Death rates from drought</th>\n",
       "      <th>Injury rates from drought</th>\n",
       "      <th>...</th>\n",
       "      <th>Total economic damages from landslides as a share of GDP</th>\n",
       "      <th>Total economic damages from mass movements as a share of GDP</th>\n",
       "      <th>Total economic damages from storms as a share of GDP</th>\n",
       "      <th>Total economic damages from volcanic activity as a share of GDP</th>\n",
       "      <th>Total economic damages from volcanic activity as a share of GDP.1</th>\n",
       "      <th>Entity</th>\n",
       "      <th>Year</th>\n",
       "      <th>deaths_rate_per_100k_storm</th>\n",
       "      <th>injured_rate_per_100k_storm</th>\n",
       "      <th>total_affected_rate_per_100k_all_disasters</th>\n",
       "    </tr>\n",
       "  </thead>\n",
       "  <tbody>\n",
       "    <tr>\n",
       "      <th>0</th>\n",
       "      <td>0.0</td>\n",
       "      <td>0.0</td>\n",
       "      <td>0.0</td>\n",
       "      <td>0</td>\n",
       "      <td>0.0</td>\n",
       "      <td>NaN</td>\n",
       "      <td>NaN</td>\n",
       "      <td>NaN</td>\n",
       "      <td>0.0</td>\n",
       "      <td>0.0</td>\n",
       "      <td>...</td>\n",
       "      <td>NaN</td>\n",
       "      <td>NaN</td>\n",
       "      <td>NaN</td>\n",
       "      <td>NaN</td>\n",
       "      <td>NaN</td>\n",
       "      <td>Afghanistan</td>\n",
       "      <td>1950</td>\n",
       "      <td>0.000000</td>\n",
       "      <td>0.000000</td>\n",
       "      <td>2.381236</td>\n",
       "    </tr>\n",
       "    <tr>\n",
       "      <th>1</th>\n",
       "      <td>0.0</td>\n",
       "      <td>0.0</td>\n",
       "      <td>4800.0</td>\n",
       "      <td>0</td>\n",
       "      <td>4800.0</td>\n",
       "      <td>0.0</td>\n",
       "      <td>0.0</td>\n",
       "      <td>20.0</td>\n",
       "      <td>0.0</td>\n",
       "      <td>0.0</td>\n",
       "      <td>...</td>\n",
       "      <td>0.0</td>\n",
       "      <td>0.0</td>\n",
       "      <td>0.000000</td>\n",
       "      <td>0.0</td>\n",
       "      <td>0.0</td>\n",
       "      <td>Afghanistan</td>\n",
       "      <td>1960</td>\n",
       "      <td>0.000000</td>\n",
       "      <td>0.000000</td>\n",
       "      <td>44.060951</td>\n",
       "    </tr>\n",
       "    <tr>\n",
       "      <th>2</th>\n",
       "      <td>0.0</td>\n",
       "      <td>0.0</td>\n",
       "      <td>0.0</td>\n",
       "      <td>0</td>\n",
       "      <td>0.0</td>\n",
       "      <td>0.0</td>\n",
       "      <td>0.0</td>\n",
       "      <td>0.0</td>\n",
       "      <td>0.0</td>\n",
       "      <td>0.0</td>\n",
       "      <td>...</td>\n",
       "      <td>0.0</td>\n",
       "      <td>0.0</td>\n",
       "      <td>0.000000</td>\n",
       "      <td>0.0</td>\n",
       "      <td>0.0</td>\n",
       "      <td>Afghanistan</td>\n",
       "      <td>1970</td>\n",
       "      <td>0.000000</td>\n",
       "      <td>0.000000</td>\n",
       "      <td>547.029875</td>\n",
       "    </tr>\n",
       "    <tr>\n",
       "      <th>3</th>\n",
       "      <td>0.0</td>\n",
       "      <td>0.0</td>\n",
       "      <td>0.0</td>\n",
       "      <td>0</td>\n",
       "      <td>0.0</td>\n",
       "      <td>0.0</td>\n",
       "      <td>0.0</td>\n",
       "      <td>0.0</td>\n",
       "      <td>0.0</td>\n",
       "      <td>0.0</td>\n",
       "      <td>...</td>\n",
       "      <td>0.0</td>\n",
       "      <td>0.0</td>\n",
       "      <td>0.000000</td>\n",
       "      <td>0.0</td>\n",
       "      <td>0.0</td>\n",
       "      <td>Afghanistan</td>\n",
       "      <td>1980</td>\n",
       "      <td>0.000000</td>\n",
       "      <td>0.000000</td>\n",
       "      <td>218.081859</td>\n",
       "    </tr>\n",
       "    <tr>\n",
       "      <th>4</th>\n",
       "      <td>0.0</td>\n",
       "      <td>0.0</td>\n",
       "      <td>0.0</td>\n",
       "      <td>0</td>\n",
       "      <td>0.0</td>\n",
       "      <td>0.0</td>\n",
       "      <td>0.0</td>\n",
       "      <td>0.0</td>\n",
       "      <td>0.0</td>\n",
       "      <td>0.0</td>\n",
       "      <td>...</td>\n",
       "      <td>0.0</td>\n",
       "      <td>0.0</td>\n",
       "      <td>0.000000</td>\n",
       "      <td>0.0</td>\n",
       "      <td>0.0</td>\n",
       "      <td>Afghanistan</td>\n",
       "      <td>1990</td>\n",
       "      <td>0.006322</td>\n",
       "      <td>0.000000</td>\n",
       "      <td>316.150814</td>\n",
       "    </tr>\n",
       "    <tr>\n",
       "      <th>...</th>\n",
       "      <td>...</td>\n",
       "      <td>...</td>\n",
       "      <td>...</td>\n",
       "      <td>...</td>\n",
       "      <td>...</td>\n",
       "      <td>...</td>\n",
       "      <td>...</td>\n",
       "      <td>...</td>\n",
       "      <td>...</td>\n",
       "      <td>...</td>\n",
       "      <td>...</td>\n",
       "      <td>...</td>\n",
       "      <td>...</td>\n",
       "      <td>...</td>\n",
       "      <td>...</td>\n",
       "      <td>...</td>\n",
       "      <td>...</td>\n",
       "      <td>...</td>\n",
       "      <td>...</td>\n",
       "      <td>...</td>\n",
       "      <td>...</td>\n",
       "    </tr>\n",
       "    <tr>\n",
       "      <th>1599</th>\n",
       "      <td>0.0</td>\n",
       "      <td>0.0</td>\n",
       "      <td>0.0</td>\n",
       "      <td>0</td>\n",
       "      <td>0.0</td>\n",
       "      <td>0.0</td>\n",
       "      <td>0.0</td>\n",
       "      <td>0.0</td>\n",
       "      <td>0.0</td>\n",
       "      <td>0.0</td>\n",
       "      <td>...</td>\n",
       "      <td>0.0</td>\n",
       "      <td>0.0</td>\n",
       "      <td>0.000000</td>\n",
       "      <td>0.0</td>\n",
       "      <td>0.0</td>\n",
       "      <td>Zimbabwe</td>\n",
       "      <td>1970</td>\n",
       "      <td>0.017477</td>\n",
       "      <td>0.000000</td>\n",
       "      <td>0.000000</td>\n",
       "    </tr>\n",
       "    <tr>\n",
       "      <th>1600</th>\n",
       "      <td>0.0</td>\n",
       "      <td>0.0</td>\n",
       "      <td>0.0</td>\n",
       "      <td>0</td>\n",
       "      <td>0.0</td>\n",
       "      <td>0.0</td>\n",
       "      <td>0.0</td>\n",
       "      <td>100.0</td>\n",
       "      <td>0.0</td>\n",
       "      <td>0.0</td>\n",
       "      <td>...</td>\n",
       "      <td>0.0</td>\n",
       "      <td>0.0</td>\n",
       "      <td>0.000000</td>\n",
       "      <td>0.0</td>\n",
       "      <td>0.0</td>\n",
       "      <td>Zimbabwe</td>\n",
       "      <td>1980</td>\n",
       "      <td>0.000000</td>\n",
       "      <td>0.000000</td>\n",
       "      <td>0.000000</td>\n",
       "    </tr>\n",
       "    <tr>\n",
       "      <th>1601</th>\n",
       "      <td>0.0</td>\n",
       "      <td>0.0</td>\n",
       "      <td>505500.0</td>\n",
       "      <td>0</td>\n",
       "      <td>505500.0</td>\n",
       "      <td>0.0</td>\n",
       "      <td>0.0</td>\n",
       "      <td>5000.0</td>\n",
       "      <td>0.0</td>\n",
       "      <td>0.0</td>\n",
       "      <td>...</td>\n",
       "      <td>0.0</td>\n",
       "      <td>0.0</td>\n",
       "      <td>0.000000</td>\n",
       "      <td>0.0</td>\n",
       "      <td>0.0</td>\n",
       "      <td>Zimbabwe</td>\n",
       "      <td>1990</td>\n",
       "      <td>0.000000</td>\n",
       "      <td>0.000000</td>\n",
       "      <td>4839.765250</td>\n",
       "    </tr>\n",
       "    <tr>\n",
       "      <th>1602</th>\n",
       "      <td>0.0</td>\n",
       "      <td>0.0</td>\n",
       "      <td>810000.0</td>\n",
       "      <td>0</td>\n",
       "      <td>810000.0</td>\n",
       "      <td>0.0</td>\n",
       "      <td>0.0</td>\n",
       "      <td>0.0</td>\n",
       "      <td>0.0</td>\n",
       "      <td>0.0</td>\n",
       "      <td>...</td>\n",
       "      <td>0.0</td>\n",
       "      <td>0.0</td>\n",
       "      <td>0.002268</td>\n",
       "      <td>0.0</td>\n",
       "      <td>0.0</td>\n",
       "      <td>Zimbabwe</td>\n",
       "      <td>2000</td>\n",
       "      <td>0.006677</td>\n",
       "      <td>0.000000</td>\n",
       "      <td>7023.254487</td>\n",
       "    </tr>\n",
       "    <tr>\n",
       "      <th>1603</th>\n",
       "      <td>0.0</td>\n",
       "      <td>0.0</td>\n",
       "      <td>1286761.8</td>\n",
       "      <td>0</td>\n",
       "      <td>1286761.8</td>\n",
       "      <td>0.0</td>\n",
       "      <td>0.0</td>\n",
       "      <td>50000.0</td>\n",
       "      <td>0.0</td>\n",
       "      <td>0.0</td>\n",
       "      <td>...</td>\n",
       "      <td>0.0</td>\n",
       "      <td>0.0</td>\n",
       "      <td>0.099393</td>\n",
       "      <td>0.0</td>\n",
       "      <td>0.0</td>\n",
       "      <td>Zimbabwe</td>\n",
       "      <td>2010</td>\n",
       "      <td>0.634451</td>\n",
       "      <td>0.216912</td>\n",
       "      <td>9656.191875</td>\n",
       "    </tr>\n",
       "  </tbody>\n",
       "</table>\n",
       "<p>1604 rows × 171 columns</p>\n",
       "</div>"
      ],
      "text/plain": [
       "      Number of deaths from drought  Number of people injured from drought  \\\n",
       "0                               0.0                                    0.0   \n",
       "1                               0.0                                    0.0   \n",
       "2                               0.0                                    0.0   \n",
       "3                               0.0                                    0.0   \n",
       "4                               0.0                                    0.0   \n",
       "...                             ...                                    ...   \n",
       "1599                            0.0                                    0.0   \n",
       "1600                            0.0                                    0.0   \n",
       "1601                            0.0                                    0.0   \n",
       "1602                            0.0                                    0.0   \n",
       "1603                            0.0                                    0.0   \n",
       "\n",
       "      Number of people affected from drought  \\\n",
       "0                                        0.0   \n",
       "1                                     4800.0   \n",
       "2                                        0.0   \n",
       "3                                        0.0   \n",
       "4                                        0.0   \n",
       "...                                      ...   \n",
       "1599                                     0.0   \n",
       "1600                                     0.0   \n",
       "1601                                505500.0   \n",
       "1602                                810000.0   \n",
       "1603                               1286761.8   \n",
       "\n",
       "      Number of people left homeless from drought  \\\n",
       "0                                               0   \n",
       "1                                               0   \n",
       "2                                               0   \n",
       "3                                               0   \n",
       "4                                               0   \n",
       "...                                           ...   \n",
       "1599                                            0   \n",
       "1600                                            0   \n",
       "1601                                            0   \n",
       "1602                                            0   \n",
       "1603                                            0   \n",
       "\n",
       "      Number of total people affected by drought  \\\n",
       "0                                            0.0   \n",
       "1                                         4800.0   \n",
       "2                                            0.0   \n",
       "3                                            0.0   \n",
       "4                                            0.0   \n",
       "...                                          ...   \n",
       "1599                                         0.0   \n",
       "1600                                         0.0   \n",
       "1601                                    505500.0   \n",
       "1602                                    810000.0   \n",
       "1603                                   1286761.8   \n",
       "\n",
       "      Reconstruction costs from drought  Insured damages against drought  \\\n",
       "0                                   NaN                              NaN   \n",
       "1                                   0.0                              0.0   \n",
       "2                                   0.0                              0.0   \n",
       "3                                   0.0                              0.0   \n",
       "4                                   0.0                              0.0   \n",
       "...                                 ...                              ...   \n",
       "1599                                0.0                              0.0   \n",
       "1600                                0.0                              0.0   \n",
       "1601                                0.0                              0.0   \n",
       "1602                                0.0                              0.0   \n",
       "1603                                0.0                              0.0   \n",
       "\n",
       "      Total economic damages from drought  Death rates from drought  \\\n",
       "0                                     NaN                       0.0   \n",
       "1                                    20.0                       0.0   \n",
       "2                                     0.0                       0.0   \n",
       "3                                     0.0                       0.0   \n",
       "4                                     0.0                       0.0   \n",
       "...                                   ...                       ...   \n",
       "1599                                  0.0                       0.0   \n",
       "1600                                100.0                       0.0   \n",
       "1601                               5000.0                       0.0   \n",
       "1602                                  0.0                       0.0   \n",
       "1603                              50000.0                       0.0   \n",
       "\n",
       "      Injury rates from drought  ...  \\\n",
       "0                           0.0  ...   \n",
       "1                           0.0  ...   \n",
       "2                           0.0  ...   \n",
       "3                           0.0  ...   \n",
       "4                           0.0  ...   \n",
       "...                         ...  ...   \n",
       "1599                        0.0  ...   \n",
       "1600                        0.0  ...   \n",
       "1601                        0.0  ...   \n",
       "1602                        0.0  ...   \n",
       "1603                        0.0  ...   \n",
       "\n",
       "      Total economic damages from landslides as a share of GDP  \\\n",
       "0                                                   NaN          \n",
       "1                                                   0.0          \n",
       "2                                                   0.0          \n",
       "3                                                   0.0          \n",
       "4                                                   0.0          \n",
       "...                                                 ...          \n",
       "1599                                                0.0          \n",
       "1600                                                0.0          \n",
       "1601                                                0.0          \n",
       "1602                                                0.0          \n",
       "1603                                                0.0          \n",
       "\n",
       "      Total economic damages from mass movements as a share of GDP  \\\n",
       "0                                                   NaN              \n",
       "1                                                   0.0              \n",
       "2                                                   0.0              \n",
       "3                                                   0.0              \n",
       "4                                                   0.0              \n",
       "...                                                 ...              \n",
       "1599                                                0.0              \n",
       "1600                                                0.0              \n",
       "1601                                                0.0              \n",
       "1602                                                0.0              \n",
       "1603                                                0.0              \n",
       "\n",
       "      Total economic damages from storms as a share of GDP  \\\n",
       "0                                                   NaN      \n",
       "1                                              0.000000      \n",
       "2                                              0.000000      \n",
       "3                                              0.000000      \n",
       "4                                              0.000000      \n",
       "...                                                 ...      \n",
       "1599                                           0.000000      \n",
       "1600                                           0.000000      \n",
       "1601                                           0.000000      \n",
       "1602                                           0.002268      \n",
       "1603                                           0.099393      \n",
       "\n",
       "      Total economic damages from volcanic activity as a share of GDP  \\\n",
       "0                                                   NaN                 \n",
       "1                                                   0.0                 \n",
       "2                                                   0.0                 \n",
       "3                                                   0.0                 \n",
       "4                                                   0.0                 \n",
       "...                                                 ...                 \n",
       "1599                                                0.0                 \n",
       "1600                                                0.0                 \n",
       "1601                                                0.0                 \n",
       "1602                                                0.0                 \n",
       "1603                                                0.0                 \n",
       "\n",
       "      Total economic damages from volcanic activity as a share of GDP.1  \\\n",
       "0                                                   NaN                   \n",
       "1                                                   0.0                   \n",
       "2                                                   0.0                   \n",
       "3                                                   0.0                   \n",
       "4                                                   0.0                   \n",
       "...                                                 ...                   \n",
       "1599                                                0.0                   \n",
       "1600                                                0.0                   \n",
       "1601                                                0.0                   \n",
       "1602                                                0.0                   \n",
       "1603                                                0.0                   \n",
       "\n",
       "           Entity  Year  deaths_rate_per_100k_storm  \\\n",
       "0     Afghanistan  1950                    0.000000   \n",
       "1     Afghanistan  1960                    0.000000   \n",
       "2     Afghanistan  1970                    0.000000   \n",
       "3     Afghanistan  1980                    0.000000   \n",
       "4     Afghanistan  1990                    0.006322   \n",
       "...           ...   ...                         ...   \n",
       "1599     Zimbabwe  1970                    0.017477   \n",
       "1600     Zimbabwe  1980                    0.000000   \n",
       "1601     Zimbabwe  1990                    0.000000   \n",
       "1602     Zimbabwe  2000                    0.006677   \n",
       "1603     Zimbabwe  2010                    0.634451   \n",
       "\n",
       "      injured_rate_per_100k_storm  total_affected_rate_per_100k_all_disasters  \n",
       "0                        0.000000                                    2.381236  \n",
       "1                        0.000000                                   44.060951  \n",
       "2                        0.000000                                  547.029875  \n",
       "3                        0.000000                                  218.081859  \n",
       "4                        0.000000                                  316.150814  \n",
       "...                           ...                                         ...  \n",
       "1599                     0.000000                                    0.000000  \n",
       "1600                     0.000000                                    0.000000  \n",
       "1601                     0.000000                                 4839.765250  \n",
       "1602                     0.000000                                 7023.254487  \n",
       "1603                     0.216912                                 9656.191875  \n",
       "\n",
       "[1604 rows x 171 columns]"
      ]
     },
     "execution_count": 2,
     "metadata": {},
     "output_type": "execute_result"
    }
   ],
   "source": [
    "# Leer csv\n",
    "data = pd.read_csv(\"C:/Users/auxis/Documents/Master/Preparación y limpieza de datos/Proyecto/natural-disasters.csv\")\n",
    "data"
   ]
  },
  {
   "cell_type": "markdown",
   "metadata": {
    "application/vnd.databricks.v1+cell": {
     "inputWidgets": {},
     "nuid": "e33f9eb5-aaf1-4837-b528-8908f84a96d1",
     "showTitle": false,
     "title": ""
    }
   },
   "source": [
    "### 2.3 Exploración del DataFrame"
   ]
  },
  {
   "cell_type": "code",
   "execution_count": 7,
   "metadata": {
    "application/vnd.databricks.v1+cell": {
     "inputWidgets": {},
     "nuid": "9577f7f6-da2a-4ea7-a778-2513b13bd67a",
     "showTitle": false,
     "title": ""
    }
   },
   "outputs": [
    {
     "name": "stdout",
     "output_type": "stream",
     "text": [
      "filas: 1604\n",
      "columnas: 171\n"
     ]
    }
   ],
   "source": [
    "#Forma: filas y columnas\n",
    "filas = data.shape[0]\n",
    "print(\"filas: \"+str(filas))\n",
    "columnas = data.shape[1]\n",
    "print(\"columnas: \"+str(columnas))"
   ]
  },
  {
   "cell_type": "code",
   "execution_count": 16,
   "metadata": {},
   "outputs": [
    {
     "name": "stdout",
     "output_type": "stream",
     "text": [
      "<class 'pandas.core.frame.DataFrame'>\n",
      "RangeIndex: 1604 entries, 0 to 1603\n",
      "Columns: 171 entries, Number of deaths from drought to total_affected_rate_per_100k_all_disasters\n",
      "dtypes: float64(152), int64(18), object(1)\n",
      "memory usage: 2.1+ MB\n"
     ]
    }
   ],
   "source": [
    "data.info()"
   ]
  },
  {
   "cell_type": "code",
   "execution_count": 16,
   "metadata": {},
   "outputs": [
    {
     "name": "stdout",
     "output_type": "stream",
     "text": [
      "Number of deaths from drought\n",
      "Number of people injured from drought\n",
      "Number of people affected from drought\n",
      "Number of people left homeless from drought\n",
      "Number of total people affected by drought\n",
      "Reconstruction costs from drought\n",
      "Insured damages against drought\n",
      "Total economic damages from drought\n",
      "Death rates from drought\n",
      "Injury rates from drought\n",
      "Number of people affected by drought per 100,000\n",
      "Homelessness rate from drought\n",
      "Total number of people affected by drought per 100,000\n",
      "Number of deaths from earthquakes\n",
      "Number of people injured from earthquakes\n",
      "Number of people affected by earthquakes\n",
      "Number of people left homeless from earthquakes\n",
      "Number of total people affected by earthquakes\n",
      "Reconstruction costs from earthquakes\n",
      "Insured damages against earthquakes\n",
      "Total economic damages from earthquakes\n",
      "Death rates from earthquakes\n",
      "Injury rates from earthquakes\n",
      "Number of people affected by earthquakes per 100,000\n",
      "Homelessness rate from earthquakes\n",
      "Total number of people affected by earthquakes per 100,000\n",
      "Number of deaths from disasters\n",
      "Number of people injured from disasters\n",
      "Number of people affected by disasters\n",
      "Number of people left homeless from disasters\n",
      "Number of total people affected by disasters\n",
      "Reconstruction costs from disasters\n",
      "Insured damages against disasters\n",
      "Total economic damages from disasters\n",
      "Death rates from disasters\n",
      "Injury rates from disasters\n",
      "Number of people affected by disasters per 100,000\n",
      "Homelessness rate from disasters\n",
      "Total number of people affected by disasters per 100,000\n",
      "Number of deaths from volcanic activity\n",
      "Number of people injured from volcanic activity\n",
      "Number of people affected by volcanic activity\n",
      "Number of people left homeless from volcanic activity\n",
      "Number of total people affected by volcanic activity\n",
      "Reconstruction costs from volcanic activity\n",
      "Insured damages against volcanic activity\n",
      "Total economic damages from volcanic activity\n",
      "Death rates from volcanic activity\n",
      "Injury rates from volcanic activity\n",
      "Number of people affected by volcanic activity per 100,000\n",
      "Homelessness rate from volcanic activity\n",
      "Total number of people affected by volcanic activity per 100,000\n",
      "Number of deaths from floods\n",
      "Number of people injured from floods\n",
      "Number of people affected by floods\n",
      "Number of people left homeless from floods\n",
      "Number of total people affected by floods\n",
      "Reconstruction costs from floods\n",
      "Insured damages against floods\n",
      "Total economic damages from floods\n",
      "Death rates from floods\n",
      "Injury rates from floods\n",
      "Number of people affected by floods per 100,000\n",
      "Homelessness rate from floods\n",
      "Total number of people affected by floods per 100,000\n",
      "Number of deaths from mass movements\n",
      "Number of people injured from mass movements\n",
      "Number of people affected by mass movements\n",
      "Number of people left homeless from mass movements\n",
      "Number of total people affected by mass movements\n",
      "Reconstruction costs from mass movements\n",
      "Insured damages against mass movements\n",
      "Total economic damages from mass movements\n",
      "Death rates from mass movements\n",
      "Injury rates from mass movements\n",
      "Number of people affected by mass movements per 100,000\n",
      "Homelessness rate from mass movements\n",
      "Total number of people affected by mass movements per 100,000\n",
      "Number of deaths from storms\n",
      "Number of people injured from storms\n",
      "Number of people affected by storms\n",
      "Number of people left homeless from storms\n",
      "Number of total people affected by storms\n",
      "Reconstruction costs from storms\n",
      "Insured damages against storms\n",
      "Total economic damages from storms\n",
      "Death rates from storms\n",
      "Injury rates from storms\n",
      "Number of people affected by storms per 100,000\n",
      "Homelessness rate from storms\n",
      "Total number of people affected by storms per 100,000\n",
      "Number of deaths from landslides\n",
      "Number of people injured from landslides\n",
      "Number of people affected by landslides\n",
      "Number of people left homeless from landslides\n",
      "Number of total people affected by landslides\n",
      "Reconstruction costs from landslides\n",
      "Insured damages against landslides\n",
      "Total economic damages from landslides\n",
      "Death rates from landslides\n",
      "Injury rates from landslides\n",
      "Number of people affected by landslides per 100,000\n",
      "Homelessness rate from landslides\n",
      "Total number of people affected by landslides per 100,000\n",
      "Number of deaths from fog\n",
      "Number of people injured from fog\n",
      "Number of people affected by fog\n",
      "Number of people left homeless from fog\n",
      "Number of total people affected by fog\n",
      "Reconstruction costs from fog\n",
      "Insured damages against fog\n",
      "Total economic damages from fog\n",
      "Death rates from fog\n",
      "Injury rates from fog\n",
      "Number of people affected by fog per 100,000\n",
      "Homelessness rate from fog\n",
      "Total number of people affected by fog per 100,000\n",
      "Number of deaths from wildfires\n",
      "Number of people injured from wildfires\n",
      "Number of people affected by wildfires\n",
      "Number of people left homeless from wildfires\n",
      "Number of total people affected by wildfires\n",
      "Reconstruction costs from wildfires\n",
      "Insured damages against wildfires\n",
      "Total economic damages from wildfires\n",
      "Death rates from wildfires\n",
      "Injury rates from wildfires\n",
      "Number of people affected by wildfires per 100,000\n",
      "Homelessness rate from wildfires\n",
      "Total number of people affected by wildfires per 100,000\n",
      "Number of deaths from extreme temperatures\n",
      "Number of people injured from extreme temperatures\n",
      "Number of people affected by extreme temperatures\n",
      "Number of people left homeless from extreme temperatures\n",
      "Number of total people affected by extreme temperatures\n",
      "Reconstruction costs from extreme temperatures\n",
      "Insured damages against extreme temperatures\n",
      "Total economic damages from extreme temperatures\n",
      "Death rates from extreme temperatures\n",
      "Injury rates from extreme temperatures\n",
      "Number of people affected by extreme temperatures per 100,000\n",
      "Homelessness rate from extreme temperatures\n",
      "Total number of people affected by extreme temperatures per 100,000\n",
      "Number of deaths from glacial lake outbursts\n",
      "Number of people injured from glacial lake outbursts\n",
      "Number of people affected by glacial lake outbursts\n",
      "Number of people left homeless from glacial lake outbursts\n",
      "Number of total people affected by glacial lake outbursts\n",
      "Reconstruction costs from glacial lake outbursts\n",
      "Insured damages against glacial lake outbursts\n",
      "Total economic damages from glacial lake outbursts\n",
      "Death rates from glacial lake outbursts\n",
      "Injury rates from glacial lake outbursts\n",
      "Number of people affected by glacial lake outbursts per 100,000\n",
      "Homelessness rate from glacial lake outbursts\n",
      "Total number of people affected by glacial lake outbursts per 100,000\n",
      "Total economic damages from disasters as a share of GDP\n",
      "Total economic damages from drought as a share of GDP\n",
      "Total economic damages from earthquakes as a share of GDP\n",
      "Total economic damages from extreme temperatures as a share of GDP\n",
      "Total economic damages from floods as a share of GDP\n",
      "Total economic damages from landslides as a share of GDP\n",
      "Total economic damages from mass movements as a share of GDP\n",
      "Total economic damages from storms as a share of GDP\n",
      "Total economic damages from volcanic activity as a share of GDP\n",
      "Total economic damages from volcanic activity as a share of GDP.1\n",
      "Entity\n",
      "Year\n",
      "deaths_rate_per_100k_storm\n",
      "injured_rate_per_100k_storm\n",
      "total_affected_rate_per_100k_all_disasters\n"
     ]
    }
   ],
   "source": [
    "#Revisión de encabezados de columnas\n",
    "for col in data.columns: #Se hace con for para imprimir las 171\n",
    "    print(col)"
   ]
  },
  {
   "cell_type": "code",
   "execution_count": 29,
   "metadata": {
    "application/vnd.databricks.v1+cell": {
     "inputWidgets": {},
     "nuid": "36adb14c-bbe9-4284-9723-d450ea96a92f",
     "showTitle": false,
     "title": ""
    }
   },
   "outputs": [
    {
     "name": "stdout",
     "output_type": "stream",
     "text": [
      "min  Afghanistan\n",
      "max  Zimbabwe\n",
      "count      1604\n",
      "unique      226\n",
      "top       India\n",
      "freq         12\n",
      "Name: Entity, dtype: object\n"
     ]
    }
   ],
   "source": [
    "#Reconocer la columna Entity\n",
    "print(\"min  \"+ str(data[\"Entity\"].min()))\n",
    "print(\"max  \"+ str(data[\"Entity\"].max()))\n",
    "print(data[\"Entity\"].describe())"
   ]
  },
  {
   "cell_type": "code",
   "execution_count": 36,
   "metadata": {
    "application/vnd.databricks.v1+cell": {
     "inputWidgets": {},
     "nuid": "f333dc62-fb4d-45a2-bfd3-604ef18c2ad6",
     "showTitle": false,
     "title": ""
    }
   },
   "outputs": [
    {
     "data": {
      "text/plain": [
       "Entity\n",
       "India                        12\n",
       "Morocco                      12\n",
       "Upper middle income          12\n",
       "United States                12\n",
       "Canada                       12\n",
       "                             ..\n",
       "Sint Maarten (Dutch part)     1\n",
       "Qatar                         1\n",
       "Cayman Islands                1\n",
       "United Arab Emirates          1\n",
       "Brunei                        1\n",
       "Name: Entity, Length: 226, dtype: int64"
      ]
     },
     "execution_count": 36,
     "metadata": {},
     "output_type": "execute_result"
    }
   ],
   "source": [
    "#Cantidad de registros por país\n",
    "data.groupby(\"Entity\")[\"Entity\"].count().sort_values(ascending=False)"
   ]
  },
  {
   "cell_type": "code",
   "execution_count": 38,
   "metadata": {
    "application/vnd.databricks.v1+cell": {
     "inputWidgets": {},
     "nuid": "38e68fc5-b3e8-4e7a-826f-ecb600a1ea8b",
     "showTitle": false,
     "title": ""
    }
   },
   "outputs": [
    {
     "data": {
      "text/html": [
       "<div>\n",
       "<style scoped>\n",
       "    .dataframe tbody tr th:only-of-type {\n",
       "        vertical-align: middle;\n",
       "    }\n",
       "\n",
       "    .dataframe tbody tr th {\n",
       "        vertical-align: top;\n",
       "    }\n",
       "\n",
       "    .dataframe thead th {\n",
       "        text-align: right;\n",
       "    }\n",
       "</style>\n",
       "<table border=\"1\" class=\"dataframe\">\n",
       "  <thead>\n",
       "    <tr style=\"text-align: right;\">\n",
       "      <th></th>\n",
       "      <th>Number of deaths from drought</th>\n",
       "      <th>Number of people injured from drought</th>\n",
       "      <th>Number of people affected from drought</th>\n",
       "      <th>Number of people left homeless from drought</th>\n",
       "      <th>Number of total people affected by drought</th>\n",
       "      <th>Reconstruction costs from drought</th>\n",
       "      <th>Insured damages against drought</th>\n",
       "      <th>Total economic damages from drought</th>\n",
       "      <th>Death rates from drought</th>\n",
       "      <th>Injury rates from drought</th>\n",
       "      <th>...</th>\n",
       "      <th>Total economic damages from landslides as a share of GDP</th>\n",
       "      <th>Total economic damages from mass movements as a share of GDP</th>\n",
       "      <th>Total economic damages from storms as a share of GDP</th>\n",
       "      <th>Total economic damages from volcanic activity as a share of GDP</th>\n",
       "      <th>Total economic damages from volcanic activity as a share of GDP.1</th>\n",
       "      <th>Entity</th>\n",
       "      <th>Year</th>\n",
       "      <th>deaths_rate_per_100k_storm</th>\n",
       "      <th>injured_rate_per_100k_storm</th>\n",
       "      <th>total_affected_rate_per_100k_all_disasters</th>\n",
       "    </tr>\n",
       "  </thead>\n",
       "  <tbody>\n",
       "    <tr>\n",
       "      <th>1358</th>\n",
       "      <td>0.0</td>\n",
       "      <td>0.0</td>\n",
       "      <td>0.0</td>\n",
       "      <td>0</td>\n",
       "      <td>0.0</td>\n",
       "      <td>NaN</td>\n",
       "      <td>NaN</td>\n",
       "      <td>NaN</td>\n",
       "      <td>0.0</td>\n",
       "      <td>0.0</td>\n",
       "      <td>...</td>\n",
       "      <td>NaN</td>\n",
       "      <td>NaN</td>\n",
       "      <td>NaN</td>\n",
       "      <td>NaN</td>\n",
       "      <td>NaN</td>\n",
       "      <td>Spain</td>\n",
       "      <td>1940</td>\n",
       "      <td>0.007677</td>\n",
       "      <td>0.046064</td>\n",
       "      <td>0.046064</td>\n",
       "    </tr>\n",
       "    <tr>\n",
       "      <th>1359</th>\n",
       "      <td>0.0</td>\n",
       "      <td>0.0</td>\n",
       "      <td>0.0</td>\n",
       "      <td>0</td>\n",
       "      <td>0.0</td>\n",
       "      <td>NaN</td>\n",
       "      <td>NaN</td>\n",
       "      <td>NaN</td>\n",
       "      <td>0.0</td>\n",
       "      <td>0.0</td>\n",
       "      <td>...</td>\n",
       "      <td>NaN</td>\n",
       "      <td>NaN</td>\n",
       "      <td>NaN</td>\n",
       "      <td>NaN</td>\n",
       "      <td>NaN</td>\n",
       "      <td>Spain</td>\n",
       "      <td>1950</td>\n",
       "      <td>0.008800</td>\n",
       "      <td>0.000000</td>\n",
       "      <td>0.023899</td>\n",
       "    </tr>\n",
       "    <tr>\n",
       "      <th>1360</th>\n",
       "      <td>0.0</td>\n",
       "      <td>0.0</td>\n",
       "      <td>0.0</td>\n",
       "      <td>0</td>\n",
       "      <td>0.0</td>\n",
       "      <td>0.0</td>\n",
       "      <td>0.0</td>\n",
       "      <td>0.0</td>\n",
       "      <td>0.0</td>\n",
       "      <td>0.0</td>\n",
       "      <td>...</td>\n",
       "      <td>0.000000</td>\n",
       "      <td>0.0</td>\n",
       "      <td>0.000000</td>\n",
       "      <td>0.0</td>\n",
       "      <td>0.000000</td>\n",
       "      <td>Spain</td>\n",
       "      <td>1960</td>\n",
       "      <td>0.000000</td>\n",
       "      <td>0.000000</td>\n",
       "      <td>0.000000</td>\n",
       "    </tr>\n",
       "    <tr>\n",
       "      <th>1361</th>\n",
       "      <td>0.0</td>\n",
       "      <td>0.0</td>\n",
       "      <td>0.0</td>\n",
       "      <td>0</td>\n",
       "      <td>0.0</td>\n",
       "      <td>0.0</td>\n",
       "      <td>0.0</td>\n",
       "      <td>0.0</td>\n",
       "      <td>0.0</td>\n",
       "      <td>0.0</td>\n",
       "      <td>...</td>\n",
       "      <td>0.000000</td>\n",
       "      <td>0.0</td>\n",
       "      <td>0.011798</td>\n",
       "      <td>0.0</td>\n",
       "      <td>0.000000</td>\n",
       "      <td>Spain</td>\n",
       "      <td>1970</td>\n",
       "      <td>0.005418</td>\n",
       "      <td>0.000000</td>\n",
       "      <td>0.013374</td>\n",
       "    </tr>\n",
       "    <tr>\n",
       "      <th>1362</th>\n",
       "      <td>0.0</td>\n",
       "      <td>0.0</td>\n",
       "      <td>0.0</td>\n",
       "      <td>0</td>\n",
       "      <td>0.0</td>\n",
       "      <td>0.0</td>\n",
       "      <td>0.0</td>\n",
       "      <td>296000.0</td>\n",
       "      <td>0.0</td>\n",
       "      <td>0.0</td>\n",
       "      <td>...</td>\n",
       "      <td>0.000000</td>\n",
       "      <td>0.0</td>\n",
       "      <td>0.058414</td>\n",
       "      <td>0.0</td>\n",
       "      <td>0.000000</td>\n",
       "      <td>Spain</td>\n",
       "      <td>1980</td>\n",
       "      <td>0.010768</td>\n",
       "      <td>0.015549</td>\n",
       "      <td>207.602316</td>\n",
       "    </tr>\n",
       "    <tr>\n",
       "      <th>1363</th>\n",
       "      <td>0.0</td>\n",
       "      <td>0.0</td>\n",
       "      <td>600000.0</td>\n",
       "      <td>0</td>\n",
       "      <td>600000.0</td>\n",
       "      <td>0.0</td>\n",
       "      <td>0.0</td>\n",
       "      <td>770000.0</td>\n",
       "      <td>0.0</td>\n",
       "      <td>0.0</td>\n",
       "      <td>...</td>\n",
       "      <td>0.000311</td>\n",
       "      <td>0.0</td>\n",
       "      <td>0.008215</td>\n",
       "      <td>0.0</td>\n",
       "      <td>0.000680</td>\n",
       "      <td>Spain</td>\n",
       "      <td>1990</td>\n",
       "      <td>0.012050</td>\n",
       "      <td>0.000000</td>\n",
       "      <td>1536.054245</td>\n",
       "    </tr>\n",
       "    <tr>\n",
       "      <th>1364</th>\n",
       "      <td>0.0</td>\n",
       "      <td>0.0</td>\n",
       "      <td>0.0</td>\n",
       "      <td>0</td>\n",
       "      <td>0.0</td>\n",
       "      <td>0.0</td>\n",
       "      <td>0.0</td>\n",
       "      <td>0.0</td>\n",
       "      <td>0.0</td>\n",
       "      <td>0.0</td>\n",
       "      <td>...</td>\n",
       "      <td>0.000000</td>\n",
       "      <td>0.0</td>\n",
       "      <td>0.017189</td>\n",
       "      <td>0.0</td>\n",
       "      <td>0.023036</td>\n",
       "      <td>Spain</td>\n",
       "      <td>2000</td>\n",
       "      <td>0.013391</td>\n",
       "      <td>0.000490</td>\n",
       "      <td>1.962655</td>\n",
       "    </tr>\n",
       "    <tr>\n",
       "      <th>1365</th>\n",
       "      <td>0.0</td>\n",
       "      <td>0.0</td>\n",
       "      <td>0.0</td>\n",
       "      <td>0</td>\n",
       "      <td>0.0</td>\n",
       "      <td>0.0</td>\n",
       "      <td>0.0</td>\n",
       "      <td>0.0</td>\n",
       "      <td>0.0</td>\n",
       "      <td>0.0</td>\n",
       "      <td>...</td>\n",
       "      <td>0.000000</td>\n",
       "      <td>0.0</td>\n",
       "      <td>0.002393</td>\n",
       "      <td>0.0</td>\n",
       "      <td>0.000000</td>\n",
       "      <td>Spain</td>\n",
       "      <td>2010</td>\n",
       "      <td>0.003421</td>\n",
       "      <td>0.000000</td>\n",
       "      <td>5.233529</td>\n",
       "    </tr>\n",
       "  </tbody>\n",
       "</table>\n",
       "<p>8 rows × 171 columns</p>\n",
       "</div>"
      ],
      "text/plain": [
       "      Number of deaths from drought  Number of people injured from drought  \\\n",
       "1358                            0.0                                    0.0   \n",
       "1359                            0.0                                    0.0   \n",
       "1360                            0.0                                    0.0   \n",
       "1361                            0.0                                    0.0   \n",
       "1362                            0.0                                    0.0   \n",
       "1363                            0.0                                    0.0   \n",
       "1364                            0.0                                    0.0   \n",
       "1365                            0.0                                    0.0   \n",
       "\n",
       "      Number of people affected from drought  \\\n",
       "1358                                     0.0   \n",
       "1359                                     0.0   \n",
       "1360                                     0.0   \n",
       "1361                                     0.0   \n",
       "1362                                     0.0   \n",
       "1363                                600000.0   \n",
       "1364                                     0.0   \n",
       "1365                                     0.0   \n",
       "\n",
       "      Number of people left homeless from drought  \\\n",
       "1358                                            0   \n",
       "1359                                            0   \n",
       "1360                                            0   \n",
       "1361                                            0   \n",
       "1362                                            0   \n",
       "1363                                            0   \n",
       "1364                                            0   \n",
       "1365                                            0   \n",
       "\n",
       "      Number of total people affected by drought  \\\n",
       "1358                                         0.0   \n",
       "1359                                         0.0   \n",
       "1360                                         0.0   \n",
       "1361                                         0.0   \n",
       "1362                                         0.0   \n",
       "1363                                    600000.0   \n",
       "1364                                         0.0   \n",
       "1365                                         0.0   \n",
       "\n",
       "      Reconstruction costs from drought  Insured damages against drought  \\\n",
       "1358                                NaN                              NaN   \n",
       "1359                                NaN                              NaN   \n",
       "1360                                0.0                              0.0   \n",
       "1361                                0.0                              0.0   \n",
       "1362                                0.0                              0.0   \n",
       "1363                                0.0                              0.0   \n",
       "1364                                0.0                              0.0   \n",
       "1365                                0.0                              0.0   \n",
       "\n",
       "      Total economic damages from drought  Death rates from drought  \\\n",
       "1358                                  NaN                       0.0   \n",
       "1359                                  NaN                       0.0   \n",
       "1360                                  0.0                       0.0   \n",
       "1361                                  0.0                       0.0   \n",
       "1362                             296000.0                       0.0   \n",
       "1363                             770000.0                       0.0   \n",
       "1364                                  0.0                       0.0   \n",
       "1365                                  0.0                       0.0   \n",
       "\n",
       "      Injury rates from drought  ...  \\\n",
       "1358                        0.0  ...   \n",
       "1359                        0.0  ...   \n",
       "1360                        0.0  ...   \n",
       "1361                        0.0  ...   \n",
       "1362                        0.0  ...   \n",
       "1363                        0.0  ...   \n",
       "1364                        0.0  ...   \n",
       "1365                        0.0  ...   \n",
       "\n",
       "      Total economic damages from landslides as a share of GDP  \\\n",
       "1358                                                NaN          \n",
       "1359                                                NaN          \n",
       "1360                                           0.000000          \n",
       "1361                                           0.000000          \n",
       "1362                                           0.000000          \n",
       "1363                                           0.000311          \n",
       "1364                                           0.000000          \n",
       "1365                                           0.000000          \n",
       "\n",
       "      Total economic damages from mass movements as a share of GDP  \\\n",
       "1358                                                NaN              \n",
       "1359                                                NaN              \n",
       "1360                                                0.0              \n",
       "1361                                                0.0              \n",
       "1362                                                0.0              \n",
       "1363                                                0.0              \n",
       "1364                                                0.0              \n",
       "1365                                                0.0              \n",
       "\n",
       "      Total economic damages from storms as a share of GDP  \\\n",
       "1358                                                NaN      \n",
       "1359                                                NaN      \n",
       "1360                                           0.000000      \n",
       "1361                                           0.011798      \n",
       "1362                                           0.058414      \n",
       "1363                                           0.008215      \n",
       "1364                                           0.017189      \n",
       "1365                                           0.002393      \n",
       "\n",
       "      Total economic damages from volcanic activity as a share of GDP  \\\n",
       "1358                                                NaN                 \n",
       "1359                                                NaN                 \n",
       "1360                                                0.0                 \n",
       "1361                                                0.0                 \n",
       "1362                                                0.0                 \n",
       "1363                                                0.0                 \n",
       "1364                                                0.0                 \n",
       "1365                                                0.0                 \n",
       "\n",
       "      Total economic damages from volcanic activity as a share of GDP.1  \\\n",
       "1358                                                NaN                   \n",
       "1359                                                NaN                   \n",
       "1360                                           0.000000                   \n",
       "1361                                           0.000000                   \n",
       "1362                                           0.000000                   \n",
       "1363                                           0.000680                   \n",
       "1364                                           0.023036                   \n",
       "1365                                           0.000000                   \n",
       "\n",
       "      Entity  Year  deaths_rate_per_100k_storm  injured_rate_per_100k_storm  \\\n",
       "1358   Spain  1940                    0.007677                     0.046064   \n",
       "1359   Spain  1950                    0.008800                     0.000000   \n",
       "1360   Spain  1960                    0.000000                     0.000000   \n",
       "1361   Spain  1970                    0.005418                     0.000000   \n",
       "1362   Spain  1980                    0.010768                     0.015549   \n",
       "1363   Spain  1990                    0.012050                     0.000000   \n",
       "1364   Spain  2000                    0.013391                     0.000490   \n",
       "1365   Spain  2010                    0.003421                     0.000000   \n",
       "\n",
       "      total_affected_rate_per_100k_all_disasters  \n",
       "1358                                    0.046064  \n",
       "1359                                    0.023899  \n",
       "1360                                    0.000000  \n",
       "1361                                    0.013374  \n",
       "1362                                  207.602316  \n",
       "1363                                 1536.054245  \n",
       "1364                                    1.962655  \n",
       "1365                                    5.233529  \n",
       "\n",
       "[8 rows x 171 columns]"
      ]
     },
     "execution_count": 38,
     "metadata": {},
     "output_type": "execute_result"
    }
   ],
   "source": [
    "#Filtrar datos de España como ejemplo\n",
    "data[data.Entity == \"Spain\"]"
   ]
  },
  {
   "cell_type": "markdown",
   "metadata": {
    "application/vnd.databricks.v1+cell": {
     "inputWidgets": {},
     "nuid": "d05fc959-8442-41bd-a9e1-c9536faa7371",
     "showTitle": false,
     "title": ""
    }
   },
   "source": [
    "### 2.4 Conclusiones\n",
    "\n",
    "a) Entidad: Columna correspondiente a la identificación del país o región más amplia como el continente. \n",
    "\n",
    "b) Año: Se identifica que cada línea por país cada 10 años. Además, existen un indicador generalizado para cada año: total_affected_rate_per_100k_all_disasters que corresponde a la tasa total de afectados por 100k personas respecto a todos los desastres del año.\n",
    "\n",
    "c) Desastres: Se identifican los siguientes desastres naturales en el DataSet\n",
    " - drought: sequía\n",
    " - earthquakes: temblores\n",
    " - disasters: desastres generales\n",
    " - volcanic activity: actividad volcánica\n",
    " - floods: inundaciones\n",
    " - mass movements: movimientos de masas\n",
    " - storms: tormentas\n",
    " - landslides: movimientos de tierra \n",
    " - fog: niebla\n",
    " - wildfires: incendios forestales\n",
    " - extreme temperatures: temperaturas extremas\n",
    " - lake outbursts: arrebatos del lago\n",
    " - glacial lake outbursts: estallidos de lagos glaciares\n",
    "\n",
    "d) Indicadores del DataSet: Muestra disintitos indicadores para distintos desastres naturales\n",
    " - Number of people injured: Número de personas heridas\n",
    " - Number of people affected: Número de personas afectadas\n",
    " - Number of people left homeless: Número de personas que quedaron sin hogar\n",
    " - Number of total people affected: Número total de personas afectadas\n",
    " - Insured damages: Daños asegurados\n",
    " - Total economic damages: Daños económicos totales\n",
    " - Death rates: Tasa de mortalidad\n",
    " - Injury rates: Tasa de lesiones\n",
    " - Number of people affected per 100,000: Número de personas afectadas por cada 100.000"
   ]
  },
  {
   "cell_type": "markdown",
   "metadata": {
    "application/vnd.databricks.v1+cell": {
     "inputWidgets": {},
     "nuid": "f947dabd-752e-42be-95b7-f3ca4a2bae15",
     "showTitle": false,
     "title": ""
    }
   },
   "source": [
    "## 3. Transformación de campos\n",
    "\n",
    "Reducción de columnas: Para realizar esta exploración con mayor detalle, se dividirá el DataSet por tipo de desastre natural para su mejor comprensión."
   ]
  },
  {
   "cell_type": "markdown",
   "metadata": {
    "application/vnd.databricks.v1+cell": {
     "inputWidgets": {},
     "nuid": "36d301b7-f67e-42ec-b7ca-81feaf4176f1",
     "showTitle": false,
     "title": ""
    }
   },
   "source": [
    "### 3.1 Nombres genéricos de columnas\n",
    "\n",
    "Definición de una función para cambiar los nombres de las columnas y agregar una columna identificadora del desastre natural"
   ]
  },
  {
   "cell_type": "code",
   "execution_count": 72,
   "metadata": {
    "application/vnd.databricks.v1+cell": {
     "inputWidgets": {},
     "nuid": "7ea9491c-ea72-4947-a37f-cda5ee8fadb9",
     "showTitle": false,
     "title": ""
    }
   },
   "outputs": [],
   "source": [
    "#Función para la asignación genérica de columnas\n",
    "#Variables de la función (disaster,df)\n",
    "#  disaster: nombre del desastre\n",
    "#  df: data set propia del desastre\n",
    "\n",
    "def col_gen (disaster,df):\n",
    "    #Cambio a nombres genéricos en columnas\n",
    "    oldColumns = list(df.columns)\n",
    "    newColumns = [\"Number of deaths\",\"Number of people injured\",\"Number of people affected\",\"Number of people left homeless\",\"Number of total people affected\",\"Reconstruction costs\",\"Insured damages against\",\"Total economic damages\",\"Death rates\",\"Injury rates\",\"Number of people affected per 100,000\",\"Homelessness rate\",\"Total number of people affected per 100,000\",\"Entity\",\"Year\"]\n",
    "\n",
    "    #Definición del nuevo DataSet\n",
    "    df2 = df\n",
    "    #Cambiar uno a uno los nombres de las columnas\n",
    "    for c in range (len(oldColumns)):\n",
    "        nombre_anterior = oldColumns[c] \n",
    "        nombre_nuevo = newColumns[c]\n",
    "        df2 = df2.rename(columns={oldColumns[c]:newColumns[c]})\n",
    "\n",
    "    #Agregar columna con identificador del desastre descrito\n",
    "    #df2 = df2.withColumn(\"Disaster\",lit((disaster)))\n",
    "    df2['Disaster'] = str(disaster)\n",
    "\n",
    "    #Esquema de columnas\n",
    "    return(df2)"
   ]
  },
  {
   "cell_type": "markdown",
   "metadata": {
    "application/vnd.databricks.v1+cell": {
     "inputWidgets": {},
     "nuid": "194eb481-9a68-4093-98ab-b2680e360de2",
     "showTitle": false,
     "title": ""
    }
   },
   "source": [
    "### 3.2 División del DataSet\n",
    "\n",
    "Tras la revisión de los indicadores relacionados con los desastres naturales, se define una función que permite la identificación de cada indicador para cada desastre natural de manera aplicable en todos los casos"
   ]
  },
  {
   "cell_type": "code",
   "execution_count": 73,
   "metadata": {
    "application/vnd.databricks.v1+cell": {
     "inputWidgets": {},
     "nuid": "f44983a3-b2de-4d49-aad4-e11267000428",
     "showTitle": false,
     "title": ""
    }
   },
   "outputs": [],
   "source": [
    "#Función para la Definición del DataFrame para cada desastre natural\n",
    "def data_frame(desastre):\n",
    "    #Identificador de columnas requeridas bajo estándar de nombre\n",
    "    Number_of_deaths = \"Number of deaths from \" + str(desastre)\n",
    "    Number_of_people_injured = \"Number of people injured from \" + str(desastre)\n",
    "    Number_of_people_affected = 'Number of people affected by ' + str(desastre)\n",
    "    Number_of_people_left_homeless = 'Number of people left homeless from ' + str(desastre)\n",
    "    Number_of_total_people_affected = 'Number of total people affected by ' + str(desastre)\n",
    "    Reconstruction_costs = 'Reconstruction costs from ' + str(desastre)\n",
    "    Insured_damages = 'Insured damages against ' + str(desastre)\n",
    "    Total_economic_damages = 'Total economic damages from ' + str(desastre)\n",
    "    Death_rates = 'Death rates from ' + str(desastre)\n",
    "    Injury_rates = 'Injury rates from ' + str(desastre)\n",
    "    Number_of_people_affected_per100 = 'Number of people affected by '+ str(desastre)+ ' per 100,000'\n",
    "    Homelessness_rate = 'Homelessness rate from ' + str(desastre)\n",
    "    Total_number_of_people_affected_per100 = 'Total number of people affected by ' + str(desastre) + ' per 100,000'\n",
    "    #Total_economic_damages_as_a_share_of_GDP = 'Total economic damages from ' + str(desastre) + ' as a share of GDP'\n",
    "    \n",
    "    #Corregir nombre no estándar para 'Number of people affected from drought' (de from a by)\n",
    "    data2 = data.rename(columns={'Number of people affected from drought': 'Number of people affected by drought'})\n",
    "    \n",
    "    #Definición de columnas requeridas en el DataSet\n",
    "    df_desastre = data2.loc[:,[Number_of_deaths, \n",
    "                            Number_of_people_injured, \n",
    "                            Number_of_people_affected, \n",
    "                            Number_of_people_left_homeless,\n",
    "                            Number_of_total_people_affected,\n",
    "                            Reconstruction_costs,\n",
    "                            Insured_damages,\n",
    "                            Total_economic_damages,\n",
    "                            Death_rates,\n",
    "                            Injury_rates,\n",
    "                            Number_of_people_affected_per100,\n",
    "                            Homelessness_rate,\n",
    "                            Total_number_of_people_affected_per100 ,\n",
    "                            #Total_economic_damages_as_a_share_of_GDP,\n",
    "                            \"Entity\",\n",
    "                            \"Year\"]]\n",
    "    \n",
    "    #display(df_desastre)\n",
    "    df_desastre2 = col_gen(desastre,df_desastre)\n",
    "    \n",
    "    return(df_desastre2)"
   ]
  },
  {
   "cell_type": "markdown",
   "metadata": {
    "application/vnd.databricks.v1+cell": {
     "inputWidgets": {},
     "nuid": "10398480-eff1-4a96-b3e1-5750f71bb0c8",
     "showTitle": false,
     "title": ""
    }
   },
   "source": [
    "### 3.3 Ejecución de la transformación de columnas\n",
    "Ejecución de las funciones para cada tipo de desastre"
   ]
  },
  {
   "cell_type": "code",
   "execution_count": 77,
   "metadata": {
    "application/vnd.databricks.v1+cell": {
     "inputWidgets": {},
     "nuid": "3b33dd2a-3aa5-4562-b2db-f33abd314bdc",
     "showTitle": false,
     "title": ""
    }
   },
   "outputs": [
    {
     "name": "stdout",
     "output_type": "stream",
     "text": [
      "<class 'pandas.core.frame.DataFrame'>\n"
     ]
    },
    {
     "data": {
      "text/plain": [
       "(19248, 16)"
      ]
     },
     "metadata": {},
     "output_type": "display_data"
    },
    {
     "data": {
      "text/html": [
       "<div>\n",
       "<style scoped>\n",
       "    .dataframe tbody tr th:only-of-type {\n",
       "        vertical-align: middle;\n",
       "    }\n",
       "\n",
       "    .dataframe tbody tr th {\n",
       "        vertical-align: top;\n",
       "    }\n",
       "\n",
       "    .dataframe thead th {\n",
       "        text-align: right;\n",
       "    }\n",
       "</style>\n",
       "<table border=\"1\" class=\"dataframe\">\n",
       "  <thead>\n",
       "    <tr style=\"text-align: right;\">\n",
       "      <th></th>\n",
       "      <th>Number of deaths</th>\n",
       "      <th>Number of people injured</th>\n",
       "      <th>Number of people affected</th>\n",
       "      <th>Number of people left homeless</th>\n",
       "      <th>Number of total people affected</th>\n",
       "      <th>Reconstruction costs</th>\n",
       "      <th>Insured damages against</th>\n",
       "      <th>Total economic damages</th>\n",
       "      <th>Death rates</th>\n",
       "      <th>Injury rates</th>\n",
       "      <th>Number of people affected per 100,000</th>\n",
       "      <th>Homelessness rate</th>\n",
       "      <th>Total number of people affected per 100,000</th>\n",
       "      <th>Entity</th>\n",
       "      <th>Year</th>\n",
       "      <th>Disaster</th>\n",
       "    </tr>\n",
       "  </thead>\n",
       "  <tbody>\n",
       "    <tr>\n",
       "      <th>0</th>\n",
       "      <td>0.0</td>\n",
       "      <td>0.0</td>\n",
       "      <td>0.0</td>\n",
       "      <td>0.0</td>\n",
       "      <td>0.0</td>\n",
       "      <td>NaN</td>\n",
       "      <td>NaN</td>\n",
       "      <td>NaN</td>\n",
       "      <td>0.0</td>\n",
       "      <td>0.0</td>\n",
       "      <td>0.000000</td>\n",
       "      <td>0.0</td>\n",
       "      <td>0.000000</td>\n",
       "      <td>Afghanistan</td>\n",
       "      <td>1950</td>\n",
       "      <td>drought</td>\n",
       "    </tr>\n",
       "    <tr>\n",
       "      <th>1</th>\n",
       "      <td>0.0</td>\n",
       "      <td>0.0</td>\n",
       "      <td>4800.0</td>\n",
       "      <td>0.0</td>\n",
       "      <td>4800.0</td>\n",
       "      <td>0.0</td>\n",
       "      <td>0.0</td>\n",
       "      <td>20.0</td>\n",
       "      <td>0.0</td>\n",
       "      <td>0.0</td>\n",
       "      <td>44.060951</td>\n",
       "      <td>0.0</td>\n",
       "      <td>44.060951</td>\n",
       "      <td>Afghanistan</td>\n",
       "      <td>1960</td>\n",
       "      <td>drought</td>\n",
       "    </tr>\n",
       "    <tr>\n",
       "      <th>2</th>\n",
       "      <td>0.0</td>\n",
       "      <td>0.0</td>\n",
       "      <td>0.0</td>\n",
       "      <td>0.0</td>\n",
       "      <td>0.0</td>\n",
       "      <td>0.0</td>\n",
       "      <td>0.0</td>\n",
       "      <td>0.0</td>\n",
       "      <td>0.0</td>\n",
       "      <td>0.0</td>\n",
       "      <td>0.000000</td>\n",
       "      <td>0.0</td>\n",
       "      <td>0.000000</td>\n",
       "      <td>Afghanistan</td>\n",
       "      <td>1970</td>\n",
       "      <td>drought</td>\n",
       "    </tr>\n",
       "    <tr>\n",
       "      <th>3</th>\n",
       "      <td>0.0</td>\n",
       "      <td>0.0</td>\n",
       "      <td>0.0</td>\n",
       "      <td>0.0</td>\n",
       "      <td>0.0</td>\n",
       "      <td>0.0</td>\n",
       "      <td>0.0</td>\n",
       "      <td>0.0</td>\n",
       "      <td>0.0</td>\n",
       "      <td>0.0</td>\n",
       "      <td>0.000000</td>\n",
       "      <td>0.0</td>\n",
       "      <td>0.000000</td>\n",
       "      <td>Afghanistan</td>\n",
       "      <td>1980</td>\n",
       "      <td>drought</td>\n",
       "    </tr>\n",
       "    <tr>\n",
       "      <th>4</th>\n",
       "      <td>0.0</td>\n",
       "      <td>0.0</td>\n",
       "      <td>0.0</td>\n",
       "      <td>0.0</td>\n",
       "      <td>0.0</td>\n",
       "      <td>0.0</td>\n",
       "      <td>0.0</td>\n",
       "      <td>0.0</td>\n",
       "      <td>0.0</td>\n",
       "      <td>0.0</td>\n",
       "      <td>0.000000</td>\n",
       "      <td>0.0</td>\n",
       "      <td>0.000000</td>\n",
       "      <td>Afghanistan</td>\n",
       "      <td>1990</td>\n",
       "      <td>drought</td>\n",
       "    </tr>\n",
       "    <tr>\n",
       "      <th>...</th>\n",
       "      <td>...</td>\n",
       "      <td>...</td>\n",
       "      <td>...</td>\n",
       "      <td>...</td>\n",
       "      <td>...</td>\n",
       "      <td>...</td>\n",
       "      <td>...</td>\n",
       "      <td>...</td>\n",
       "      <td>...</td>\n",
       "      <td>...</td>\n",
       "      <td>...</td>\n",
       "      <td>...</td>\n",
       "      <td>...</td>\n",
       "      <td>...</td>\n",
       "      <td>...</td>\n",
       "      <td>...</td>\n",
       "    </tr>\n",
       "    <tr>\n",
       "      <th>1599</th>\n",
       "      <td>0.0</td>\n",
       "      <td>0.0</td>\n",
       "      <td>0.0</td>\n",
       "      <td>0.0</td>\n",
       "      <td>0.0</td>\n",
       "      <td>0.0</td>\n",
       "      <td>0.0</td>\n",
       "      <td>0.0</td>\n",
       "      <td>NaN</td>\n",
       "      <td>NaN</td>\n",
       "      <td>NaN</td>\n",
       "      <td>NaN</td>\n",
       "      <td>NaN</td>\n",
       "      <td>Zimbabwe</td>\n",
       "      <td>1970</td>\n",
       "      <td>glacial lake outbursts</td>\n",
       "    </tr>\n",
       "    <tr>\n",
       "      <th>1600</th>\n",
       "      <td>0.0</td>\n",
       "      <td>0.0</td>\n",
       "      <td>0.0</td>\n",
       "      <td>0.0</td>\n",
       "      <td>0.0</td>\n",
       "      <td>0.0</td>\n",
       "      <td>0.0</td>\n",
       "      <td>0.0</td>\n",
       "      <td>NaN</td>\n",
       "      <td>NaN</td>\n",
       "      <td>NaN</td>\n",
       "      <td>NaN</td>\n",
       "      <td>NaN</td>\n",
       "      <td>Zimbabwe</td>\n",
       "      <td>1980</td>\n",
       "      <td>glacial lake outbursts</td>\n",
       "    </tr>\n",
       "    <tr>\n",
       "      <th>1601</th>\n",
       "      <td>0.0</td>\n",
       "      <td>0.0</td>\n",
       "      <td>0.0</td>\n",
       "      <td>0.0</td>\n",
       "      <td>0.0</td>\n",
       "      <td>0.0</td>\n",
       "      <td>0.0</td>\n",
       "      <td>0.0</td>\n",
       "      <td>NaN</td>\n",
       "      <td>NaN</td>\n",
       "      <td>NaN</td>\n",
       "      <td>NaN</td>\n",
       "      <td>NaN</td>\n",
       "      <td>Zimbabwe</td>\n",
       "      <td>1990</td>\n",
       "      <td>glacial lake outbursts</td>\n",
       "    </tr>\n",
       "    <tr>\n",
       "      <th>1602</th>\n",
       "      <td>0.0</td>\n",
       "      <td>0.0</td>\n",
       "      <td>0.0</td>\n",
       "      <td>0.0</td>\n",
       "      <td>0.0</td>\n",
       "      <td>0.0</td>\n",
       "      <td>0.0</td>\n",
       "      <td>0.0</td>\n",
       "      <td>NaN</td>\n",
       "      <td>NaN</td>\n",
       "      <td>NaN</td>\n",
       "      <td>NaN</td>\n",
       "      <td>NaN</td>\n",
       "      <td>Zimbabwe</td>\n",
       "      <td>2000</td>\n",
       "      <td>glacial lake outbursts</td>\n",
       "    </tr>\n",
       "    <tr>\n",
       "      <th>1603</th>\n",
       "      <td>0.0</td>\n",
       "      <td>0.0</td>\n",
       "      <td>0.0</td>\n",
       "      <td>0.0</td>\n",
       "      <td>0.0</td>\n",
       "      <td>0.0</td>\n",
       "      <td>0.0</td>\n",
       "      <td>0.0</td>\n",
       "      <td>NaN</td>\n",
       "      <td>NaN</td>\n",
       "      <td>NaN</td>\n",
       "      <td>NaN</td>\n",
       "      <td>NaN</td>\n",
       "      <td>Zimbabwe</td>\n",
       "      <td>2010</td>\n",
       "      <td>glacial lake outbursts</td>\n",
       "    </tr>\n",
       "  </tbody>\n",
       "</table>\n",
       "<p>19248 rows × 16 columns</p>\n",
       "</div>"
      ],
      "text/plain": [
       "      Number of deaths  Number of people injured  Number of people affected  \\\n",
       "0                  0.0                       0.0                        0.0   \n",
       "1                  0.0                       0.0                     4800.0   \n",
       "2                  0.0                       0.0                        0.0   \n",
       "3                  0.0                       0.0                        0.0   \n",
       "4                  0.0                       0.0                        0.0   \n",
       "...                ...                       ...                        ...   \n",
       "1599               0.0                       0.0                        0.0   \n",
       "1600               0.0                       0.0                        0.0   \n",
       "1601               0.0                       0.0                        0.0   \n",
       "1602               0.0                       0.0                        0.0   \n",
       "1603               0.0                       0.0                        0.0   \n",
       "\n",
       "      Number of people left homeless  Number of total people affected  \\\n",
       "0                                0.0                              0.0   \n",
       "1                                0.0                           4800.0   \n",
       "2                                0.0                              0.0   \n",
       "3                                0.0                              0.0   \n",
       "4                                0.0                              0.0   \n",
       "...                              ...                              ...   \n",
       "1599                             0.0                              0.0   \n",
       "1600                             0.0                              0.0   \n",
       "1601                             0.0                              0.0   \n",
       "1602                             0.0                              0.0   \n",
       "1603                             0.0                              0.0   \n",
       "\n",
       "      Reconstruction costs  Insured damages against  Total economic damages  \\\n",
       "0                      NaN                      NaN                     NaN   \n",
       "1                      0.0                      0.0                    20.0   \n",
       "2                      0.0                      0.0                     0.0   \n",
       "3                      0.0                      0.0                     0.0   \n",
       "4                      0.0                      0.0                     0.0   \n",
       "...                    ...                      ...                     ...   \n",
       "1599                   0.0                      0.0                     0.0   \n",
       "1600                   0.0                      0.0                     0.0   \n",
       "1601                   0.0                      0.0                     0.0   \n",
       "1602                   0.0                      0.0                     0.0   \n",
       "1603                   0.0                      0.0                     0.0   \n",
       "\n",
       "      Death rates  Injury rates  Number of people affected per 100,000  \\\n",
       "0             0.0           0.0                               0.000000   \n",
       "1             0.0           0.0                              44.060951   \n",
       "2             0.0           0.0                               0.000000   \n",
       "3             0.0           0.0                               0.000000   \n",
       "4             0.0           0.0                               0.000000   \n",
       "...           ...           ...                                    ...   \n",
       "1599          NaN           NaN                                    NaN   \n",
       "1600          NaN           NaN                                    NaN   \n",
       "1601          NaN           NaN                                    NaN   \n",
       "1602          NaN           NaN                                    NaN   \n",
       "1603          NaN           NaN                                    NaN   \n",
       "\n",
       "      Homelessness rate  Total number of people affected per 100,000  \\\n",
       "0                   0.0                                     0.000000   \n",
       "1                   0.0                                    44.060951   \n",
       "2                   0.0                                     0.000000   \n",
       "3                   0.0                                     0.000000   \n",
       "4                   0.0                                     0.000000   \n",
       "...                 ...                                          ...   \n",
       "1599                NaN                                          NaN   \n",
       "1600                NaN                                          NaN   \n",
       "1601                NaN                                          NaN   \n",
       "1602                NaN                                          NaN   \n",
       "1603                NaN                                          NaN   \n",
       "\n",
       "           Entity  Year                Disaster  \n",
       "0     Afghanistan  1950                 drought  \n",
       "1     Afghanistan  1960                 drought  \n",
       "2     Afghanistan  1970                 drought  \n",
       "3     Afghanistan  1980                 drought  \n",
       "4     Afghanistan  1990                 drought  \n",
       "...           ...   ...                     ...  \n",
       "1599     Zimbabwe  1970  glacial lake outbursts  \n",
       "1600     Zimbabwe  1980  glacial lake outbursts  \n",
       "1601     Zimbabwe  1990  glacial lake outbursts  \n",
       "1602     Zimbabwe  2000  glacial lake outbursts  \n",
       "1603     Zimbabwe  2010  glacial lake outbursts  \n",
       "\n",
       "[19248 rows x 16 columns]"
      ]
     },
     "metadata": {},
     "output_type": "display_data"
    }
   ],
   "source": [
    "#Lista de Desastres naturales \n",
    "desastres=['drought','earthquakes','disasters','volcanic activity','floods','mass movements','storms','landslides','fog','wildfires','extreme temperatures','glacial lake outbursts']\n",
    "\n",
    "#Transformación uno a uno de los desastres \n",
    "for desastre in desastres:\n",
    "    df_parcial = data_frame(desastre)\n",
    "    #El primer DataFrame creado\n",
    "    if desastre == desastres[0]:\n",
    "        df_unido = df_parcial\n",
    "    #Unión de los DataFrame creados\n",
    "    else:\n",
    "        df_unido = df_unido.append([df_parcial])\n",
    "\n",
    "#Validar el tipo de DataFrame como Pandas para su tratamiento posterior    \n",
    "print(type(df_unido))\n",
    "#Nueva estructura \n",
    "display(df_unido.shape)\n",
    "#Visualización de nuevo DataFrame\n",
    "display(df_unido)\n"
   ]
  },
  {
   "cell_type": "markdown",
   "metadata": {
    "application/vnd.databricks.v1+cell": {
     "inputWidgets": {},
     "nuid": "026eb524-2039-49bf-95d4-3dc9e0d40668",
     "showTitle": false,
     "title": ""
    }
   },
   "source": [
    "### 3.4 Conclusiones\n",
    "Conclusiones para el nuevo DataFrame transformado y unido"
   ]
  },
  {
   "cell_type": "markdown",
   "metadata": {
    "application/vnd.databricks.v1+cell": {
     "inputWidgets": {},
     "nuid": "b53f7358-5c44-4248-aa5c-f5fd76006425",
     "showTitle": false,
     "title": ""
    }
   },
   "source": [
    "a) Entidad: Se registran 226 entidades en la columna *Entity* entre países y regiones de mayor amplitud"
   ]
  },
  {
   "cell_type": "code",
   "execution_count": 78,
   "metadata": {
    "application/vnd.databricks.v1+cell": {
     "inputWidgets": {},
     "nuid": "4bfd038e-39a7-4ea7-8f7c-5aa00ce384c8",
     "showTitle": false,
     "title": ""
    }
   },
   "outputs": [
    {
     "name": "stdout",
     "output_type": "stream",
     "text": [
      "226\n",
      "['Afghanistan' 'Africa' 'Albania' 'Algeria' 'American Samoa' 'Angola'\n",
      " 'Anguilla' 'Antigua and Barbuda' 'Argentina' 'Armenia' 'Asia' 'Australia'\n",
      " 'Austria' 'Azerbaijan' 'Bahamas' 'Bangladesh' 'Barbados' 'Belarus'\n",
      " 'Belgium' 'Belize' 'Benin' 'Bermuda' 'Bhutan' 'Bolivia'\n",
      " 'Bosnia and Herzegovina' 'Botswana' 'Brazil' 'British Virgin Islands'\n",
      " 'Brunei' 'Bulgaria' 'Burkina Faso' 'Burundi' 'Cambodia' 'Cameroon'\n",
      " 'Canada' 'Cape Verde' 'Cayman Islands' 'Central African Republic' 'Chad'\n",
      " 'Chile' 'China' 'Colombia' 'Comoros' 'Congo' 'Costa Rica' \"Cote d'Ivoire\"\n",
      " 'Croatia' 'Cuba' 'Cyprus' 'Czechia' 'Czechoslovakia'\n",
      " 'Democratic Republic of Congo' 'Denmark' 'Djibouti' 'Dominica'\n",
      " 'Dominican Republic' 'Ecuador' 'Egypt' 'El Salvador' 'Eritrea' 'Estonia'\n",
      " 'Eswatini' 'Ethiopia' 'Europe' 'Fiji' 'Finland' 'France' 'French Guiana'\n",
      " 'French Polynesia' 'Gabon' 'Gambia' 'Georgia' 'Germany' 'Ghana' 'Greece'\n",
      " 'Grenada' 'Guadeloupe' 'Guam' 'Guatemala' 'Guinea' 'Guinea-Bissau'\n",
      " 'Guyana' 'Haiti' 'High income' 'Honduras' 'Hong Kong' 'Hungary' 'Iceland'\n",
      " 'India' 'Indonesia' 'Iran' 'Iraq' 'Ireland' 'Israel' 'Italy' 'Jamaica'\n",
      " 'Japan' 'Jordan' 'Kazakhstan' 'Kenya' 'Kiribati' 'Kuwait' 'Kyrgyzstan'\n",
      " 'Laos' 'Latvia' 'Lebanon' 'Lesotho' 'Liberia' 'Libya' 'Lithuania'\n",
      " 'Low income' 'Lower middle income' 'Luxembourg' 'Macao' 'Madagascar'\n",
      " 'Malawi' 'Malaysia' 'Maldives' 'Mali' 'Marshall Islands' 'Martinique'\n",
      " 'Mauritania' 'Mauritius' 'Mexico' 'Micronesia' 'Moldova' 'Mongolia'\n",
      " 'Montenegro' 'Montserrat' 'Morocco' 'Mozambique' 'Myanmar' 'Namibia'\n",
      " 'Nepal' 'Netherlands' 'Netherlands Antilles' 'New Caledonia'\n",
      " 'New Zealand' 'Nicaragua' 'Niger' 'Nigeria' 'North America' 'North Korea'\n",
      " 'North Macedonia' 'Northern Mariana Islands' 'Norway' 'Oceania' 'Oman'\n",
      " 'Pakistan' 'Palau' 'Palestine' 'Panama' 'Papua New Guinea' 'Paraguay'\n",
      " 'Peru' 'Philippines' 'Poland' 'Portugal' 'Puerto Rico' 'Qatar' 'Reunion'\n",
      " 'Romania' 'Russia' 'Rwanda' 'Saint Barthelemy'\n",
      " 'Saint Helena, Ascension and Tristan da Cunha' 'Saint Kitts and Nevis'\n",
      " 'Saint Lucia' 'Saint Martin (French Part)'\n",
      " 'Saint Vincent and the Grenadines' 'Samoa' 'Sao Tome and Principe'\n",
      " 'Saudi Arabia' 'Senegal' 'Serbia' 'Serbia-Montenegro' 'Seychelles'\n",
      " 'Sierra Leone' 'Sint Maarten (Dutch part)' 'Slovakia' 'Slovenia'\n",
      " 'Solomon Islands' 'Somalia' 'South Africa' 'South America' 'South Korea'\n",
      " 'South Sudan' 'Soviet Union' 'Spain' 'Sri Lanka' 'Sudan' 'Suriname'\n",
      " 'Sweden' 'Switzerland' 'Syria' 'Taiwan' 'Tajikistan' 'Tanzania'\n",
      " 'Thailand' 'Timor' 'Togo' 'Tonga' 'Trinidad and Tobago' 'Tunisia'\n",
      " 'Turkey' 'Turkmenistan' 'Turks and Caicos Islands' 'Tuvalu' 'Uganda'\n",
      " 'Ukraine' 'United Arab Emirates' 'United Kingdom' 'United States'\n",
      " 'United States Virgin Islands' 'Upper middle income' 'Uruguay'\n",
      " 'Uzbekistan' 'Vanuatu' 'Venezuela' 'Vietnam' 'Wallis and Futuna' 'World'\n",
      " 'Yemen' 'Yugoslavia' 'Zambia' 'Zimbabwe']\n"
     ]
    }
   ],
   "source": [
    "#Datos de Entidad\n",
    "print(len(df_unido['Entity'].unique()))\n",
    "print(df_unido['Entity'].unique())"
   ]
  },
  {
   "cell_type": "markdown",
   "metadata": {
    "application/vnd.databricks.v1+cell": {
     "inputWidgets": {},
     "nuid": "6ab52e2f-6cfb-4199-827b-9ca0c4cb72dd",
     "showTitle": false,
     "title": ""
    }
   },
   "source": [
    "b) Año: Se identifican datos desde 1900 hasta 2010 con una periodicidad de cada 10 años"
   ]
  },
  {
   "cell_type": "code",
   "execution_count": 79,
   "metadata": {
    "application/vnd.databricks.v1+cell": {
     "inputWidgets": {},
     "nuid": "ef7e6b16-5dbc-45f0-8f02-d3014b58e108",
     "showTitle": false,
     "title": ""
    }
   },
   "outputs": [
    {
     "data": {
      "text/plain": [
       "Year\n",
       "1900     528\n",
       "1910     744\n",
       "1920     876\n",
       "1930    1068\n",
       "1940    1152\n",
       "1950    1392\n",
       "1960    1764\n",
       "1970    1980\n",
       "1980    2184\n",
       "1990    2508\n",
       "2000    2568\n",
       "2010    2484\n",
       "Name: Year, dtype: int64"
      ]
     },
     "execution_count": 79,
     "metadata": {},
     "output_type": "execute_result"
    }
   ],
   "source": [
    "#Cantidad de registros por perido de 10 años\n",
    "df_unido.groupby(\"Year\")[\"Year\"].count()"
   ]
  },
  {
   "cell_type": "markdown",
   "metadata": {
    "application/vnd.databricks.v1+cell": {
     "inputWidgets": {},
     "nuid": "0c0badca-79a0-4ee1-9735-6fce0e1b57f9",
     "showTitle": false,
     "title": ""
    }
   },
   "source": [
    "c) Desastres: Se identifican 1604 registros para cada tipo de desastre"
   ]
  },
  {
   "cell_type": "code",
   "execution_count": 80,
   "metadata": {
    "application/vnd.databricks.v1+cell": {
     "inputWidgets": {},
     "nuid": "4ea39b49-72fd-4811-b276-44e0d35e9a15",
     "showTitle": false,
     "title": ""
    }
   },
   "outputs": [
    {
     "name": "stdout",
     "output_type": "stream",
     "text": [
      "Disaster\n",
      "disasters                 1604\n",
      "drought                   1604\n",
      "earthquakes               1604\n",
      "extreme temperatures      1604\n",
      "floods                    1604\n",
      "fog                       1604\n",
      "glacial lake outbursts    1604\n",
      "landslides                1604\n",
      "mass movements            1604\n",
      "storms                    1604\n",
      "volcanic activity         1604\n",
      "wildfires                 1604\n",
      "Name: Disaster, dtype: int64\n"
     ]
    }
   ],
   "source": [
    "#Revisión de encabezados de columnas\n",
    "print(df_unido.groupby('Disaster')['Disaster'].count())"
   ]
  },
  {
   "cell_type": "markdown",
   "metadata": {
    "application/vnd.databricks.v1+cell": {
     "inputWidgets": {},
     "nuid": "560bf581-b751-4855-a2f3-3938b9918a39",
     "showTitle": false,
     "title": ""
    }
   },
   "source": [
    "d) Indicadores del DataSet: Se mantienen los siguientes indicadores:\n",
    "- Number of deaths\n",
    "- Number of people injured\n",
    "- Number of people affected \n",
    "- Number of people left homeless\n",
    "- Number of total people affected\n",
    "- Reconstruction costs\n",
    "- Insured damages against\n",
    "- Total economic damages \n",
    "- Death rates\n",
    "- Injury rates \n",
    "- Number of people affected per 100,000\n",
    "- Homelessness rate\n",
    "- Total number of people affected per 100,000"
   ]
  },
  {
   "cell_type": "code",
   "execution_count": 81,
   "metadata": {
    "application/vnd.databricks.v1+cell": {
     "inputWidgets": {},
     "nuid": "8971c701-b5dd-4901-8482-a82b8da75a9d",
     "showTitle": false,
     "title": ""
    }
   },
   "outputs": [
    {
     "name": "stdout",
     "output_type": "stream",
     "text": [
      "Index(['Number of deaths', 'Number of people injured',\n",
      "       'Number of people affected', 'Number of people left homeless',\n",
      "       'Number of total people affected', 'Reconstruction costs',\n",
      "       'Insured damages against', 'Total economic damages', 'Death rates',\n",
      "       'Injury rates', 'Number of people affected per 100,000',\n",
      "       'Homelessness rate', 'Total number of people affected per 100,000',\n",
      "       'Entity', 'Year', 'Disaster'],\n",
      "      dtype='object')\n"
     ]
    }
   ],
   "source": [
    "print(df_unido.columns)"
   ]
  },
  {
   "cell_type": "markdown",
   "metadata": {
    "application/vnd.databricks.v1+cell": {
     "inputWidgets": {},
     "nuid": "69a7da58-0de7-4196-bd47-fd93f8a207d1",
     "showTitle": false,
     "title": ""
    }
   },
   "source": [
    "## 4. Estadística descriptiva\n",
    "Se toma como ejemplo un sub-dataset del país España"
   ]
  },
  {
   "cell_type": "markdown",
   "metadata": {
    "application/vnd.databricks.v1+cell": {
     "inputWidgets": {},
     "nuid": "38281ce4-9053-4718-a4b6-829fcdfc734f",
     "showTitle": false,
     "title": ""
    }
   },
   "source": [
    "### 4.1 Datos generales"
   ]
  },
  {
   "cell_type": "code",
   "execution_count": 82,
   "metadata": {
    "application/vnd.databricks.v1+cell": {
     "inputWidgets": {},
     "nuid": "637c92ab-1b23-4da1-b154-a62b14b841ba",
     "showTitle": false,
     "title": ""
    }
   },
   "outputs": [],
   "source": [
    "#Copia del DataFrame\n",
    "datos = df_unido\n",
    "\n",
    "#Se selecciona España para este ejercicio\n",
    "nuevo_df = datos[datos['Entity'] == \"Spain\"]"
   ]
  },
  {
   "cell_type": "code",
   "execution_count": 83,
   "metadata": {
    "application/vnd.databricks.v1+cell": {
     "inputWidgets": {},
     "nuid": "ed5ccf6f-5920-471d-a625-b5c1925032a2",
     "showTitle": false,
     "title": ""
    }
   },
   "outputs": [
    {
     "data": {
      "text/html": [
       "<div>\n",
       "<style scoped>\n",
       "    .dataframe tbody tr th:only-of-type {\n",
       "        vertical-align: middle;\n",
       "    }\n",
       "\n",
       "    .dataframe tbody tr th {\n",
       "        vertical-align: top;\n",
       "    }\n",
       "\n",
       "    .dataframe thead th {\n",
       "        text-align: right;\n",
       "    }\n",
       "</style>\n",
       "<table border=\"1\" class=\"dataframe\">\n",
       "  <thead>\n",
       "    <tr style=\"text-align: right;\">\n",
       "      <th></th>\n",
       "      <th>Number of deaths</th>\n",
       "      <th>Number of people injured</th>\n",
       "      <th>Number of people affected</th>\n",
       "      <th>Number of people left homeless</th>\n",
       "      <th>Number of total people affected</th>\n",
       "      <th>Reconstruction costs</th>\n",
       "      <th>Insured damages against</th>\n",
       "      <th>Total economic damages</th>\n",
       "      <th>Death rates</th>\n",
       "      <th>Injury rates</th>\n",
       "      <th>Number of people affected per 100,000</th>\n",
       "      <th>Homelessness rate</th>\n",
       "      <th>Total number of people affected per 100,000</th>\n",
       "      <th>Year</th>\n",
       "    </tr>\n",
       "  </thead>\n",
       "  <tbody>\n",
       "    <tr>\n",
       "      <th>count</th>\n",
       "      <td>96.000000</td>\n",
       "      <td>96.000000</td>\n",
       "      <td>96.000000</td>\n",
       "      <td>96.000000</td>\n",
       "      <td>96.000000</td>\n",
       "      <td>72.0</td>\n",
       "      <td>72.000000</td>\n",
       "      <td>7.200000e+01</td>\n",
       "      <td>80.000000</td>\n",
       "      <td>80.000000</td>\n",
       "      <td>88.000000</td>\n",
       "      <td>88.000000</td>\n",
       "      <td>80.000000</td>\n",
       "      <td>96.000000</td>\n",
       "    </tr>\n",
       "    <tr>\n",
       "      <th>mean</th>\n",
       "      <td>36.272917</td>\n",
       "      <td>5.789583</td>\n",
       "      <td>14225.479167</td>\n",
       "      <td>43.968750</td>\n",
       "      <td>14275.237500</td>\n",
       "      <td>0.0</td>\n",
       "      <td>6594.166667</td>\n",
       "      <td>8.654228e+04</td>\n",
       "      <td>0.104301</td>\n",
       "      <td>0.017213</td>\n",
       "      <td>39.669219</td>\n",
       "      <td>0.108429</td>\n",
       "      <td>21.886701</td>\n",
       "      <td>1975.000000</td>\n",
       "    </tr>\n",
       "    <tr>\n",
       "      <th>std</th>\n",
       "      <td>218.436291</td>\n",
       "      <td>23.945735</td>\n",
       "      <td>86740.612778</td>\n",
       "      <td>230.208793</td>\n",
       "      <td>86748.689618</td>\n",
       "      <td>0.0</td>\n",
       "      <td>24103.149742</td>\n",
       "      <td>2.202499e+05</td>\n",
       "      <td>0.560960</td>\n",
       "      <td>0.067942</td>\n",
       "      <td>230.986217</td>\n",
       "      <td>0.526805</td>\n",
       "      <td>172.150199</td>\n",
       "      <td>23.033157</td>\n",
       "    </tr>\n",
       "    <tr>\n",
       "      <th>min</th>\n",
       "      <td>0.000000</td>\n",
       "      <td>0.000000</td>\n",
       "      <td>0.000000</td>\n",
       "      <td>0.000000</td>\n",
       "      <td>0.000000</td>\n",
       "      <td>0.0</td>\n",
       "      <td>0.000000</td>\n",
       "      <td>0.000000e+00</td>\n",
       "      <td>0.000000</td>\n",
       "      <td>0.000000</td>\n",
       "      <td>0.000000</td>\n",
       "      <td>0.000000</td>\n",
       "      <td>0.000000</td>\n",
       "      <td>1940.000000</td>\n",
       "    </tr>\n",
       "    <tr>\n",
       "      <th>25%</th>\n",
       "      <td>0.000000</td>\n",
       "      <td>0.000000</td>\n",
       "      <td>0.000000</td>\n",
       "      <td>0.000000</td>\n",
       "      <td>0.000000</td>\n",
       "      <td>0.0</td>\n",
       "      <td>0.000000</td>\n",
       "      <td>0.000000e+00</td>\n",
       "      <td>0.000000</td>\n",
       "      <td>0.000000</td>\n",
       "      <td>0.000000</td>\n",
       "      <td>0.000000</td>\n",
       "      <td>0.000000</td>\n",
       "      <td>1957.500000</td>\n",
       "    </tr>\n",
       "    <tr>\n",
       "      <th>50%</th>\n",
       "      <td>0.000000</td>\n",
       "      <td>0.000000</td>\n",
       "      <td>0.000000</td>\n",
       "      <td>0.000000</td>\n",
       "      <td>0.000000</td>\n",
       "      <td>0.0</td>\n",
       "      <td>0.000000</td>\n",
       "      <td>0.000000e+00</td>\n",
       "      <td>0.000000</td>\n",
       "      <td>0.000000</td>\n",
       "      <td>0.000000</td>\n",
       "      <td>0.000000</td>\n",
       "      <td>0.000000</td>\n",
       "      <td>1975.000000</td>\n",
       "    </tr>\n",
       "    <tr>\n",
       "      <th>75%</th>\n",
       "      <td>2.000000</td>\n",
       "      <td>0.000000</td>\n",
       "      <td>0.000000</td>\n",
       "      <td>0.000000</td>\n",
       "      <td>5.500000</td>\n",
       "      <td>0.0</td>\n",
       "      <td>0.000000</td>\n",
       "      <td>3.662500e+04</td>\n",
       "      <td>0.005419</td>\n",
       "      <td>0.000319</td>\n",
       "      <td>0.000000</td>\n",
       "      <td>0.000000</td>\n",
       "      <td>0.001603</td>\n",
       "      <td>1992.500000</td>\n",
       "    </tr>\n",
       "    <tr>\n",
       "      <th>max</th>\n",
       "      <td>1530.400000</td>\n",
       "      <td>166.000000</td>\n",
       "      <td>602185.000000</td>\n",
       "      <td>1500.000000</td>\n",
       "      <td>602208.900000</td>\n",
       "      <td>0.0</td>\n",
       "      <td>121200.000000</td>\n",
       "      <td>1.045700e+06</td>\n",
       "      <td>3.592191</td>\n",
       "      <td>0.434288</td>\n",
       "      <td>1535.994341</td>\n",
       "      <td>3.185796</td>\n",
       "      <td>1530.495115</td>\n",
       "      <td>2010.000000</td>\n",
       "    </tr>\n",
       "  </tbody>\n",
       "</table>\n",
       "</div>"
      ],
      "text/plain": [
       "       Number of deaths  Number of people injured  Number of people affected  \\\n",
       "count         96.000000                 96.000000                  96.000000   \n",
       "mean          36.272917                  5.789583               14225.479167   \n",
       "std          218.436291                 23.945735               86740.612778   \n",
       "min            0.000000                  0.000000                   0.000000   \n",
       "25%            0.000000                  0.000000                   0.000000   \n",
       "50%            0.000000                  0.000000                   0.000000   \n",
       "75%            2.000000                  0.000000                   0.000000   \n",
       "max         1530.400000                166.000000              602185.000000   \n",
       "\n",
       "       Number of people left homeless  Number of total people affected  \\\n",
       "count                       96.000000                        96.000000   \n",
       "mean                        43.968750                     14275.237500   \n",
       "std                        230.208793                     86748.689618   \n",
       "min                          0.000000                         0.000000   \n",
       "25%                          0.000000                         0.000000   \n",
       "50%                          0.000000                         0.000000   \n",
       "75%                          0.000000                         5.500000   \n",
       "max                       1500.000000                    602208.900000   \n",
       "\n",
       "       Reconstruction costs  Insured damages against  Total economic damages  \\\n",
       "count                  72.0                72.000000            7.200000e+01   \n",
       "mean                    0.0              6594.166667            8.654228e+04   \n",
       "std                     0.0             24103.149742            2.202499e+05   \n",
       "min                     0.0                 0.000000            0.000000e+00   \n",
       "25%                     0.0                 0.000000            0.000000e+00   \n",
       "50%                     0.0                 0.000000            0.000000e+00   \n",
       "75%                     0.0                 0.000000            3.662500e+04   \n",
       "max                     0.0            121200.000000            1.045700e+06   \n",
       "\n",
       "       Death rates  Injury rates  Number of people affected per 100,000  \\\n",
       "count    80.000000     80.000000                              88.000000   \n",
       "mean      0.104301      0.017213                              39.669219   \n",
       "std       0.560960      0.067942                             230.986217   \n",
       "min       0.000000      0.000000                               0.000000   \n",
       "25%       0.000000      0.000000                               0.000000   \n",
       "50%       0.000000      0.000000                               0.000000   \n",
       "75%       0.005419      0.000319                               0.000000   \n",
       "max       3.592191      0.434288                            1535.994341   \n",
       "\n",
       "       Homelessness rate  Total number of people affected per 100,000  \\\n",
       "count          88.000000                                    80.000000   \n",
       "mean            0.108429                                    21.886701   \n",
       "std             0.526805                                   172.150199   \n",
       "min             0.000000                                     0.000000   \n",
       "25%             0.000000                                     0.000000   \n",
       "50%             0.000000                                     0.000000   \n",
       "75%             0.000000                                     0.001603   \n",
       "max             3.185796                                  1530.495115   \n",
       "\n",
       "              Year  \n",
       "count    96.000000  \n",
       "mean   1975.000000  \n",
       "std      23.033157  \n",
       "min    1940.000000  \n",
       "25%    1957.500000  \n",
       "50%    1975.000000  \n",
       "75%    1992.500000  \n",
       "max    2010.000000  "
      ]
     },
     "execution_count": 83,
     "metadata": {},
     "output_type": "execute_result"
    }
   ],
   "source": [
    "#Variables numéricas\n",
    "nuevo_df.describe()"
   ]
  },
  {
   "cell_type": "code",
   "execution_count": 84,
   "metadata": {
    "application/vnd.databricks.v1+cell": {
     "inputWidgets": {},
     "nuid": "0554ddfd-839f-4e4f-a5b5-9127a2e82227",
     "showTitle": false,
     "title": ""
    }
   },
   "outputs": [
    {
     "data": {
      "text/html": [
       "<div>\n",
       "<style scoped>\n",
       "    .dataframe tbody tr th:only-of-type {\n",
       "        vertical-align: middle;\n",
       "    }\n",
       "\n",
       "    .dataframe tbody tr th {\n",
       "        vertical-align: top;\n",
       "    }\n",
       "\n",
       "    .dataframe thead th {\n",
       "        text-align: right;\n",
       "    }\n",
       "</style>\n",
       "<table border=\"1\" class=\"dataframe\">\n",
       "  <thead>\n",
       "    <tr style=\"text-align: right;\">\n",
       "      <th></th>\n",
       "      <th>Entity</th>\n",
       "      <th>Disaster</th>\n",
       "    </tr>\n",
       "  </thead>\n",
       "  <tbody>\n",
       "    <tr>\n",
       "      <th>count</th>\n",
       "      <td>96</td>\n",
       "      <td>96</td>\n",
       "    </tr>\n",
       "    <tr>\n",
       "      <th>unique</th>\n",
       "      <td>1</td>\n",
       "      <td>12</td>\n",
       "    </tr>\n",
       "    <tr>\n",
       "      <th>top</th>\n",
       "      <td>Spain</td>\n",
       "      <td>drought</td>\n",
       "    </tr>\n",
       "    <tr>\n",
       "      <th>freq</th>\n",
       "      <td>96</td>\n",
       "      <td>8</td>\n",
       "    </tr>\n",
       "  </tbody>\n",
       "</table>\n",
       "</div>"
      ],
      "text/plain": [
       "       Entity Disaster\n",
       "count      96       96\n",
       "unique      1       12\n",
       "top     Spain  drought\n",
       "freq       96        8"
      ]
     },
     "execution_count": 84,
     "metadata": {},
     "output_type": "execute_result"
    }
   ],
   "source": [
    "#Variables categóricas\n",
    "nuevo_df[['Entity','Disaster']].describe()"
   ]
  },
  {
   "cell_type": "markdown",
   "metadata": {
    "application/vnd.databricks.v1+cell": {
     "inputWidgets": {},
     "nuid": "336f2ec4-cf5d-4ee9-a5ba-d094fb36365f",
     "showTitle": false,
     "title": ""
    }
   },
   "source": [
    "### 4.2 Resultados consolidados"
   ]
  },
  {
   "cell_type": "code",
   "execution_count": 85,
   "metadata": {
    "application/vnd.databricks.v1+cell": {
     "inputWidgets": {},
     "nuid": "5dcc2314-20e0-4994-8787-e7fc17383df3",
     "showTitle": false,
     "title": ""
    }
   },
   "outputs": [
    {
     "name": "stdout",
     "output_type": "stream",
     "text": [
      "\u001b[1mTabla anual de desastres con muertes\u001b[0m\n",
      "Year  Disaster            \n",
      "1940  disasters                  2.0\n",
      "      storms                     2.0\n",
      "1950  disasters                 16.4\n",
      "      earthquakes                1.1\n",
      "      floods                    12.7\n",
      "      storms                     2.6\n",
      "1960  disasters                 44.5\n",
      "      floods                    44.5\n",
      "1970  disasters                 94.1\n",
      "      extreme temperatures      40.0\n",
      "      floods                    52.2\n",
      "      storms                     1.9\n",
      "1980  disasters                 23.8\n",
      "      extreme temperatures       4.0\n",
      "      floods                    13.9\n",
      "      storms                     4.2\n",
      "      wildfires                  1.7\n",
      "1990  disasters                 19.8\n",
      "      extreme temperatures       3.0\n",
      "      floods                     1.6\n",
      "      landslides                 8.4\n",
      "      storms                     4.8\n",
      "      wildfires                  2.0\n",
      "2000  disasters               1530.4\n",
      "      extreme temperatures    1515.9\n",
      "      floods                     5.8\n",
      "      storms                     5.8\n",
      "      wildfires                  2.9\n",
      "2010  disasters                 10.1\n",
      "      earthquakes                1.0\n",
      "      extreme temperatures       1.1\n",
      "      floods                     5.6\n",
      "      storms                     1.6\n",
      "      wildfires                  0.8\n",
      "Name: Number of deaths, dtype: float64\n"
     ]
    }
   ],
   "source": [
    "#Tabla anual de desastres con muertes\n",
    "print(\"\\033[1m\" + \"Tabla anual de desastres con muertes\" + \"\\033[0m\")\n",
    "nuevo_df=nuevo_df[nuevo_df['Number of deaths']!=0]\n",
    "muertes=nuevo_df.groupby([\"Year\",'Disaster'])[\"Number of deaths\"].sum()\n",
    "print(muertes)"
   ]
  },
  {
   "cell_type": "code",
   "execution_count": 86,
   "metadata": {
    "application/vnd.databricks.v1+cell": {
     "inputWidgets": {},
     "nuid": "499f62f9-4460-4166-81c3-4ce6535e853f",
     "showTitle": false,
     "title": ""
    }
   },
   "outputs": [
    {
     "data": {
      "text/plain": [
       "<AxesSubplot:title={'center':'Desastres con muertes'}, xlabel='Year'>"
      ]
     },
     "execution_count": 86,
     "metadata": {},
     "output_type": "execute_result"
    },
    {
     "data": {
      "image/png": "[encoded data removed]",
      "text/plain": [
       "<Figure size 432x288 with 1 Axes>"
      ]
     },
     "metadata": {
      "needs_background": "light"
     },
     "output_type": "display_data"
    }
   ],
   "source": [
    "#Gráfica de la cantidad de desastres con Muertes por año\n",
    "muertes_2 = nuevo_df.groupby(\"Year\")['Disaster'].count()\n",
    "muertes_2.plot(kind=\"bar\",rot=90,title=\"Desastres con muertes\")"
   ]
  },
  {
   "cell_type": "markdown",
   "metadata": {
    "application/vnd.databricks.v1+cell": {
     "inputWidgets": {},
     "nuid": "02310378-aecf-41a3-819b-c191fb602458",
     "showTitle": false,
     "title": ""
    }
   },
   "source": [
    "### 4.3 Datos calculados"
   ]
  },
  {
   "cell_type": "code",
   "execution_count": 87,
   "metadata": {
    "application/vnd.databricks.v1+cell": {
     "inputWidgets": {},
     "nuid": "f9f77d92-dab1-4188-b124-2a6beb6f6f44",
     "showTitle": false,
     "title": ""
    }
   },
   "outputs": [
    {
     "name": "stdout",
     "output_type": "stream",
     "text": [
      "<class 'pandas.core.frame.DataFrame'>\n",
      "Int64Index: 34 entries, 1359 to 1365\n",
      "Data columns (total 17 columns):\n",
      " #   Column                                       Non-Null Count  Dtype  \n",
      "---  ------                                       --------------  -----  \n",
      " 0   Number of deaths                             34 non-null     float64\n",
      " 1   Number of people injured                     34 non-null     float64\n",
      " 2   Number of people affected                    34 non-null     float64\n",
      " 3   Number of people left homeless               34 non-null     float64\n",
      " 4   Number of total people affected              34 non-null     float64\n",
      " 5   Reconstruction costs                         28 non-null     float64\n",
      " 6   Insured damages against                      28 non-null     float64\n",
      " 7   Total economic damages                       28 non-null     float64\n",
      " 8   Death rates                                  27 non-null     float64\n",
      " 9   Injury rates                                 27 non-null     float64\n",
      " 10  Number of people affected per 100,000        34 non-null     float64\n",
      " 11  Homelessness rate                            34 non-null     float64\n",
      " 12  Total number of people affected per 100,000  26 non-null     float64\n",
      " 13  Entity                                       34 non-null     object \n",
      " 14  Year                                         34 non-null     int64  \n",
      " 15  Disaster                                     34 non-null     object \n",
      " 16  Rates                                        27 non-null     float64\n",
      "dtypes: float64(14), int64(1), object(2)\n",
      "memory usage: 4.8+ KB\n"
     ]
    }
   ],
   "source": [
    "#Ìndice de afectación\n",
    "nuevo_df['Rates'] = nuevo_df['Death rates']+nuevo_df['Injury rates']+nuevo_df['Homelessness rate']\n",
    "nuevo_df.info()"
   ]
  },
  {
   "cell_type": "code",
   "execution_count": 88,
   "metadata": {
    "application/vnd.databricks.v1+cell": {
     "inputWidgets": {},
     "nuid": "a65cf49e-469d-4ea0-9de9-3f06c4497646",
     "showTitle": false,
     "title": ""
    }
   },
   "outputs": [
    {
     "data": {
      "text/plain": [
       "<AxesSubplot:title={'center':'Ìndice de afectación promedio'}, xlabel='Disaster'>"
      ]
     },
     "execution_count": 88,
     "metadata": {},
     "output_type": "execute_result"
    },
    {
     "data": {
      "image/png": "[encoded data removed]",
      "text/plain": [
       "<Figure size 432x288 with 1 Axes>"
      ]
     },
     "metadata": {
      "needs_background": "light"
     },
     "output_type": "display_data"
    }
   ],
   "source": [
    "#Eliminar valores nulos por problemas en el cálculo\n",
    "nuevo_df=nuevo_df.dropna()\n",
    "#Cambio de tipo de valores\n",
    "nuevo_df['Rates'] = nuevo_df['Rates'].astype('float64')\n",
    "#Cálculo del índice promedio\n",
    "rate_prom = nuevo_df.groupby(\"Disaster\")['Rates'].mean()\n",
    "rate_prom.plot(kind=\"bar\",rot=45,title=\"Ìndice de afectación promedio\")"
   ]
  },
  {
   "cell_type": "code",
   "execution_count": 89,
   "metadata": {
    "application/vnd.databricks.v1+cell": {
     "inputWidgets": {},
     "nuid": "002b027d-8d5d-46ac-b722-8451a8c56beb",
     "showTitle": false,
     "title": ""
    }
   },
   "outputs": [
    {
     "name": "stdout",
     "output_type": "stream",
     "text": [
      "\u001b[1mÍndice de afectación anual de inundaciones\u001b[0m\n"
     ]
    },
    {
     "data": {
      "text/plain": [
       "Year\n",
       "1960    0.143202\n",
       "1970    0.161839\n",
       "1980    2.016927\n",
       "1990    0.004021\n",
       "2000    0.033006\n",
       "2010    0.020050\n",
       "Name: Rates, dtype: float64"
      ]
     },
     "metadata": {},
     "output_type": "display_data"
    }
   ],
   "source": [
    "#Índice de afectación anual\n",
    "floods = nuevo_df[nuevo_df['Disaster']==\"floods\"]\n",
    "rate_prom_anual = floods.groupby(\"Year\")['Rates'].mean()\n",
    "print(\"\\033[1m\" + \"Índice de afectación anual de inundaciones\" + \"\\033[0m\")\n",
    "display(rate_prom_anual)"
   ]
  },
  {
   "cell_type": "code",
   "execution_count": 90,
   "metadata": {
    "application/vnd.databricks.v1+cell": {
     "inputWidgets": {},
     "nuid": "cb624848-f6ea-4a13-be7e-15e500b3a9b3",
     "showTitle": false,
     "title": ""
    }
   },
   "outputs": [
    {
     "data": {
      "image/png": "[encoded data removed]",
      "text/plain": [
       "<Figure size 432x288 with 1 Axes>"
      ]
     },
     "metadata": {
      "needs_background": "light"
     },
     "output_type": "display_data"
    }
   ],
   "source": [
    "#Separación por tipo de desastre\n",
    "earthquakes = nuevo_df[nuevo_df['Disaster']==\"earthquakes\"]\n",
    "floods = nuevo_df[nuevo_df['Disaster']==\"floods\"]\n",
    "wildfires = nuevo_df[nuevo_df['Disaster']==\"wildfires\"]\n",
    "temperatures = nuevo_df[nuevo_df['Disaster']==\"extreme temperatures\"]\n",
    "\n",
    "fig,ax = plt.subplots()\n",
    "ax.plot(earthquakes['Year'],earthquakes['Rates'],color=\"g\")\n",
    "ax.plot(floods['Year'],floods['Rates'],color=\"b\",alpha=0.5)\n",
    "ax.plot(wildfires['Year'],wildfires['Rates'],color=\"r\",alpha=0.7)\n",
    "ax.plot(temperatures['Year'],temperatures['Rates'],color=\"y\",alpha=0.7)\n",
    "\n",
    "ax.set_title(\"Ìndice de afectación anual por tipo de desastre\")\n",
    "ax.legend([\"earthquakes\",\"floods\",\"wildfires\",\"extreme temperatures\"])\n",
    "plt.show()"
   ]
  },
  {
   "cell_type": "markdown",
   "metadata": {
    "application/vnd.databricks.v1+cell": {
     "inputWidgets": {},
     "nuid": "75f5c509-f88f-4538-aa40-a8a9e35a1966",
     "showTitle": false,
     "title": ""
    }
   },
   "source": [
    "## 5. Limpieza de datos"
   ]
  },
  {
   "cell_type": "code",
   "execution_count": 91,
   "metadata": {
    "application/vnd.databricks.v1+cell": {
     "inputWidgets": {},
     "nuid": "1d0a9316-6a81-45eb-8f4e-e9d59d21102e",
     "showTitle": false,
     "title": ""
    }
   },
   "outputs": [
    {
     "data": {
      "text/plain": [
       "(19248, 16)"
      ]
     },
     "execution_count": 91,
     "metadata": {},
     "output_type": "execute_result"
    }
   ],
   "source": [
    "#DataFrame para limpiar: datos\n",
    "datos=df_unido\n",
    "datos.shape"
   ]
  },
  {
   "cell_type": "markdown",
   "metadata": {
    "application/vnd.databricks.v1+cell": {
     "inputWidgets": {},
     "nuid": "c497a9ad-6b56-44ab-8d08-d1b24b00303b",
     "showTitle": false,
     "title": ""
    }
   },
   "source": [
    "### 5.1 Valores perdidos\n",
    "- Filas: Eliminación de filas con valores NAN\n",
    "- Ajustar tipo de columnas afectadas por los valores NAN"
   ]
  },
  {
   "cell_type": "code",
   "execution_count": 92,
   "metadata": {
    "application/vnd.databricks.v1+cell": {
     "inputWidgets": {},
     "nuid": "b3d6baad-2f94-4bb9-9543-ef92408f0dfa",
     "showTitle": false,
     "title": ""
    }
   },
   "outputs": [
    {
     "name": "stdout",
     "output_type": "stream",
     "text": [
      "\u001b[1mValores nulos por columnas\u001b[0m\n",
      "Number of deaths                                  0\n",
      "Number of people injured                          0\n",
      "Number of people affected                         0\n",
      "Number of people left homeless                    0\n",
      "Number of total people affected                   0\n",
      "Reconstruction costs                           5760\n",
      "Insured damages against                        5760\n",
      "Total economic damages                         5760\n",
      "Death rates                                    3208\n",
      "Injury rates                                   3208\n",
      "Number of people affected per 100,000          1604\n",
      "Homelessness rate                              1604\n",
      "Total number of people affected per 100,000    3208\n",
      "Entity                                            0\n",
      "Year                                              0\n",
      "Disaster                                          0\n",
      "dtype: int64\n",
      "\u001b[1mNueva forma\u001b[0m\n",
      "(10116, 16)\n"
     ]
    }
   ],
   "source": [
    "#Eliminar valores nulos\n",
    "#Cantidad de valores nulos\n",
    "print(\"\\033[1m\" + \"Valores nulos por columnas\" + \"\\033[0m\")\n",
    "print(datos.isnull().sum())\n",
    "\n",
    "#Remplazar na\n",
    "datos=datos.dropna()\n",
    "\n",
    "#Validar eliminación\n",
    "print(\"\\033[1m\" + \"Nueva forma\" + \"\\033[0m\")\n",
    "print(datos.shape)"
   ]
  },
  {
   "cell_type": "code",
   "execution_count": 93,
   "metadata": {
    "application/vnd.databricks.v1+cell": {
     "inputWidgets": {},
     "nuid": "c6042ea4-1c0b-4763-98e3-c925bc655cad",
     "showTitle": false,
     "title": ""
    }
   },
   "outputs": [
    {
     "name": "stdout",
     "output_type": "stream",
     "text": [
      "<class 'pandas.core.frame.DataFrame'>\n",
      "Int64Index: 10116 entries, 1 to 1603\n",
      "Data columns (total 16 columns):\n",
      " #   Column                                       Non-Null Count  Dtype  \n",
      "---  ------                                       --------------  -----  \n",
      " 0   Number of deaths                             10116 non-null  float64\n",
      " 1   Number of people injured                     10116 non-null  float64\n",
      " 2   Number of people affected                    10116 non-null  float64\n",
      " 3   Number of people left homeless               10116 non-null  float64\n",
      " 4   Number of total people affected              10116 non-null  float64\n",
      " 5   Reconstruction costs                         10116 non-null  float64\n",
      " 6   Insured damages against                      10116 non-null  float64\n",
      " 7   Total economic damages                       10116 non-null  float64\n",
      " 8   Death rates                                  10116 non-null  float64\n",
      " 9   Injury rates                                 10116 non-null  float64\n",
      " 10  Number of people affected per 100,000        10116 non-null  float64\n",
      " 11  Homelessness rate                            10116 non-null  float64\n",
      " 12  Total number of people affected per 100,000  10116 non-null  float64\n",
      " 13  Entity                                       10116 non-null  object \n",
      " 14  Year                                         10116 non-null  int64  \n",
      " 15  Disaster                                     10116 non-null  object \n",
      "dtypes: float64(13), int64(1), object(2)\n",
      "memory usage: 1.3+ MB\n"
     ]
    }
   ],
   "source": [
    "#Esquema\n",
    "datos.info()"
   ]
  },
  {
   "cell_type": "code",
   "execution_count": 94,
   "metadata": {
    "application/vnd.databricks.v1+cell": {
     "inputWidgets": {},
     "nuid": "19d9e7e0-bdba-4875-93af-14208d48c509",
     "showTitle": false,
     "title": ""
    }
   },
   "outputs": [
    {
     "name": "stdout",
     "output_type": "stream",
     "text": [
      "<class 'pandas.core.frame.DataFrame'>\n",
      "Int64Index: 10116 entries, 1 to 1603\n",
      "Data columns (total 16 columns):\n",
      " #   Column                                       Non-Null Count  Dtype  \n",
      "---  ------                                       --------------  -----  \n",
      " 0   Number of deaths                             10116 non-null  float64\n",
      " 1   Number of people injured                     10116 non-null  float64\n",
      " 2   Number of people affected                    10116 non-null  float64\n",
      " 3   Number of people left homeless               10116 non-null  float64\n",
      " 4   Number of total people affected              10116 non-null  float64\n",
      " 5   Reconstruction costs                         10116 non-null  float64\n",
      " 6   Insured damages against                      10116 non-null  float64\n",
      " 7   Total economic damages                       10116 non-null  float64\n",
      " 8   Death rates                                  10116 non-null  float64\n",
      " 9   Injury rates                                 10116 non-null  float64\n",
      " 10  Number of people affected per 100,000        10116 non-null  float64\n",
      " 11  Homelessness rate                            10116 non-null  float64\n",
      " 12  Total number of people affected per 100,000  10116 non-null  float64\n",
      " 13  Entity                                       10116 non-null  object \n",
      " 14  Year                                         10116 non-null  int64  \n",
      " 15  Disaster                                     10116 non-null  object \n",
      "dtypes: float64(13), int64(1), object(2)\n",
      "memory usage: 1.3+ MB\n"
     ]
    },
    {
     "name": "stderr",
     "output_type": "stream",
     "text": [
      "C:\\Users\\auxis\\anaconda3\\lib\\site-packages\\pandas\\core\\frame.py:3607: SettingWithCopyWarning: \n",
      "A value is trying to be set on a copy of a slice from a DataFrame.\n",
      "Try using .loc[row_indexer,col_indexer] = value instead\n",
      "\n",
      "See the caveats in the documentation: https://pandas.pydata.org/pandas-docs/stable/user_guide/indexing.html#returning-a-view-versus-a-copy\n",
      "  self._set_item(key, value)\n"
     ]
    }
   ],
   "source": [
    "#Corregir tipo de datos para las columnas con nulos - tipo: object\n",
    "objetos = ['Death rates','Injury rates','Number of people affected per 100,000','Homelessness rate','Total number of people affected per 100,000']\n",
    "\n",
    "for i in range (len(objetos)):\n",
    "    columna = objetos[i]\n",
    "    datos[columna] = datos[columna].astype('float64')\n",
    "\n",
    "#datos['Death rates'] = datos['Death rates'].astype('float64')\n",
    "datos.info()"
   ]
  },
  {
   "cell_type": "markdown",
   "metadata": {
    "application/vnd.databricks.v1+cell": {
     "inputWidgets": {},
     "nuid": "c633800b-4992-4949-9b5b-8aed79407424",
     "showTitle": false,
     "title": ""
    }
   },
   "source": [
    "### 5.2 Valores duplicados\n",
    "Filas con valores duplicados"
   ]
  },
  {
   "cell_type": "code",
   "execution_count": 95,
   "metadata": {
    "application/vnd.databricks.v1+cell": {
     "inputWidgets": {},
     "nuid": "2ee896c6-128e-4e8a-9ad4-7e07635a6235",
     "showTitle": false,
     "title": ""
    }
   },
   "outputs": [
    {
     "name": "stdout",
     "output_type": "stream",
     "text": [
      "Empty DataFrame\n",
      "Columns: [Number of deaths, Number of people injured, Number of people affected, Number of people left homeless, Number of total people affected, Reconstruction costs, Insured damages against, Total economic damages, Death rates, Injury rates, Number of people affected per 100,000, Homelessness rate, Total number of people affected per 100,000, Entity, Year, Disaster]\n",
      "Index: []\n"
     ]
    }
   ],
   "source": [
    "#Identificación de filas duplicadas\n",
    "dups = datos.duplicated()\n",
    "#Reconocimiento de la existencia e filas duplicadas\n",
    "  #False: no se encuentran duplicados\n",
    "  #True: se encuentran duplicados \n",
    "#print(dups.any())\n",
    "# list all duplicate rows\n",
    "print(datos[dups])\n"
   ]
  },
  {
   "cell_type": "code",
   "execution_count": 96,
   "metadata": {
    "application/vnd.databricks.v1+cell": {
     "inputWidgets": {},
     "nuid": "696fe7dd-8603-4505-9f91-6fbf91955b31",
     "showTitle": false,
     "title": ""
    }
   },
   "outputs": [
    {
     "name": "stdout",
     "output_type": "stream",
     "text": [
      "(10116, 16)\n",
      "(10116, 16)\n"
     ]
    },
    {
     "name": "stderr",
     "output_type": "stream",
     "text": [
      "C:\\Users\\auxis\\anaconda3\\lib\\site-packages\\pandas\\util\\_decorators.py:311: SettingWithCopyWarning: \n",
      "A value is trying to be set on a copy of a slice from a DataFrame\n",
      "\n",
      "See the caveats in the documentation: https://pandas.pydata.org/pandas-docs/stable/user_guide/indexing.html#returning-a-view-versus-a-copy\n",
      "  return func(*args, **kwargs)\n"
     ]
    }
   ],
   "source": [
    "#Eliminar\n",
    "#Validar la misma forma del DataFrame\n",
    "print(datos.shape)\n",
    "#Eliminar filas duplicadas\n",
    "datos.drop_duplicates(inplace=True)\n",
    "print(datos.shape)"
   ]
  },
  {
   "cell_type": "markdown",
   "metadata": {
    "application/vnd.databricks.v1+cell": {
     "inputWidgets": {},
     "nuid": "4a661aa7-7042-442c-baf2-55e8c01b02d4",
     "showTitle": false,
     "title": ""
    }
   },
   "source": [
    "### 5.3 Datos atípicos\n",
    "Outliers"
   ]
  },
  {
   "cell_type": "code",
   "execution_count": 98,
   "metadata": {
    "application/vnd.databricks.v1+cell": {
     "inputWidgets": {},
     "nuid": "53dd0a7d-0be5-44f9-82a2-44bcb2910c9e",
     "showTitle": false,
     "title": ""
    }
   },
   "outputs": [
    {
     "data": {
      "image/png": "[encoded data removed]",
      "text/plain": [
       "<Figure size 432x288 with 1 Axes>"
      ]
     },
     "metadata": {
      "needs_background": "light"
     },
     "output_type": "display_data"
    }
   ],
   "source": [
    "#Seleccionar columnas numéricas\n",
    "X = datos.iloc[:,0:12]\n",
    "\n",
    "#Visualizar cómo se distribuye cada columna\n",
    "import matplotlib.pyplot as plt\n",
    "plt.boxplot(X)\n",
    "plt.show()"
   ]
  },
  {
   "cell_type": "code",
   "execution_count": 99,
   "metadata": {
    "application/vnd.databricks.v1+cell": {
     "inputWidgets": {},
     "nuid": "34f63d46-1ce4-4ff6-ac25-414f9ddaf4b9",
     "showTitle": false,
     "title": ""
    }
   },
   "outputs": [
    {
     "data": {
      "text/html": [
       "<div>\n",
       "<style scoped>\n",
       "    .dataframe tbody tr th:only-of-type {\n",
       "        vertical-align: middle;\n",
       "    }\n",
       "\n",
       "    .dataframe tbody tr th {\n",
       "        vertical-align: top;\n",
       "    }\n",
       "\n",
       "    .dataframe thead th {\n",
       "        text-align: right;\n",
       "    }\n",
       "</style>\n",
       "<table border=\"1\" class=\"dataframe\">\n",
       "  <thead>\n",
       "    <tr style=\"text-align: right;\">\n",
       "      <th></th>\n",
       "      <th>Number of deaths</th>\n",
       "      <th>Number of people injured</th>\n",
       "      <th>Number of people affected</th>\n",
       "      <th>Number of people left homeless</th>\n",
       "      <th>Number of total people affected</th>\n",
       "      <th>Reconstruction costs</th>\n",
       "      <th>Insured damages against</th>\n",
       "      <th>Total economic damages</th>\n",
       "      <th>Death rates</th>\n",
       "      <th>Injury rates</th>\n",
       "      <th>Number of people affected per 100,000</th>\n",
       "      <th>Homelessness rate</th>\n",
       "      <th>Total number of people affected per 100,000</th>\n",
       "      <th>Year</th>\n",
       "    </tr>\n",
       "  </thead>\n",
       "  <tbody>\n",
       "    <tr>\n",
       "      <th>count</th>\n",
       "      <td>10116.000000</td>\n",
       "      <td>10116.000000</td>\n",
       "      <td>1.011600e+04</td>\n",
       "      <td>1.011600e+04</td>\n",
       "      <td>1.011600e+04</td>\n",
       "      <td>1.011600e+04</td>\n",
       "      <td>1.011600e+04</td>\n",
       "      <td>1.011600e+04</td>\n",
       "      <td>10116.000000</td>\n",
       "      <td>10116.000000</td>\n",
       "      <td>10116.000000</td>\n",
       "      <td>10116.000000</td>\n",
       "      <td>10116.000000</td>\n",
       "      <td>10116.000000</td>\n",
       "    </tr>\n",
       "    <tr>\n",
       "      <th>mean</th>\n",
       "      <td>165.484490</td>\n",
       "      <td>235.165105</td>\n",
       "      <td>2.666152e+05</td>\n",
       "      <td>4.613451e+03</td>\n",
       "      <td>2.714638e+05</td>\n",
       "      <td>2.396611e+03</td>\n",
       "      <td>1.007042e+04</td>\n",
       "      <td>7.906702e+04</td>\n",
       "      <td>0.126527</td>\n",
       "      <td>0.198756</td>\n",
       "      <td>114.894459</td>\n",
       "      <td>3.003398</td>\n",
       "      <td>118.096613</td>\n",
       "      <td>1987.108541</td>\n",
       "    </tr>\n",
       "    <tr>\n",
       "      <th>std</th>\n",
       "      <td>3386.535509</td>\n",
       "      <td>4457.639721</td>\n",
       "      <td>3.747252e+06</td>\n",
       "      <td>9.199474e+04</td>\n",
       "      <td>3.816744e+06</td>\n",
       "      <td>7.531923e+04</td>\n",
       "      <td>1.721699e+05</td>\n",
       "      <td>1.017466e+06</td>\n",
       "      <td>2.927605</td>\n",
       "      <td>7.522503</td>\n",
       "      <td>749.490076</td>\n",
       "      <td>57.942547</td>\n",
       "      <td>756.727409</td>\n",
       "      <td>16.642930</td>\n",
       "    </tr>\n",
       "    <tr>\n",
       "      <th>min</th>\n",
       "      <td>0.000000</td>\n",
       "      <td>0.000000</td>\n",
       "      <td>0.000000e+00</td>\n",
       "      <td>0.000000e+00</td>\n",
       "      <td>0.000000e+00</td>\n",
       "      <td>0.000000e+00</td>\n",
       "      <td>0.000000e+00</td>\n",
       "      <td>0.000000e+00</td>\n",
       "      <td>0.000000</td>\n",
       "      <td>0.000000</td>\n",
       "      <td>0.000000</td>\n",
       "      <td>0.000000</td>\n",
       "      <td>0.000000</td>\n",
       "      <td>1960.000000</td>\n",
       "    </tr>\n",
       "    <tr>\n",
       "      <th>25%</th>\n",
       "      <td>0.000000</td>\n",
       "      <td>0.000000</td>\n",
       "      <td>0.000000e+00</td>\n",
       "      <td>0.000000e+00</td>\n",
       "      <td>0.000000e+00</td>\n",
       "      <td>0.000000e+00</td>\n",
       "      <td>0.000000e+00</td>\n",
       "      <td>0.000000e+00</td>\n",
       "      <td>0.000000</td>\n",
       "      <td>0.000000</td>\n",
       "      <td>0.000000</td>\n",
       "      <td>0.000000</td>\n",
       "      <td>0.000000</td>\n",
       "      <td>1970.000000</td>\n",
       "    </tr>\n",
       "    <tr>\n",
       "      <th>50%</th>\n",
       "      <td>0.000000</td>\n",
       "      <td>0.000000</td>\n",
       "      <td>0.000000e+00</td>\n",
       "      <td>0.000000e+00</td>\n",
       "      <td>0.000000e+00</td>\n",
       "      <td>0.000000e+00</td>\n",
       "      <td>0.000000e+00</td>\n",
       "      <td>0.000000e+00</td>\n",
       "      <td>0.000000</td>\n",
       "      <td>0.000000</td>\n",
       "      <td>0.000000</td>\n",
       "      <td>0.000000</td>\n",
       "      <td>0.000000</td>\n",
       "      <td>1990.000000</td>\n",
       "    </tr>\n",
       "    <tr>\n",
       "      <th>75%</th>\n",
       "      <td>0.000000</td>\n",
       "      <td>0.000000</td>\n",
       "      <td>0.000000e+00</td>\n",
       "      <td>0.000000e+00</td>\n",
       "      <td>0.000000e+00</td>\n",
       "      <td>0.000000e+00</td>\n",
       "      <td>0.000000e+00</td>\n",
       "      <td>0.000000e+00</td>\n",
       "      <td>0.000000</td>\n",
       "      <td>0.000000</td>\n",
       "      <td>0.000000</td>\n",
       "      <td>0.000000</td>\n",
       "      <td>0.000000</td>\n",
       "      <td>2000.000000</td>\n",
       "    </tr>\n",
       "    <tr>\n",
       "      <th>max</th>\n",
       "      <td>151065.000000</td>\n",
       "      <td>185232.600000</td>\n",
       "      <td>1.387653e+08</td>\n",
       "      <td>4.812863e+06</td>\n",
       "      <td>1.436605e+08</td>\n",
       "      <td>3.500000e+06</td>\n",
       "      <td>7.945880e+06</td>\n",
       "      <td>3.918065e+07</td>\n",
       "      <td>223.726209</td>\n",
       "      <td>660.033652</td>\n",
       "      <td>17427.674520</td>\n",
       "      <td>4929.577465</td>\n",
       "      <td>17427.674520</td>\n",
       "      <td>2010.000000</td>\n",
       "    </tr>\n",
       "  </tbody>\n",
       "</table>\n",
       "</div>"
      ],
      "text/plain": [
       "       Number of deaths  Number of people injured  Number of people affected  \\\n",
       "count      10116.000000              10116.000000               1.011600e+04   \n",
       "mean         165.484490                235.165105               2.666152e+05   \n",
       "std         3386.535509               4457.639721               3.747252e+06   \n",
       "min            0.000000                  0.000000               0.000000e+00   \n",
       "25%            0.000000                  0.000000               0.000000e+00   \n",
       "50%            0.000000                  0.000000               0.000000e+00   \n",
       "75%            0.000000                  0.000000               0.000000e+00   \n",
       "max       151065.000000             185232.600000               1.387653e+08   \n",
       "\n",
       "       Number of people left homeless  Number of total people affected  \\\n",
       "count                    1.011600e+04                     1.011600e+04   \n",
       "mean                     4.613451e+03                     2.714638e+05   \n",
       "std                      9.199474e+04                     3.816744e+06   \n",
       "min                      0.000000e+00                     0.000000e+00   \n",
       "25%                      0.000000e+00                     0.000000e+00   \n",
       "50%                      0.000000e+00                     0.000000e+00   \n",
       "75%                      0.000000e+00                     0.000000e+00   \n",
       "max                      4.812863e+06                     1.436605e+08   \n",
       "\n",
       "       Reconstruction costs  Insured damages against  Total economic damages  \\\n",
       "count          1.011600e+04             1.011600e+04            1.011600e+04   \n",
       "mean           2.396611e+03             1.007042e+04            7.906702e+04   \n",
       "std            7.531923e+04             1.721699e+05            1.017466e+06   \n",
       "min            0.000000e+00             0.000000e+00            0.000000e+00   \n",
       "25%            0.000000e+00             0.000000e+00            0.000000e+00   \n",
       "50%            0.000000e+00             0.000000e+00            0.000000e+00   \n",
       "75%            0.000000e+00             0.000000e+00            0.000000e+00   \n",
       "max            3.500000e+06             7.945880e+06            3.918065e+07   \n",
       "\n",
       "        Death rates  Injury rates  Number of people affected per 100,000  \\\n",
       "count  10116.000000  10116.000000                           10116.000000   \n",
       "mean       0.126527      0.198756                             114.894459   \n",
       "std        2.927605      7.522503                             749.490076   \n",
       "min        0.000000      0.000000                               0.000000   \n",
       "25%        0.000000      0.000000                               0.000000   \n",
       "50%        0.000000      0.000000                               0.000000   \n",
       "75%        0.000000      0.000000                               0.000000   \n",
       "max      223.726209    660.033652                           17427.674520   \n",
       "\n",
       "       Homelessness rate  Total number of people affected per 100,000  \\\n",
       "count       10116.000000                                 10116.000000   \n",
       "mean            3.003398                                   118.096613   \n",
       "std            57.942547                                   756.727409   \n",
       "min             0.000000                                     0.000000   \n",
       "25%             0.000000                                     0.000000   \n",
       "50%             0.000000                                     0.000000   \n",
       "75%             0.000000                                     0.000000   \n",
       "max          4929.577465                                 17427.674520   \n",
       "\n",
       "               Year  \n",
       "count  10116.000000  \n",
       "mean    1987.108541  \n",
       "std       16.642930  \n",
       "min     1960.000000  \n",
       "25%     1970.000000  \n",
       "50%     1990.000000  \n",
       "75%     2000.000000  \n",
       "max     2010.000000  "
      ]
     },
     "execution_count": 99,
     "metadata": {},
     "output_type": "execute_result"
    }
   ],
   "source": [
    "datos.describe()"
   ]
  },
  {
   "cell_type": "code",
   "execution_count": 101,
   "metadata": {
    "application/vnd.databricks.v1+cell": {
     "inputWidgets": {},
     "nuid": "87f1b52c-f340-4bd6-ab8c-68bf0b5b393e",
     "showTitle": false,
     "title": ""
    }
   },
   "outputs": [],
   "source": [
    "pd.options.mode.chained_assignment = None  # default='warn'\n",
    "\n",
    "#Función para identificar outliers por medio del método de la desviación estándar\n",
    "def outliers (datos,columna):\n",
    "    print(\"\\033[1m\" + columna + \"\\033[0m\")\n",
    "    \n",
    "    #Se prepara un subset de datos eliminando los valores de 0, pues su volumen es alto y se decide no considerarlo en los cálculos\n",
    "    sub_datos = datos[datos[columna]!=0]\n",
    "    #Seleccionar columna como una seria\n",
    "    X = sub_datos[columna]\n",
    "    \n",
    "    #Media y desviación estándar de cada columna\n",
    "    mean = X.mean()\n",
    "    print(\"Media: {:.2f}\" .format(mean))\n",
    "    std = X.std()\n",
    "    print(\"Desviación estándar: {:.2f}\" .format(std))\n",
    "    # Definición de cortes: 2.5 desviaciones estándar en cálculo de límites\n",
    "    print(\"Cortes\")\n",
    "    cut_off = std * 2.5\n",
    "    lower, upper = mean - cut_off, mean + cut_off\n",
    "    print(\"   Corte bajo: %f\" %lower)\n",
    "    print(\"   Corte alto: %f\" %upper)\n",
    "\n",
    "    #Identificación de valores atípicos\n",
    "    outliers = list()\n",
    "    for x in X:\n",
    "        if x < lower:\n",
    "            outliers.append(x)\n",
    "        elif x > upper:\n",
    "            outliers.append(x)\n",
    "        else:\n",
    "            pass\n",
    "    print(\"Outliers: {}\" .format(len(outliers)))\n",
    "    #print(outliers)\n",
    "    \n",
    "    #Visualización\n",
    "    #DataSet para visualizar\n",
    "    new_X = sub_datos[[columna]]\n",
    "    new_X['Upper']=upper\n",
    "    new_X['Lower']=lower\n",
    "\n",
    "    #Gráfico\n",
    "    fig,ax = plt.subplots()\n",
    "    ax.scatter(sub_datos.index,new_X[columna],label=columna)\n",
    "    ax.plot(sub_datos.index,new_X[\"Upper\"],color=\"r\")\n",
    "    ax.plot(sub_datos.index,new_X[\"Lower\"],color=\"r\")\n",
    "    ax.set_ylabel(columna)\n",
    "    ax.set_title(\"Identificación de outliers\")\n",
    "    plt.show()\n",
    "    \n",
    "      \n",
    "    #Eliminar datos - nuevo DataFrame de retorno\n",
    "    #Mantener valores por encima del límite bajo\n",
    "    datos = datos[datos[columna] >= lower]\n",
    "    #Mantener valores por debajo del límite alto\n",
    "    datos = datos[datos[columna] <= upper]\n",
    "    return(datos)\n",
    "    "
   ]
  },
  {
   "cell_type": "code",
   "execution_count": 102,
   "metadata": {
    "application/vnd.databricks.v1+cell": {
     "inputWidgets": {},
     "nuid": "d17570b8-80e5-4a50-ac52-6b6319875f6a",
     "showTitle": false,
     "title": ""
    }
   },
   "outputs": [
    {
     "name": "stdout",
     "output_type": "stream",
     "text": [
      "(10116, 16)\n",
      "\u001b[1mNumber of deaths\u001b[0m\n",
      "Media: 899.06\n",
      "Desviación estándar: 7853.34\n",
      "Cortes\n",
      "   Corte bajo: -18734.295569\n",
      "   Corte alto: 20532.406310\n",
      "Outliers: 19\n"
     ]
    },
    {
     "data": {
      "image/png": "[encoded data removed]",
      "text/plain": [
       "<Figure size 432x288 with 1 Axes>"
      ]
     },
     "metadata": {
      "needs_background": "light"
     },
     "output_type": "display_data"
    },
    {
     "name": "stdout",
     "output_type": "stream",
     "text": [
      "(10097, 16)\n",
      "\u001b[1mNumber of people injured\u001b[0m\n",
      "Media: 1712.57\n",
      "Desviación estándar: 12407.97\n",
      "Cortes\n",
      "   Corte bajo: -29307.345275\n",
      "   Corte alto: 32732.492410\n",
      "Outliers: 11\n"
     ]
    },
    {
     "data": {
      "image/png": "[encoded data removed]",
      "text/plain": [
       "<Figure size 432x288 with 1 Axes>"
      ]
     },
     "metadata": {
      "needs_background": "light"
     },
     "output_type": "display_data"
    },
    {
     "name": "stdout",
     "output_type": "stream",
     "text": [
      "(10086, 16)\n",
      "\u001b[1mNumber of people affected\u001b[0m\n",
      "Media: 1116877.73\n",
      "Desviación estándar: 6554246.48\n",
      "Cortes\n",
      "   Corte bajo: -15268738.472407\n",
      "   Corte alto: 17502493.940414\n",
      "Outliers: 38\n"
     ]
    },
    {
     "data": {
      "image/png": "[encoded data removed]",
      "text/plain": [
       "<Figure size 432x288 with 1 Axes>"
      ]
     },
     "metadata": {
      "needs_background": "light"
     },
     "output_type": "display_data"
    },
    {
     "name": "stdout",
     "output_type": "stream",
     "text": [
      "(10048, 16)\n",
      "\u001b[1mNumber of people left homeless\u001b[0m\n",
      "Media: 16010.73\n",
      "Desviación estándar: 61251.50\n",
      "Cortes\n",
      "   Corte bajo: -137118.030576\n",
      "   Corte alto: 169139.484245\n",
      "Outliers: 22\n"
     ]
    },
    {
     "data": {
      "image/png": "[encoded data removed]",
      "text/plain": [
       "<Figure size 432x288 with 1 Axes>"
      ]
     },
     "metadata": {
      "needs_background": "light"
     },
     "output_type": "display_data"
    },
    {
     "name": "stdout",
     "output_type": "stream",
     "text": [
      "(10026, 16)\n",
      "\u001b[1mNumber of total people affected\u001b[0m\n",
      "Media: 210879.08\n",
      "Desviación estándar: 1044523.36\n",
      "Cortes\n",
      "   Corte bajo: -2400429.314420\n",
      "   Corte alto: 2822187.468717\n",
      "Outliers: 29\n"
     ]
    },
    {
     "data": {
      "image/png": "[encoded data removed]",
      "text/plain": [
       "<Figure size 432x288 with 1 Axes>"
      ]
     },
     "metadata": {
      "needs_background": "light"
     },
     "output_type": "display_data"
    },
    {
     "name": "stdout",
     "output_type": "stream",
     "text": [
      "(9997, 16)\n",
      "\u001b[1mReconstruction costs\u001b[0m\n",
      "Media: 164598.75\n",
      "Desviación estándar: 574214.90\n",
      "Cortes\n",
      "   Corte bajo: -1270938.512476\n",
      "   Corte alto: 1600136.009774\n",
      "Outliers: 1\n"
     ]
    },
    {
     "data": {
      "image/png": "[encoded data removed]",
      "text/plain": [
       "<Figure size 432x288 with 1 Axes>"
      ]
     },
     "metadata": {
      "needs_background": "light"
     },
     "output_type": "display_data"
    },
    {
     "name": "stdout",
     "output_type": "stream",
     "text": [
      "(9996, 16)\n",
      "\u001b[1mInsured damages against\u001b[0m\n",
      "Media: 275824.47\n",
      "Desviación estándar: 813159.73\n",
      "Cortes\n",
      "   Corte bajo: -1757074.848724\n",
      "   Corte alto: 2308723.783818\n",
      "Outliers: 8\n"
     ]
    },
    {
     "data": {
      "image/png": "[encoded data removed]",
      "text/plain": [
       "<Figure size 432x288 with 1 Axes>"
      ]
     },
     "metadata": {
      "needs_background": "light"
     },
     "output_type": "display_data"
    },
    {
     "name": "stdout",
     "output_type": "stream",
     "text": [
      "(9988, 16)\n",
      "\u001b[1mTotal economic damages\u001b[0m\n",
      "Media: 207222.89\n",
      "Desviación estándar: 808909.94\n",
      "Cortes\n",
      "   Corte bajo: -1815051.954904\n",
      "   Corte alto: 2229497.739351\n",
      "Outliers: 27\n"
     ]
    },
    {
     "data": {
      "image/png": "[encoded data removed]",
      "text/plain": [
       "<Figure size 432x288 with 1 Axes>"
      ]
     },
     "metadata": {
      "needs_background": "light"
     },
     "output_type": "display_data"
    },
    {
     "name": "stdout",
     "output_type": "stream",
     "text": [
      "(9961, 16)\n",
      "\u001b[1mDeath rates\u001b[0m\n",
      "Media: 0.50\n",
      "Desviación estándar: 4.09\n",
      "Cortes\n",
      "   Corte bajo: -9.720700\n",
      "   Corte alto: 10.711694\n",
      "Outliers: 12\n"
     ]
    },
    {
     "data": {
      "image/png": "[encoded data removed]",
      "text/plain": [
       "<Figure size 432x288 with 1 Axes>"
      ]
     },
     "metadata": {
      "needs_background": "light"
     },
     "output_type": "display_data"
    },
    {
     "name": "stdout",
     "output_type": "stream",
     "text": [
      "(9949, 16)\n",
      "\u001b[1mInjury rates\u001b[0m\n",
      "Media: 0.60\n",
      "Desviación estándar: 3.37\n",
      "Cortes\n",
      "   Corte bajo: -7.818643\n",
      "   Corte alto: 9.008735\n",
      "Outliers: 12\n"
     ]
    },
    {
     "data": {
      "image/png": "[encoded data removed]",
      "text/plain": [
       "<Figure size 432x288 with 1 Axes>"
      ]
     },
     "metadata": {
      "needs_background": "light"
     },
     "output_type": "display_data"
    },
    {
     "name": "stdout",
     "output_type": "stream",
     "text": [
      "(9937, 16)\n",
      "\u001b[1mNumber of people affected per 100,000\u001b[0m\n",
      "Media: 536.57\n",
      "Desviación estándar: 1530.27\n",
      "Cortes\n",
      "   Corte bajo: -3289.100619\n",
      "   Corte alto: 4362.239992\n",
      "Outliers: 50\n"
     ]
    },
    {
     "data": {
      "image/png": "[encoded data removed]",
      "text/plain": [
       "<Figure size 432x288 with 1 Axes>"
      ]
     },
     "metadata": {
      "needs_background": "light"
     },
     "output_type": "display_data"
    },
    {
     "name": "stdout",
     "output_type": "stream",
     "text": [
      "(9887, 16)\n",
      "\u001b[1mHomelessness rate\u001b[0m\n",
      "Media: 25.54\n",
      "Desviación estándar: 179.75\n",
      "Cortes\n",
      "   Corte bajo: -423.829638\n",
      "   Corte alto: 474.913529\n",
      "Outliers: 5\n"
     ]
    },
    {
     "data": {
      "image/png": "[encoded data removed]",
      "text/plain": [
       "<Figure size 432x288 with 1 Axes>"
      ]
     },
     "metadata": {
      "needs_background": "light"
     },
     "output_type": "display_data"
    },
    {
     "name": "stdout",
     "output_type": "stream",
     "text": [
      "(9882, 16)\n"
     ]
    }
   ],
   "source": [
    "#Lista de columnas numéricas\n",
    "X = datos.iloc[:,0:12]\n",
    "columnas_num = X.columns\n",
    "columnas=list(columnas_num)\n",
    "columnas\n",
    "print(datos.shape)\n",
    "\n",
    "#Revisión columna por columna\n",
    "for columna in columnas:\n",
    "    datos = outliers (datos,columna)\n",
    "    print(datos.shape)"
   ]
  },
  {
   "cell_type": "markdown",
   "metadata": {
    "application/vnd.databricks.v1+cell": {
     "inputWidgets": {},
     "nuid": "6ca9efff-3ad4-4a45-9d93-83625d29c27a",
     "showTitle": false,
     "title": ""
    }
   },
   "source": [
    "### 5.4 Conclusiones\n",
    "- Base de datos inicial: \n",
    "    - shape: (19248, 16)\n",
    "- Valores perdidos: \n",
    "    - Se identifican 9132 filas con valores nulos.  \n",
    "    - shape: (10116, 16)\n",
    "- Valores duplicados:\n",
    "    - No se identifican filas duplicadas\n",
    "    - shape: (10116, 16)\n",
    "- Valores atípicos:\n",
    "    - Se identifican 234 outliers\n",
    "    - shpae: (9882, 16)"
   ]
  },
  {
   "cell_type": "markdown",
   "metadata": {
    "application/vnd.databricks.v1+cell": {
     "inputWidgets": {},
     "nuid": "b863113b-1f4f-4284-a715-48acb9206807",
     "showTitle": false,
     "title": ""
    }
   },
   "source": [
    "## 6. Feature Selection\n",
    "Selección de columnas como variables de entrada para el modelo"
   ]
  },
  {
   "cell_type": "markdown",
   "metadata": {
    "application/vnd.databricks.v1+cell": {
     "inputWidgets": {},
     "nuid": "1fcf9c39-aaaa-4c90-acc9-8863098388f6",
     "showTitle": false,
     "title": ""
    }
   },
   "source": [
    "### 6.1 Valores únicos\n",
    "\n",
    "Columnas con valores constantes"
   ]
  },
  {
   "cell_type": "code",
   "execution_count": 103,
   "metadata": {
    "application/vnd.databricks.v1+cell": {
     "inputWidgets": {},
     "nuid": "59720c8f-a0a8-49b0-9113-68a6d48690f9",
     "showTitle": false,
     "title": ""
    }
   },
   "outputs": [],
   "source": [
    "#Función para identificar columnas con valores únicos\n",
    "ops = {}\n",
    "def identify_single_unique(data):\n",
    "        \"\"\"Finds features with only a single unique value. NaNs do not count as a unique value. \"\"\"\n",
    "\n",
    "        # Calculate the unique counts in each column\n",
    "        unique_counts = data.nunique()\n",
    "        unique_stats = pd.DataFrame(unique_counts).rename(columns = {'index': 'feature', 0: 'nunique'})\n",
    "        unique_stats = unique_stats.sort_values('nunique', ascending = True)\n",
    "        \n",
    "        # Find the columns with only one unique count\n",
    "        record_single_unique = pd.DataFrame(unique_counts[unique_counts == 1]).reset_index().rename(columns = {'index': 'feature', \n",
    "                                                                                                                0: 'nunique'})\n",
    "\n",
    "        to_drop = list(record_single_unique['feature'])\n",
    "    \n",
    "        record_single_unique = record_single_unique\n",
    "        ops['single_unique'] = to_drop\n",
    "        \n",
    "        print('%d features with a single unique value.\\n' % len(ops['single_unique']))\n",
    "        return(to_drop) #Identificar la(s) columna(s) que cuenta con valores úicos"
   ]
  },
  {
   "cell_type": "code",
   "execution_count": 104,
   "metadata": {
    "application/vnd.databricks.v1+cell": {
     "inputWidgets": {},
     "nuid": "64878f73-3c52-44e8-bacd-c7e55950c678",
     "showTitle": false,
     "title": ""
    }
   },
   "outputs": [
    {
     "name": "stdout",
     "output_type": "stream",
     "text": [
      "0 features with a single unique value.\n",
      "\n",
      "[]\n"
     ]
    }
   ],
   "source": [
    "col_unicas= identify_single_unique(datos)\n",
    "print(col_unicas)"
   ]
  },
  {
   "cell_type": "markdown",
   "metadata": {
    "application/vnd.databricks.v1+cell": {
     "inputWidgets": {},
     "nuid": "1adc90ab-9ad2-4e7d-a2a5-27d263618836",
     "showTitle": false,
     "title": ""
    }
   },
   "source": [
    "### 6.2 Poca varianza\n",
    "Eliminación de columnas con poca varianza con parámetros definidos"
   ]
  },
  {
   "cell_type": "code",
   "execution_count": 105,
   "metadata": {
    "application/vnd.databricks.v1+cell": {
     "inputWidgets": {},
     "nuid": "a40d3435-c0aa-4bc5-b21f-2e1c4e295e83",
     "showTitle": false,
     "title": ""
    }
   },
   "outputs": [
    {
     "name": "stdout",
     "output_type": "stream",
     "text": [
      "(9882, 12)\n"
     ]
    },
    {
     "data": {
      "text/plain": [
       "Injury rates                                  0.280903\n",
       "Death rates                                   0.310308\n",
       "Homelessness rate                            13.262971\n",
       "Number of people affected per 100,000       302.478037\n",
       "Number of deaths                            334.714362\n",
       "Number of people injured                    446.212470\n",
       "Reconstruction costs                       4242.378306\n",
       "Number of people left homeless             5628.994769\n",
       "Insured damages against                   18440.766446\n",
       "Total economic damages                   102552.453081\n",
       "Number of people affected                124266.645649\n",
       "Number of total people affected          126168.740916\n",
       "dtype: float64"
      ]
     },
     "metadata": {},
     "output_type": "display_data"
    }
   ],
   "source": [
    "#Seleccionar columnas numéricas\n",
    "X = datos.iloc[:,0:12]\n",
    "print(X.shape)\n",
    "\n",
    "#Revisión de las desviaciones estándar en las columnas\n",
    "display(X.std().sort_values())"
   ]
  },
  {
   "cell_type": "code",
   "execution_count": 106,
   "metadata": {
    "application/vnd.databricks.v1+cell": {
     "inputWidgets": {},
     "nuid": "5dce68e0-a9fd-48cf-bb6c-0fedc91fb0ed",
     "showTitle": false,
     "title": ""
    }
   },
   "outputs": [
    {
     "name": "stdout",
     "output_type": "stream",
     "text": [
      ">Threshold=0.00, Features=12\n",
      ">Threshold=0.05, Features=12\n",
      ">Threshold=0.10, Features=10\n",
      ">Threshold=0.15, Features=10\n",
      ">Threshold=0.20, Features=10\n",
      ">Threshold=0.25, Features=10\n",
      ">Threshold=0.30, Features=10\n",
      ">Threshold=0.35, Features=10\n",
      ">Threshold=0.40, Features=10\n",
      ">Threshold=0.45, Features=10\n",
      ">Threshold=0.50, Features=10\n"
     ]
    },
    {
     "data": {
      "image/png": "[encoded data removed]",
      "text/plain": [
       "<Figure size 432x288 with 1 Axes>"
      ]
     },
     "metadata": {
      "needs_background": "light"
     },
     "output_type": "display_data"
    }
   ],
   "source": [
    "#importación de librería \n",
    "from sklearn.feature_selection import VarianceThreshold #librería para determinar umbral de varianza como parámetro\n",
    "from numpy import arange \n",
    "\n",
    "#Seleccionar columnas numéricas\n",
    "X = datos.iloc[:,0:12]\n",
    "\n",
    "#se define un rango de variazas\n",
    "#Va iterando de 5% en 5% desde 0 a 0.55\n",
    "thresholds = arange(0.0, 0.55, 0.05)\n",
    "results = list()\n",
    "\n",
    "#Se van probando una a una\n",
    "for t in thresholds:\n",
    "  # define the transform con parámetro de umbral que va iterando\n",
    "  transform = VarianceThreshold(threshold=t)\n",
    "  # transform the input data\n",
    "  X_sel = transform.fit_transform(X)\n",
    "  # determine the number of input features\n",
    "  n_features = X_sel.shape[1]\n",
    "  print('>Threshold=%.2f, Features=%d' % (t, n_features))\n",
    "  # store the result\n",
    "  results.append(n_features)\n",
    "  ###########################\n",
    " #Viendo el gráfico, dónde corto\n",
    "from matplotlib import pyplot\n",
    "pyplot.plot(thresholds, results)\n",
    "pyplot.show()"
   ]
  },
  {
   "cell_type": "code",
   "execution_count": 107,
   "metadata": {
    "application/vnd.databricks.v1+cell": {
     "inputWidgets": {},
     "nuid": "b10b8062-1768-4c9e-ab32-56eb538070d1",
     "showTitle": false,
     "title": ""
    }
   },
   "outputs": [
    {
     "data": {
      "text/plain": [
       "(9882, 14)"
      ]
     },
     "execution_count": 107,
     "metadata": {},
     "output_type": "execute_result"
    }
   ],
   "source": [
    "#Las dos con la columnas con menor varianza\n",
    "to_drop = ['Death rates','Injury rates']\n",
    "datos = datos.drop(to_drop, axis=1)\n",
    "datos.shape"
   ]
  },
  {
   "cell_type": "markdown",
   "metadata": {
    "application/vnd.databricks.v1+cell": {
     "inputWidgets": {},
     "nuid": "4f3b2b06-086b-4217-aa6b-edefe047c862",
     "showTitle": false,
     "title": ""
    }
   },
   "source": [
    "### 6.3 Colinealidad\n",
    "Eliminación de columnas relacionadas entre sí"
   ]
  },
  {
   "cell_type": "code",
   "execution_count": 108,
   "metadata": {
    "application/vnd.databricks.v1+cell": {
     "inputWidgets": {},
     "nuid": "b7df3786-0751-4e30-bada-d268acfde1c6",
     "showTitle": false,
     "title": ""
    }
   },
   "outputs": [],
   "source": [
    "#Función para identificar colinealidad entre las variables\n",
    "ops = {}\n",
    "def identify_collinear(data, correlation_threshold, one_hot=False):\n",
    "        \"\"\"\n",
    "        Finds collinear features based on the correlation coefficient between features. \n",
    "        For each pair of features with a correlation coefficient greather than `correlation_threshold`,\n",
    "        only one of the pair is identified for removal. \n",
    "        \"\"\"\n",
    "        \n",
    "        correlation_threshold = correlation_threshold\n",
    "        one_hot_correlated = one_hot\n",
    "        \n",
    "         # Calculate the correlations between every column\n",
    "        if one_hot:\n",
    "            # One hot encoding\n",
    "            features = pd.get_dummies(data)\n",
    "            one_hot_features = [column for column in features.columns if column not in base_features]\n",
    "\n",
    "            # Add one hot encoded data to original data\n",
    "            data_all = pd.concat([features[one_hot_features], data], axis = 1)\n",
    "            \n",
    "            corr_matrix = pd.get_dummies(features).corr()\n",
    "\n",
    "        else:\n",
    "            corr_matrix = data.corr()\n",
    "        \n",
    "        corr_matrix = corr_matrix\n",
    "    \n",
    "        # Extract the upper triangle of the correlation matrix\n",
    "        upper = corr_matrix.where(np.triu(np.ones(corr_matrix.shape), k = 1).astype(np.bool))\n",
    "        \n",
    "        # Select the features with correlations above the threshold\n",
    "        # Need to use the absolute value\n",
    "        to_drop = [column for column in upper.columns if any(upper[column].abs() > correlation_threshold)]\n",
    "\n",
    "        # Dataframe to hold correlated pairs\n",
    "        record_collinear = pd.DataFrame(columns = ['drop_feature', 'corr_feature', 'corr_value'])\n",
    "\n",
    "        # Iterate through the columns to drop to record pairs of correlated features\n",
    "        for column in to_drop:\n",
    "\n",
    "            # Find the correlated features\n",
    "            corr_features = list(upper.index[upper[column].abs() > correlation_threshold])\n",
    "\n",
    "            # Find the correlated values\n",
    "            corr_values = list(upper[column][upper[column].abs() > correlation_threshold])\n",
    "            drop_features = [column for _ in range(len(corr_features))]    \n",
    "\n",
    "            # Record the information (need a temp df for now)\n",
    "            temp_df = pd.DataFrame.from_dict({'drop_feature': drop_features,\n",
    "                                             'corr_feature': corr_features,\n",
    "                                             'corr_value': corr_values})\n",
    "\n",
    "            # Add to dataframe\n",
    "            record_collinear = record_collinear.append(temp_df, ignore_index = True)\n",
    "\n",
    "        record_collinear = record_collinear\n",
    "        ops['collinear'] = to_drop\n",
    "        \n",
    "        print('%d features with a correlation magnitude greater than %0.2f.\\n' % (len(ops['collinear']), correlation_threshold))\n",
    "        #return(corr_matrix) #para revisar la matriz de correlación\n",
    "        return(to_drop) #identificar la columna a eliminar por correlación"
   ]
  },
  {
   "cell_type": "code",
   "execution_count": 109,
   "metadata": {
    "application/vnd.databricks.v1+cell": {
     "inputWidgets": {},
     "nuid": "3e663fe9-05eb-480d-9c36-5bdb419e8b82",
     "showTitle": false,
     "title": ""
    }
   },
   "outputs": [
    {
     "name": "stdout",
     "output_type": "stream",
     "text": [
      "2 features with a correlation magnitude greater than 0.95.\n",
      "\n",
      "Eliminar columnas:  ['Number of total people affected', 'Total number of people affected per 100,000']\n"
     ]
    },
    {
     "name": "stderr",
     "output_type": "stream",
     "text": [
      "<ipython-input-108-9f7b324732cf>:30: DeprecationWarning: `np.bool` is a deprecated alias for the builtin `bool`. To silence this warning, use `bool` by itself. Doing this will not modify any behavior and is safe. If you specifically wanted the numpy scalar type, use `np.bool_` here.\n",
      "Deprecated in NumPy 1.20; for more details and guidance: https://numpy.org/devdocs/release/1.20.0-notes.html#deprecations\n",
      "  upper = corr_matrix.where(np.triu(np.ones(corr_matrix.shape), k = 1).astype(np.bool))\n"
     ]
    }
   ],
   "source": [
    "#Identificar las columnas con colinealidad\n",
    "col_colinealidad = identify_collinear(datos, .95)\n",
    "#col_colinealidad\n",
    "print(\"Eliminar columnas: \", col_colinealidad)\n"
   ]
  },
  {
   "cell_type": "code",
   "execution_count": 110,
   "metadata": {
    "application/vnd.databricks.v1+cell": {
     "inputWidgets": {},
     "nuid": "38ea5f6e-4cd6-4f29-998a-f952bbd047d9",
     "showTitle": false,
     "title": ""
    }
   },
   "outputs": [
    {
     "name": "stdout",
     "output_type": "stream",
     "text": [
      "(9882, 14)\n",
      "(9882, 12)\n"
     ]
    }
   ],
   "source": [
    "#Eliminar las columnas con colinealidad (1 del par)\n",
    "print(datos.shape)\n",
    "datos = datos.drop(col_colinealidad, axis=1)\n",
    "print(datos.shape)"
   ]
  },
  {
   "cell_type": "code",
   "execution_count": 111,
   "metadata": {
    "application/vnd.databricks.v1+cell": {
     "inputWidgets": {},
     "nuid": "e39fb82c-0cc7-481f-8ee1-130e1793c320",
     "showTitle": false,
     "title": ""
    }
   },
   "outputs": [
    {
     "data": {
      "text/html": [
       "<div>\n",
       "<style scoped>\n",
       "    .dataframe tbody tr th:only-of-type {\n",
       "        vertical-align: middle;\n",
       "    }\n",
       "\n",
       "    .dataframe tbody tr th {\n",
       "        vertical-align: top;\n",
       "    }\n",
       "\n",
       "    .dataframe thead th {\n",
       "        text-align: right;\n",
       "    }\n",
       "</style>\n",
       "<table border=\"1\" class=\"dataframe\">\n",
       "  <thead>\n",
       "    <tr style=\"text-align: right;\">\n",
       "      <th></th>\n",
       "      <th>Number of deaths</th>\n",
       "      <th>Number of people injured</th>\n",
       "      <th>Number of people affected</th>\n",
       "      <th>Number of people left homeless</th>\n",
       "      <th>Reconstruction costs</th>\n",
       "      <th>Insured damages against</th>\n",
       "      <th>Total economic damages</th>\n",
       "      <th>Number of people affected per 100,000</th>\n",
       "      <th>Homelessness rate</th>\n",
       "      <th>Year</th>\n",
       "    </tr>\n",
       "  </thead>\n",
       "  <tbody>\n",
       "    <tr>\n",
       "      <th>count</th>\n",
       "      <td>9882.000000</td>\n",
       "      <td>9882.000000</td>\n",
       "      <td>9.882000e+03</td>\n",
       "      <td>9882.000000</td>\n",
       "      <td>9882.000000</td>\n",
       "      <td>9882.000000</td>\n",
       "      <td>9.882000e+03</td>\n",
       "      <td>9882.000000</td>\n",
       "      <td>9882.000000</td>\n",
       "      <td>9882.000000</td>\n",
       "    </tr>\n",
       "    <tr>\n",
       "      <th>mean</th>\n",
       "      <td>23.357772</td>\n",
       "      <td>26.256426</td>\n",
       "      <td>1.636688e+04</td>\n",
       "      <td>553.928466</td>\n",
       "      <td>102.942066</td>\n",
       "      <td>1267.754574</td>\n",
       "      <td>1.386456e+04</td>\n",
       "      <td>51.137047</td>\n",
       "      <td>1.420514</td>\n",
       "      <td>1986.997571</td>\n",
       "    </tr>\n",
       "    <tr>\n",
       "      <th>std</th>\n",
       "      <td>334.714362</td>\n",
       "      <td>446.212470</td>\n",
       "      <td>1.242666e+05</td>\n",
       "      <td>5628.994769</td>\n",
       "      <td>4242.378306</td>\n",
       "      <td>18440.766446</td>\n",
       "      <td>1.025525e+05</td>\n",
       "      <td>302.478037</td>\n",
       "      <td>13.262971</td>\n",
       "      <td>16.666957</td>\n",
       "    </tr>\n",
       "    <tr>\n",
       "      <th>min</th>\n",
       "      <td>0.000000</td>\n",
       "      <td>0.000000</td>\n",
       "      <td>0.000000e+00</td>\n",
       "      <td>0.000000</td>\n",
       "      <td>0.000000</td>\n",
       "      <td>0.000000</td>\n",
       "      <td>0.000000e+00</td>\n",
       "      <td>0.000000</td>\n",
       "      <td>0.000000</td>\n",
       "      <td>1960.000000</td>\n",
       "    </tr>\n",
       "    <tr>\n",
       "      <th>25%</th>\n",
       "      <td>0.000000</td>\n",
       "      <td>0.000000</td>\n",
       "      <td>0.000000e+00</td>\n",
       "      <td>0.000000</td>\n",
       "      <td>0.000000</td>\n",
       "      <td>0.000000</td>\n",
       "      <td>0.000000e+00</td>\n",
       "      <td>0.000000</td>\n",
       "      <td>0.000000</td>\n",
       "      <td>1970.000000</td>\n",
       "    </tr>\n",
       "    <tr>\n",
       "      <th>50%</th>\n",
       "      <td>0.000000</td>\n",
       "      <td>0.000000</td>\n",
       "      <td>0.000000e+00</td>\n",
       "      <td>0.000000</td>\n",
       "      <td>0.000000</td>\n",
       "      <td>0.000000</td>\n",
       "      <td>0.000000e+00</td>\n",
       "      <td>0.000000</td>\n",
       "      <td>0.000000</td>\n",
       "      <td>1990.000000</td>\n",
       "    </tr>\n",
       "    <tr>\n",
       "      <th>75%</th>\n",
       "      <td>0.000000</td>\n",
       "      <td>0.000000</td>\n",
       "      <td>0.000000e+00</td>\n",
       "      <td>0.000000</td>\n",
       "      <td>0.000000</td>\n",
       "      <td>0.000000</td>\n",
       "      <td>0.000000e+00</td>\n",
       "      <td>0.000000</td>\n",
       "      <td>0.000000</td>\n",
       "      <td>2000.000000</td>\n",
       "    </tr>\n",
       "    <tr>\n",
       "      <th>max</th>\n",
       "      <td>17492.100000</td>\n",
       "      <td>19647.900000</td>\n",
       "      <td>2.780000e+06</td>\n",
       "      <td>146608.400000</td>\n",
       "      <td>334400.000000</td>\n",
       "      <td>702250.000000</td>\n",
       "      <td>2.192485e+06</td>\n",
       "      <td>4268.990363</td>\n",
       "      <td>411.884920</td>\n",
       "      <td>2010.000000</td>\n",
       "    </tr>\n",
       "  </tbody>\n",
       "</table>\n",
       "</div>"
      ],
      "text/plain": [
       "       Number of deaths  Number of people injured  Number of people affected  \\\n",
       "count       9882.000000               9882.000000               9.882000e+03   \n",
       "mean          23.357772                 26.256426               1.636688e+04   \n",
       "std          334.714362                446.212470               1.242666e+05   \n",
       "min            0.000000                  0.000000               0.000000e+00   \n",
       "25%            0.000000                  0.000000               0.000000e+00   \n",
       "50%            0.000000                  0.000000               0.000000e+00   \n",
       "75%            0.000000                  0.000000               0.000000e+00   \n",
       "max        17492.100000              19647.900000               2.780000e+06   \n",
       "\n",
       "       Number of people left homeless  Reconstruction costs  \\\n",
       "count                     9882.000000           9882.000000   \n",
       "mean                       553.928466            102.942066   \n",
       "std                       5628.994769           4242.378306   \n",
       "min                          0.000000              0.000000   \n",
       "25%                          0.000000              0.000000   \n",
       "50%                          0.000000              0.000000   \n",
       "75%                          0.000000              0.000000   \n",
       "max                     146608.400000         334400.000000   \n",
       "\n",
       "       Insured damages against  Total economic damages  \\\n",
       "count              9882.000000            9.882000e+03   \n",
       "mean               1267.754574            1.386456e+04   \n",
       "std               18440.766446            1.025525e+05   \n",
       "min                   0.000000            0.000000e+00   \n",
       "25%                   0.000000            0.000000e+00   \n",
       "50%                   0.000000            0.000000e+00   \n",
       "75%                   0.000000            0.000000e+00   \n",
       "max              702250.000000            2.192485e+06   \n",
       "\n",
       "       Number of people affected per 100,000  Homelessness rate         Year  \n",
       "count                            9882.000000        9882.000000  9882.000000  \n",
       "mean                               51.137047           1.420514  1986.997571  \n",
       "std                               302.478037          13.262971    16.666957  \n",
       "min                                 0.000000           0.000000  1960.000000  \n",
       "25%                                 0.000000           0.000000  1970.000000  \n",
       "50%                                 0.000000           0.000000  1990.000000  \n",
       "75%                                 0.000000           0.000000  2000.000000  \n",
       "max                              4268.990363         411.884920  2010.000000  "
      ]
     },
     "execution_count": 111,
     "metadata": {},
     "output_type": "execute_result"
    }
   ],
   "source": [
    "datos.describe()"
   ]
  },
  {
   "cell_type": "markdown",
   "metadata": {
    "application/vnd.databricks.v1+cell": {
     "inputWidgets": {},
     "nuid": "5789ca4c-d6cd-4c49-a9ed-77f7c577590b",
     "showTitle": false,
     "title": ""
    }
   },
   "source": [
    "### 6.4 Conclusiones\n",
    "- Valores únicos\n",
    "    - No se identifica ninguna columna con valores constantes\n",
    "    - shape: (9882, 16)\n",
    "- Poca varianza\n",
    "    - Se eliminan las columnas 'Death rates' y 'Injury rates' por poca varainza\n",
    "    - shape: (9882, 14)\n",
    "- Colinealidad\n",
    "    - Se eliminan las columnas 'Number of total people affected', 'Total number of people affected per 100,000' por presentar colinealidad con otras del mismo DataSet\n",
    "    - shape: (9882, 12)"
   ]
  },
  {
   "cell_type": "markdown",
   "metadata": {
    "application/vnd.databricks.v1+cell": {
     "inputWidgets": {},
     "nuid": "dd597565-4423-4dcc-9d3d-c0636a821713",
     "showTitle": false,
     "title": ""
    }
   },
   "source": [
    "## 7. Modelo"
   ]
  },
  {
   "cell_type": "code",
   "execution_count": 113,
   "metadata": {
    "application/vnd.databricks.v1+cell": {
     "inputWidgets": {},
     "nuid": "59ecc836-5cf5-49e7-83b9-27108b5d7fb1",
     "showTitle": false,
     "title": ""
    }
   },
   "outputs": [],
   "source": [
    "data_final = datos"
   ]
  },
  {
   "cell_type": "code",
   "execution_count": 114,
   "metadata": {
    "application/vnd.databricks.v1+cell": {
     "inputWidgets": {},
     "nuid": "e58a03bc-b505-4718-acb5-a6f2324759cb",
     "showTitle": false,
     "title": ""
    }
   },
   "outputs": [
    {
     "data": {
      "text/html": [
       "<div>\n",
       "<style scoped>\n",
       "    .dataframe tbody tr th:only-of-type {\n",
       "        vertical-align: middle;\n",
       "    }\n",
       "\n",
       "    .dataframe tbody tr th {\n",
       "        vertical-align: top;\n",
       "    }\n",
       "\n",
       "    .dataframe thead th {\n",
       "        text-align: right;\n",
       "    }\n",
       "</style>\n",
       "<table border=\"1\" class=\"dataframe\">\n",
       "  <thead>\n",
       "    <tr style=\"text-align: right;\">\n",
       "      <th></th>\n",
       "      <th>Number of deaths</th>\n",
       "      <th>Number of people injured</th>\n",
       "      <th>Number of people affected</th>\n",
       "      <th>Number of people left homeless</th>\n",
       "      <th>Reconstruction costs</th>\n",
       "      <th>Insured damages against</th>\n",
       "      <th>Total economic damages</th>\n",
       "      <th>Number of people affected per 100,000</th>\n",
       "      <th>Homelessness rate</th>\n",
       "      <th>Entity</th>\n",
       "      <th>Year</th>\n",
       "      <th>Disaster</th>\n",
       "    </tr>\n",
       "  </thead>\n",
       "  <tbody>\n",
       "    <tr>\n",
       "      <th>1</th>\n",
       "      <td>0.0</td>\n",
       "      <td>0.0</td>\n",
       "      <td>4800.0</td>\n",
       "      <td>0.0</td>\n",
       "      <td>0.0</td>\n",
       "      <td>0.0</td>\n",
       "      <td>20.0</td>\n",
       "      <td>44.060951</td>\n",
       "      <td>0.000000</td>\n",
       "      <td>Afghanistan</td>\n",
       "      <td>1960</td>\n",
       "      <td>drought</td>\n",
       "    </tr>\n",
       "    <tr>\n",
       "      <th>5</th>\n",
       "      <td>3.7</td>\n",
       "      <td>0.0</td>\n",
       "      <td>476000.0</td>\n",
       "      <td>0.0</td>\n",
       "      <td>0.0</td>\n",
       "      <td>0.0</td>\n",
       "      <td>5.0</td>\n",
       "      <td>2061.379726</td>\n",
       "      <td>0.000000</td>\n",
       "      <td>Afghanistan</td>\n",
       "      <td>2000</td>\n",
       "      <td>drought</td>\n",
       "    </tr>\n",
       "    <tr>\n",
       "      <th>6</th>\n",
       "      <td>0.0</td>\n",
       "      <td>0.0</td>\n",
       "      <td>1525000.0</td>\n",
       "      <td>0.0</td>\n",
       "      <td>0.0</td>\n",
       "      <td>0.0</td>\n",
       "      <td>14200.0</td>\n",
       "      <td>4212.833017</td>\n",
       "      <td>0.000000</td>\n",
       "      <td>Afghanistan</td>\n",
       "      <td>2010</td>\n",
       "      <td>drought</td>\n",
       "    </tr>\n",
       "    <tr>\n",
       "      <th>13</th>\n",
       "      <td>205.0</td>\n",
       "      <td>0.0</td>\n",
       "      <td>963348.3</td>\n",
       "      <td>0.0</td>\n",
       "      <td>0.0</td>\n",
       "      <td>0.0</td>\n",
       "      <td>19570.0</td>\n",
       "      <td>280.686846</td>\n",
       "      <td>0.000000</td>\n",
       "      <td>Africa</td>\n",
       "      <td>1960</td>\n",
       "      <td>drought</td>\n",
       "    </tr>\n",
       "    <tr>\n",
       "      <th>14</th>\n",
       "      <td>11900.0</td>\n",
       "      <td>0.0</td>\n",
       "      <td>1951200.0</td>\n",
       "      <td>0.0</td>\n",
       "      <td>0.0</td>\n",
       "      <td>0.0</td>\n",
       "      <td>40720.0</td>\n",
       "      <td>452.699691</td>\n",
       "      <td>0.000000</td>\n",
       "      <td>Africa</td>\n",
       "      <td>1970</td>\n",
       "      <td>drought</td>\n",
       "    </tr>\n",
       "    <tr>\n",
       "      <th>...</th>\n",
       "      <td>...</td>\n",
       "      <td>...</td>\n",
       "      <td>...</td>\n",
       "      <td>...</td>\n",
       "      <td>...</td>\n",
       "      <td>...</td>\n",
       "      <td>...</td>\n",
       "      <td>...</td>\n",
       "      <td>...</td>\n",
       "      <td>...</td>\n",
       "      <td>...</td>\n",
       "      <td>...</td>\n",
       "    </tr>\n",
       "    <tr>\n",
       "      <th>1535</th>\n",
       "      <td>5757.4</td>\n",
       "      <td>614.1</td>\n",
       "      <td>593856.9</td>\n",
       "      <td>23824.7</td>\n",
       "      <td>0.0</td>\n",
       "      <td>20000.0</td>\n",
       "      <td>289520.0</td>\n",
       "      <td>21.688474</td>\n",
       "      <td>0.876167</td>\n",
       "      <td>Upper middle income</td>\n",
       "      <td>2010</td>\n",
       "      <td>extreme temperatures</td>\n",
       "    </tr>\n",
       "    <tr>\n",
       "      <th>1580</th>\n",
       "      <td>155.3</td>\n",
       "      <td>60.0</td>\n",
       "      <td>0.0</td>\n",
       "      <td>0.0</td>\n",
       "      <td>0.0</td>\n",
       "      <td>0.0</td>\n",
       "      <td>350000.0</td>\n",
       "      <td>0.000000</td>\n",
       "      <td>0.000000</td>\n",
       "      <td>World</td>\n",
       "      <td>1970</td>\n",
       "      <td>extreme temperatures</td>\n",
       "    </tr>\n",
       "    <tr>\n",
       "      <th>1581</th>\n",
       "      <td>533.5</td>\n",
       "      <td>21.7</td>\n",
       "      <td>3864.5</td>\n",
       "      <td>134.0</td>\n",
       "      <td>0.0</td>\n",
       "      <td>63230.0</td>\n",
       "      <td>389460.0</td>\n",
       "      <td>0.078450</td>\n",
       "      <td>0.002751</td>\n",
       "      <td>World</td>\n",
       "      <td>1980</td>\n",
       "      <td>extreme temperatures</td>\n",
       "    </tr>\n",
       "    <tr>\n",
       "      <th>1582</th>\n",
       "      <td>932.3</td>\n",
       "      <td>185.4</td>\n",
       "      <td>711683.0</td>\n",
       "      <td>1600.0</td>\n",
       "      <td>0.0</td>\n",
       "      <td>72390.0</td>\n",
       "      <td>1050655.0</td>\n",
       "      <td>12.602761</td>\n",
       "      <td>0.029097</td>\n",
       "      <td>World</td>\n",
       "      <td>1990</td>\n",
       "      <td>extreme temperatures</td>\n",
       "    </tr>\n",
       "    <tr>\n",
       "      <th>1584</th>\n",
       "      <td>7424.4</td>\n",
       "      <td>19647.9</td>\n",
       "      <td>1059106.1</td>\n",
       "      <td>23824.7</td>\n",
       "      <td>0.0</td>\n",
       "      <td>180000.0</td>\n",
       "      <td>707292.4</td>\n",
       "      <td>14.585562</td>\n",
       "      <td>0.338187</td>\n",
       "      <td>World</td>\n",
       "      <td>2010</td>\n",
       "      <td>extreme temperatures</td>\n",
       "    </tr>\n",
       "  </tbody>\n",
       "</table>\n",
       "<p>1208 rows × 12 columns</p>\n",
       "</div>"
      ],
      "text/plain": [
       "      Number of deaths  Number of people injured  Number of people affected  \\\n",
       "1                  0.0                       0.0                     4800.0   \n",
       "5                  3.7                       0.0                   476000.0   \n",
       "6                  0.0                       0.0                  1525000.0   \n",
       "13               205.0                       0.0                   963348.3   \n",
       "14             11900.0                       0.0                  1951200.0   \n",
       "...                ...                       ...                        ...   \n",
       "1535            5757.4                     614.1                   593856.9   \n",
       "1580             155.3                      60.0                        0.0   \n",
       "1581             533.5                      21.7                     3864.5   \n",
       "1582             932.3                     185.4                   711683.0   \n",
       "1584            7424.4                   19647.9                  1059106.1   \n",
       "\n",
       "      Number of people left homeless  Reconstruction costs  \\\n",
       "1                                0.0                   0.0   \n",
       "5                                0.0                   0.0   \n",
       "6                                0.0                   0.0   \n",
       "13                               0.0                   0.0   \n",
       "14                               0.0                   0.0   \n",
       "...                              ...                   ...   \n",
       "1535                         23824.7                   0.0   \n",
       "1580                             0.0                   0.0   \n",
       "1581                           134.0                   0.0   \n",
       "1582                          1600.0                   0.0   \n",
       "1584                         23824.7                   0.0   \n",
       "\n",
       "      Insured damages against  Total economic damages  \\\n",
       "1                         0.0                    20.0   \n",
       "5                         0.0                     5.0   \n",
       "6                         0.0                 14200.0   \n",
       "13                        0.0                 19570.0   \n",
       "14                        0.0                 40720.0   \n",
       "...                       ...                     ...   \n",
       "1535                  20000.0                289520.0   \n",
       "1580                      0.0                350000.0   \n",
       "1581                  63230.0                389460.0   \n",
       "1582                  72390.0               1050655.0   \n",
       "1584                 180000.0                707292.4   \n",
       "\n",
       "      Number of people affected per 100,000  Homelessness rate  \\\n",
       "1                                 44.060951           0.000000   \n",
       "5                               2061.379726           0.000000   \n",
       "6                               4212.833017           0.000000   \n",
       "13                               280.686846           0.000000   \n",
       "14                               452.699691           0.000000   \n",
       "...                                     ...                ...   \n",
       "1535                              21.688474           0.876167   \n",
       "1580                               0.000000           0.000000   \n",
       "1581                               0.078450           0.002751   \n",
       "1582                              12.602761           0.029097   \n",
       "1584                              14.585562           0.338187   \n",
       "\n",
       "                   Entity  Year              Disaster  \n",
       "1             Afghanistan  1960               drought  \n",
       "5             Afghanistan  2000               drought  \n",
       "6             Afghanistan  2010               drought  \n",
       "13                 Africa  1960               drought  \n",
       "14                 Africa  1970               drought  \n",
       "...                   ...   ...                   ...  \n",
       "1535  Upper middle income  2010  extreme temperatures  \n",
       "1580                World  1970  extreme temperatures  \n",
       "1581                World  1980  extreme temperatures  \n",
       "1582                World  1990  extreme temperatures  \n",
       "1584                World  2010  extreme temperatures  \n",
       "\n",
       "[1208 rows x 12 columns]"
      ]
     },
     "execution_count": 114,
     "metadata": {},
     "output_type": "execute_result"
    }
   ],
   "source": [
    "#Las líneas en donde sí se encuentra la variable a predecir\n",
    "data_final = data_final[data_final['Total economic damages']!=0]\n",
    "data_final"
   ]
  },
  {
   "cell_type": "markdown",
   "metadata": {
    "application/vnd.databricks.v1+cell": {
     "inputWidgets": {},
     "nuid": "88acd7dd-062e-4bdb-97a6-e661264bd6c4",
     "showTitle": false,
     "title": ""
    }
   },
   "source": [
    "### 7.1 Segregación de base\n",
    "\n",
    "Base de prueba y de entrenamiento"
   ]
  },
  {
   "cell_type": "code",
   "execution_count": 115,
   "metadata": {
    "application/vnd.databricks.v1+cell": {
     "inputWidgets": {},
     "nuid": "b91ed068-e51a-457c-8a3c-b37168b0cb42",
     "showTitle": false,
     "title": ""
    }
   },
   "outputs": [],
   "source": [
    "# Set variables.\n",
    "X = data_final.drop(['Total economic damages','Entity','Disaster'], axis=1)\n",
    "X = pd.get_dummies(X)\n",
    "y = data_final['Total economic damages']"
   ]
  },
  {
   "cell_type": "code",
   "execution_count": 116,
   "metadata": {
    "application/vnd.databricks.v1+cell": {
     "inputWidgets": {},
     "nuid": "00a70236-5fdb-40ce-a574-296aee770690",
     "showTitle": false,
     "title": ""
    }
   },
   "outputs": [],
   "source": [
    "# Spliting data: 80% training, 20% testing\n",
    "X_train, X_test, y_train, y_test = train_test_split(X, y, test_size=0.2, random_state=1)"
   ]
  },
  {
   "cell_type": "markdown",
   "metadata": {
    "application/vnd.databricks.v1+cell": {
     "inputWidgets": {},
     "nuid": "7dc86213-0ff0-4de2-9cf7-dbbb5921e39d",
     "showTitle": false,
     "title": ""
    }
   },
   "source": [
    "### 7.2 Regresión lineal sin variables categóricas"
   ]
  },
  {
   "cell_type": "markdown",
   "metadata": {
    "application/vnd.databricks.v1+cell": {
     "inputWidgets": {},
     "nuid": "c86b0257-05e6-49c3-9368-792b52abe072",
     "showTitle": false,
     "title": ""
    }
   },
   "source": [
    "**Modelo inicial**"
   ]
  },
  {
   "cell_type": "code",
   "execution_count": 117,
   "metadata": {
    "application/vnd.databricks.v1+cell": {
     "inputWidgets": {},
     "nuid": "f5963b97-67cc-47fe-901f-e18e476eff9d",
     "showTitle": false,
     "title": ""
    }
   },
   "outputs": [
    {
     "name": "stdout",
     "output_type": "stream",
     "text": [
      "                              OLS Regression Results                              \n",
      "==================================================================================\n",
      "Dep. Variable:     Total economic damages   R-squared:                       0.406\n",
      "Model:                                OLS   Adj. R-squared:                  0.400\n",
      "Method:                     Least Squares   F-statistic:                     72.50\n",
      "Date:                    Wed, 27 Apr 2022   Prob (F-statistic):          8.82e-102\n",
      "Time:                            19:14:51   Log-Likelihood:                -13248.\n",
      "No. Observations:                     966   AIC:                         2.652e+04\n",
      "Df Residuals:                         956   BIC:                         2.656e+04\n",
      "Df Model:                               9                                         \n",
      "Covariance Type:                nonrobust                                         \n",
      "=========================================================================================================\n",
      "                                            coef    std err          t      P>|t|      [0.025      0.975]\n",
      "---------------------------------------------------------------------------------------------------------\n",
      "const                                 -1.198e+06   8.84e+05     -1.355      0.176   -2.93e+06    5.38e+05\n",
      "Number of deaths                         30.6546      9.832      3.118      0.002      11.359      49.950\n",
      "Number of people injured                  3.6257      6.275      0.578      0.564      -8.689      15.941\n",
      "Number of people affected                 0.1940      0.027      7.216      0.000       0.141       0.247\n",
      "Number of people left homeless            1.4821      0.501      2.961      0.003       0.500       2.464\n",
      "Reconstruction costs                     -0.1610      0.530     -0.304      0.761      -1.201       0.879\n",
      "Insured damages against                   2.8075      0.132     21.320      0.000       2.549       3.066\n",
      "Number of people affected per 100,000   -32.6983     14.118     -2.316      0.021     -60.404      -4.993\n",
      "Homelessness rate                       199.6750    231.544      0.862      0.389    -254.717     654.067\n",
      "Year                                    632.0568    444.692      1.421      0.156    -240.628    1504.741\n",
      "==============================================================================\n",
      "Omnibus:                      910.105   Durbin-Watson:                   2.004\n",
      "Prob(Omnibus):                  0.000   Jarque-Bera (JB):            33570.470\n",
      "Skew:                           4.363   Prob(JB):                         0.00\n",
      "Kurtosis:                      30.530   Cond. No.                     4.06e+07\n",
      "==============================================================================\n",
      "\n",
      "Notes:\n",
      "[1] Standard Errors assume that the covariance matrix of the errors is correctly specified.\n",
      "[2] The condition number is large, 4.06e+07. This might indicate that there are\n",
      "strong multicollinearity or other numerical problems.\n"
     ]
    },
    {
     "name": "stderr",
     "output_type": "stream",
     "text": [
      "C:\\Users\\auxis\\anaconda3\\lib\\site-packages\\statsmodels\\tsa\\tsatools.py:142: FutureWarning: In a future version of pandas all arguments of concat except for the argument 'objs' will be keyword-only\n",
      "  x = pd.concat(x[::order], 1)\n"
     ]
    }
   ],
   "source": [
    "import statsmodels.api as sm\n",
    "import statsmodels.formula.api as smf\n",
    "# Creación del modelo utilizando matrices como en scikitlearn\n",
    "# ==============================================================================\n",
    "# A la matriz de predictores se le tiene que añadir una columna de 1s para el intercept del modelo\n",
    "X_train = sm.add_constant(X_train, prepend=True) #constante: intersección (b0)\n",
    "modelo_lineal = sm.OLS(endog=y_train, exog=X_train,) #OLS: Mínimos cuadrados ordinario\n",
    "modelo_lineal = modelo_lineal.fit()\n",
    "print(modelo_lineal.summary())\n",
    "#A mayor Z más significativa (en valor absoluto)"
   ]
  },
  {
   "cell_type": "markdown",
   "metadata": {
    "application/vnd.databricks.v1+cell": {
     "inputWidgets": {},
     "nuid": "9c76eb06-fad3-4c42-87a3-c0d06a4833fa",
     "showTitle": false,
     "title": ""
    }
   },
   "source": [
    "**Reducción del modelo**"
   ]
  },
  {
   "cell_type": "code",
   "execution_count": 118,
   "metadata": {
    "application/vnd.databricks.v1+cell": {
     "inputWidgets": {},
     "nuid": "bccf3e33-5f55-4c92-88b3-05df4dbce8c7",
     "showTitle": false,
     "title": ""
    }
   },
   "outputs": [],
   "source": [
    "# Variables reducidas\n",
    "X_train = X_train.drop(['Reconstruction costs','Number of people injured','Homelessness rate','Year'], axis=1)\n",
    "X_test = X_test.drop(['Reconstruction costs','Number of people injured','Homelessness rate','Year'], axis=1)"
   ]
  },
  {
   "cell_type": "code",
   "execution_count": 119,
   "metadata": {
    "application/vnd.databricks.v1+cell": {
     "inputWidgets": {},
     "nuid": "8c38fb48-8579-4f8a-b5f2-4670515b045c",
     "showTitle": false,
     "title": ""
    }
   },
   "outputs": [
    {
     "name": "stdout",
     "output_type": "stream",
     "text": [
      "                              OLS Regression Results                              \n",
      "==================================================================================\n",
      "Dep. Variable:     Total economic damages   R-squared:                       0.404\n",
      "Model:                                OLS   Adj. R-squared:                  0.401\n",
      "Method:                     Least Squares   F-statistic:                     130.0\n",
      "Date:                    Wed, 27 Apr 2022   Prob (F-statistic):          3.30e-105\n",
      "Time:                            19:14:59   Log-Likelihood:                -13249.\n",
      "No. Observations:                     966   AIC:                         2.651e+04\n",
      "Df Residuals:                         960   BIC:                         2.654e+04\n",
      "Df Model:                               5                                         \n",
      "Covariance Type:                nonrobust                                         \n",
      "=========================================================================================================\n",
      "                                            coef    std err          t      P>|t|      [0.025      0.975]\n",
      "---------------------------------------------------------------------------------------------------------\n",
      "const                                  5.983e+04   8076.087      7.408      0.000     4.4e+04    7.57e+04\n",
      "Number of deaths                         32.9125      8.467      3.887      0.000      16.297      49.528\n",
      "Number of people affected                 0.1922      0.026      7.263      0.000       0.140       0.244\n",
      "Number of people left homeless            1.6218      0.465      3.491      0.001       0.710       2.533\n",
      "Insured damages against                   2.8398      0.130     21.905      0.000       2.585       3.094\n",
      "Number of people affected per 100,000   -28.5748     13.461     -2.123      0.034     -54.992      -2.158\n",
      "==============================================================================\n",
      "Omnibus:                      910.517   Durbin-Watson:                   2.007\n",
      "Prob(Omnibus):                  0.000   Jarque-Bera (JB):            33720.641\n",
      "Skew:                           4.365   Prob(JB):                         0.00\n",
      "Kurtosis:                      30.597   Cond. No.                     3.71e+05\n",
      "==============================================================================\n",
      "\n",
      "Notes:\n",
      "[1] Standard Errors assume that the covariance matrix of the errors is correctly specified.\n",
      "[2] The condition number is large, 3.71e+05. This might indicate that there are\n",
      "strong multicollinearity or other numerical problems.\n"
     ]
    },
    {
     "name": "stderr",
     "output_type": "stream",
     "text": [
      "C:\\Users\\auxis\\anaconda3\\lib\\site-packages\\statsmodels\\tsa\\tsatools.py:142: FutureWarning: In a future version of pandas all arguments of concat except for the argument 'objs' will be keyword-only\n",
      "  x = pd.concat(x[::order], 1)\n"
     ]
    }
   ],
   "source": [
    "import statsmodels.api as sm\n",
    "import statsmodels.formula.api as smf\n",
    "# Creación del modelo utilizando matrices como en scikitlearn\n",
    "# ==============================================================================\n",
    "# A la matriz de predictores se le tiene que añadir una columna de 1s para el intercept del modelo\n",
    "X_train = sm.add_constant(X_train, prepend=True) #constante: intersección (b0)\n",
    "modelo_lineal = sm.OLS(endog=y_train, exog=X_train,) #OLS: Mínimos cuadrados ordinario\n",
    "modelo_lineal = modelo_lineal.fit()\n",
    "print(modelo_lineal.summary())\n",
    "#A mayor Z más significativa (en valor absoluto)"
   ]
  },
  {
   "cell_type": "markdown",
   "metadata": {
    "application/vnd.databricks.v1+cell": {
     "inputWidgets": {},
     "nuid": "6133a758-6e40-481d-91b3-bcda0e0bb724",
     "showTitle": false,
     "title": ""
    }
   },
   "source": [
    "**Modelo definitivo**"
   ]
  },
  {
   "cell_type": "code",
   "execution_count": 120,
   "metadata": {
    "application/vnd.databricks.v1+cell": {
     "inputWidgets": {},
     "nuid": "a36a46c9-f954-4de6-96b8-1117f0b2762d",
     "showTitle": false,
     "title": ""
    }
   },
   "outputs": [],
   "source": [
    "# Variables finales\n",
    "X_train = X_train.drop(['const'], axis=1)"
   ]
  },
  {
   "cell_type": "code",
   "execution_count": 121,
   "metadata": {
    "application/vnd.databricks.v1+cell": {
     "inputWidgets": {},
     "nuid": "4c132418-d9df-451e-b7f9-e1a27927e917",
     "showTitle": false,
     "title": ""
    }
   },
   "outputs": [
    {
     "name": "stdout",
     "output_type": "stream",
     "text": [
      "Intercept: 59829.27982470945\n",
      "Coeficiente: [ 32.91249961   0.19217764   1.62182341   2.83975976 -28.57484523]\n",
      "Precisión del modelo: 0.3804583894622604\n",
      "Regression Score: 0.3804583895\n"
     ]
    }
   ],
   "source": [
    "from sklearn import linear_model\n",
    "modelo_lineal2 = linear_model.LinearRegression()\n",
    "modelo_lineal2.fit(X_train, y_train)\n",
    "\n",
    "print(\"Intercept:\", modelo_lineal2.intercept_)\n",
    "print(\"Coeficiente:\", modelo_lineal2.coef_)\n",
    "print(\"Precisión del modelo:\", modelo_lineal2.score(X_test,y_test))\n",
    "\n",
    "\n",
    "# return accuracy score-->Return the coefficient of determination of the prediction.\n",
    "acc_lineal = round(modelo_lineal2.score(X_test, y_test), 10)\n",
    "print(\"Regression Score: {0}\".format(acc_lineal))\n"
   ]
  },
  {
   "cell_type": "markdown",
   "metadata": {
    "application/vnd.databricks.v1+cell": {
     "inputWidgets": {},
     "nuid": "f17228d8-7505-4e27-a018-0852ffbed69e",
     "showTitle": false,
     "title": ""
    }
   },
   "source": [
    "**Conclusión:** \n",
    "\n",
    "El modelo logra predecir correctamente en el 38% de los casos"
   ]
  },
  {
   "cell_type": "markdown",
   "metadata": {
    "application/vnd.databricks.v1+cell": {
     "inputWidgets": {},
     "nuid": "e854ed09-465f-4d92-a5ee-fec3061c9a3a",
     "showTitle": false,
     "title": ""
    }
   },
   "source": [
    "### 7.3 Modelo sin encoding"
   ]
  },
  {
   "cell_type": "code",
   "execution_count": 122,
   "metadata": {
    "application/vnd.databricks.v1+cell": {
     "inputWidgets": {},
     "nuid": "1ca9d6fc-05b8-49d5-9a34-f8a9efeef0d3",
     "showTitle": false,
     "title": ""
    }
   },
   "outputs": [],
   "source": [
    "#Ajuste de DataSet\n",
    "data_final2 = datos[datos['Total economic damages']!=0]\n",
    "\n",
    "# Set variables.\n",
    "X = data_final2.drop(['Total economic damages','Entity'], axis=1)\n",
    "X = pd.get_dummies(X)\n",
    "y = data_final2['Total economic damages']"
   ]
  },
  {
   "cell_type": "code",
   "execution_count": 123,
   "metadata": {
    "application/vnd.databricks.v1+cell": {
     "inputWidgets": {},
     "nuid": "d4d9812f-4543-4a3f-801e-719e1ba8c5f7",
     "showTitle": false,
     "title": ""
    }
   },
   "outputs": [],
   "source": [
    "#División de entrenamiento y prueba\n",
    "X_train, X_test, y_train, y_test = train_test_split(X, y, test_size=0.2, random_state=1)"
   ]
  },
  {
   "cell_type": "code",
   "execution_count": 124,
   "metadata": {
    "application/vnd.databricks.v1+cell": {
     "inputWidgets": {},
     "nuid": "ec5a5e47-136f-4fa6-a098-30977b129be3",
     "showTitle": false,
     "title": ""
    }
   },
   "outputs": [
    {
     "name": "stdout",
     "output_type": "stream",
     "text": [
      "                              OLS Regression Results                              \n",
      "==================================================================================\n",
      "Dep. Variable:     Total economic damages   R-squared:                       0.421\n",
      "Model:                                OLS   Adj. R-squared:                  0.411\n",
      "Method:                     Least Squares   F-statistic:                     43.10\n",
      "Date:                    Wed, 27 Apr 2022   Prob (F-statistic):          7.46e-101\n",
      "Time:                            19:15:15   Log-Likelihood:                -13235.\n",
      "No. Observations:                     966   AIC:                         2.650e+04\n",
      "Df Residuals:                         949   BIC:                         2.659e+04\n",
      "Df Model:                              16                                         \n",
      "Covariance Type:                nonrobust                                         \n",
      "=========================================================================================================\n",
      "                                            coef    std err          t      P>|t|      [0.025      0.975]\n",
      "---------------------------------------------------------------------------------------------------------\n",
      "const                                 -1.413e+06   7.91e+05     -1.787      0.074   -2.96e+06    1.38e+05\n",
      "Number of deaths                         28.4031      9.778      2.905      0.004       9.214      47.592\n",
      "Number of people injured                  0.0194      6.313      0.003      0.998     -12.371      12.409\n",
      "Number of people affected                 0.1859      0.027      6.850      0.000       0.133       0.239\n",
      "Number of people left homeless            1.7036      0.505      3.373      0.001       0.712       2.695\n",
      "Reconstruction costs                     -0.2945      0.527     -0.559      0.576      -1.329       0.740\n",
      "Insured damages against                   2.8039      0.133     21.135      0.000       2.544       3.064\n",
      "Number of people affected per 100,000   -31.9402     14.471     -2.207      0.028     -60.340      -3.540\n",
      "Homelessness rate                       238.2140    232.596      1.024      0.306    -218.248     694.676\n",
      "Year                                    827.1657    447.310      1.849      0.065     -50.665    1704.996\n",
      "Disaster_drought                      -1.396e+05   9.98e+04     -1.400      0.162   -3.35e+05    5.62e+04\n",
      "Disaster_earthquakes                  -1.201e+05   9.92e+04     -1.211      0.226   -3.15e+05    7.45e+04\n",
      "Disaster_extreme temperatures         -1.435e+05   1.04e+05     -1.376      0.169   -3.48e+05    6.11e+04\n",
      "Disaster_floods                       -1.962e+05   9.98e+04     -1.966      0.050   -3.92e+05    -321.676\n",
      "Disaster_landslides                   -2.221e+05   1.05e+05     -2.121      0.034   -4.28e+05   -1.66e+04\n",
      "Disaster_mass movements               -2.227e+05   1.13e+05     -1.967      0.049   -4.45e+05    -540.271\n",
      "Disaster_volcanic activity            -2.183e+05   1.02e+05     -2.134      0.033   -4.19e+05   -1.75e+04\n",
      "Disaster_wildfires                    -1.508e+05   1.01e+05     -1.489      0.137    -3.5e+05    4.79e+04\n",
      "==============================================================================\n",
      "Omnibus:                      890.115   Durbin-Watson:                   2.014\n",
      "Prob(Omnibus):                  0.000   Jarque-Bera (JB):            31382.012\n",
      "Skew:                           4.225   Prob(JB):                         0.00\n",
      "Kurtosis:                      29.613   Cond. No.                     1.64e+21\n",
      "==============================================================================\n",
      "\n",
      "Notes:\n",
      "[1] Standard Errors assume that the covariance matrix of the errors is correctly specified.\n",
      "[2] The smallest eigenvalue is 3.8e-29. This might indicate that there are\n",
      "strong multicollinearity problems or that the design matrix is singular.\n"
     ]
    },
    {
     "name": "stderr",
     "output_type": "stream",
     "text": [
      "C:\\Users\\auxis\\anaconda3\\lib\\site-packages\\statsmodels\\tsa\\tsatools.py:142: FutureWarning: In a future version of pandas all arguments of concat except for the argument 'objs' will be keyword-only\n",
      "  x = pd.concat(x[::order], 1)\n"
     ]
    }
   ],
   "source": [
    "#Aplicación del modelo\n",
    "import statsmodels.api as sm\n",
    "import statsmodels.formula.api as smf\n",
    "# Creación del modelo utilizando matrices como en scikitlearn\n",
    "# ==============================================================================\n",
    "# A la matriz de predictores se le tiene que añadir una columna de 1s para el intercept del modelo\n",
    "X_train = sm.add_constant(X_train, prepend=True) #constante: intersección (b0)\n",
    "modelo_lineal = sm.OLS(endog=y_train, exog=X_train,) #OLS: Mínimos cuadrados ordinario\n",
    "modelo_lineal = modelo_lineal.fit()\n",
    "print(modelo_lineal.summary())\n",
    "#A mayor Z más significativa (en valor absoluto)"
   ]
  },
  {
   "cell_type": "markdown",
   "metadata": {
    "application/vnd.databricks.v1+cell": {
     "inputWidgets": {},
     "nuid": "3cfdb7af-dee2-4d07-b491-10445d4950aa",
     "showTitle": false,
     "title": ""
    }
   },
   "source": [
    "**Conclusión:**\n",
    "\n",
    "El modelo considerando sin tranformar las variables categóricas no muestra en todos los desastres que tenga alguna influencia sobre la variable respuesta 'Total economic damages'"
   ]
  },
  {
   "cell_type": "markdown",
   "metadata": {
    "application/vnd.databricks.v1+cell": {
     "inputWidgets": {},
     "nuid": "b3158d86-9014-4732-b894-26eb27c4bf2f",
     "showTitle": false,
     "title": ""
    }
   },
   "source": [
    "### 7.4 Modelo con encoding"
   ]
  },
  {
   "cell_type": "code",
   "execution_count": 125,
   "metadata": {
    "application/vnd.databricks.v1+cell": {
     "inputWidgets": {},
     "nuid": "5cd9eb8a-3c06-4639-8c62-3eda1eeec7f0",
     "showTitle": false,
     "title": ""
    }
   },
   "outputs": [
    {
     "name": "stdout",
     "output_type": "stream",
     "text": [
      "Disaster\n",
      "drought                 0.0\n",
      "earthquakes             1.0\n",
      "extreme temperatures    2.0\n",
      "floods                  3.0\n",
      "landslides              4.0\n",
      "mass movements          5.0\n",
      "volcanic activity       6.0\n",
      "wildfires               7.0\n",
      "Name: Disaster_encoded, dtype: float64\n"
     ]
    }
   ],
   "source": [
    "#Aplicación de Encoding para codificar Desastre\n",
    "from numpy import asarray\n",
    "from sklearn.preprocessing import OrdinalEncoder\n",
    "from sklearn.preprocessing import LabelEncoder\n",
    "\n",
    "#Ajuste de DataSet\n",
    "data_final2 = datos[datos['Total economic damages']!=0]\n",
    "\n",
    "#Desastre\n",
    "data_final2['Disaster_encoded'] = LabelEncoder().fit_transform(data_final2['Disaster'])\n",
    "#tabla de codificación\n",
    "disaster_codification = data_final2.groupby(\"Disaster\")['Disaster_encoded'].mean()\n",
    "print(disaster_codification)"
   ]
  },
  {
   "cell_type": "code",
   "execution_count": 126,
   "metadata": {
    "application/vnd.databricks.v1+cell": {
     "inputWidgets": {},
     "nuid": "01d4763b-ed7c-4f1a-95cd-9d582840bc4b",
     "showTitle": false,
     "title": ""
    }
   },
   "outputs": [],
   "source": [
    "# Set variables.\n",
    "X = data_final2.drop(['Total economic damages','Entity','Disaster'], axis=1)\n",
    "X = pd.get_dummies(X)\n",
    "y = data_final2['Total economic damages']\n",
    "\n",
    "#División de entrenamiento y prueba\n",
    "X_train, X_test, y_train, y_test = train_test_split(X, y, test_size=0.2, random_state=1)"
   ]
  },
  {
   "cell_type": "code",
   "execution_count": null,
   "metadata": {
    "application/vnd.databricks.v1+cell": {
     "inputWidgets": {},
     "nuid": "50285320-7d0f-42cc-9e60-66351739c427",
     "showTitle": false,
     "title": ""
    }
   },
   "outputs": [
    {
     "data": {
      "text/plain": [
       "                              OLS Regression Results                              \n",
       "==================================================================================\n",
       "Dep. Variable:     Total economic damages   R-squared:                       0.410\n",
       "Model:                                OLS   Adj. R-squared:                  0.404\n",
       "Method:                     Least Squares   F-statistic:                     66.44\n",
       "Date:                    Fri, 18 Feb 2022   Prob (F-statistic):          1.93e-102\n",
       "Time:                            11:35:54   Log-Likelihood:                -13244.\n",
       "No. Observations:                     966   AIC:                         2.651e+04\n",
       "Df Residuals:                         955   BIC:                         2.656e+04\n",
       "Df Model:                              10                                         \n",
       "Covariance Type:                nonrobust                                         \n",
       "=========================================================================================================\n",
       "                                            coef    std err          t      P>|t|      [0.025      0.975]\n",
       "---------------------------------------------------------------------------------------------------------\n",
       "const                                 -1.304e+06   8.82e+05     -1.478      0.140   -3.03e+06    4.28e+05\n",
       "Number of deaths                         29.7540      9.805      3.035      0.002      10.513      48.995\n",
       "Number of people injured                  2.5797      6.266      0.412      0.681      -9.717      14.876\n",
       "Number of people affected                 0.1867      0.027      6.932      0.000       0.134       0.240\n",
       "Number of people left homeless            1.5309      0.499      3.067      0.002       0.551       2.510\n",
       "Reconstruction costs                     -0.1975      0.528     -0.374      0.709      -1.234       0.839\n",
       "Insured damages against                   2.8441      0.132     21.559      0.000       2.585       3.103\n",
       "Number of people affected per 100,000   -37.7058     14.188     -2.658      0.008     -65.550      -9.862\n",
       "Homelessness rate                       205.2618    230.770      0.889      0.374    -247.613     658.136\n",
       "Year                                    700.4441    443.891      1.578      0.115    -170.671    1571.559\n",
       "Disaster_encoded                      -1.003e+04   3663.246     -2.738      0.006   -1.72e+04   -2841.488\n",
       "==============================================================================\n",
       "Omnibus:                      905.752   Durbin-Watson:                   2.008\n",
       "Prob(Omnibus):                  0.000   Jarque-Bera (JB):            33090.742\n",
       "Skew:                           4.333   Prob(JB):                         0.00\n",
       "Kurtosis:                      30.332   Cond. No.                     4.06e+07\n",
       "==============================================================================\n",
       "\n",
       "Notes:\n",
       "[1] Standard Errors assume that the covariance matrix of the errors is correctly specified.\n",
       "[2] The condition number is large, 4.06e+07. This might indicate that there are\n",
       "strong multicollinearity or other numerical problems.\n"
      ]
     },
     "metadata": {
      "application/vnd.databricks.v1+output": {
       "addedWidgets": {},
       "arguments": {},
       "data": "                              OLS Regression Results                              \n==================================================================================\nDep. Variable:     Total economic damages   R-squared:                       0.410\nModel:                                OLS   Adj. R-squared:                  0.404\nMethod:                     Least Squares   F-statistic:                     66.44\nDate:                    Fri, 18 Feb 2022   Prob (F-statistic):          1.93e-102\nTime:                            11:35:54   Log-Likelihood:                -13244.\nNo. Observations:                     966   AIC:                         2.651e+04\nDf Residuals:                         955   BIC:                         2.656e+04\nDf Model:                              10                                         \nCovariance Type:                nonrobust                                         \n=========================================================================================================\n                                            coef    std err          t      P>|t|      [0.025      0.975]\n---------------------------------------------------------------------------------------------------------\nconst                                 -1.304e+06   8.82e+05     -1.478      0.140   -3.03e+06    4.28e+05\nNumber of deaths                         29.7540      9.805      3.035      0.002      10.513      48.995\nNumber of people injured                  2.5797      6.266      0.412      0.681      -9.717      14.876\nNumber of people affected                 0.1867      0.027      6.932      0.000       0.134       0.240\nNumber of people left homeless            1.5309      0.499      3.067      0.002       0.551       2.510\nReconstruction costs                     -0.1975      0.528     -0.374      0.709      -1.234       0.839\nInsured damages against                   2.8441      0.132     21.559      0.000       2.585       3.103\nNumber of people affected per 100,000   -37.7058     14.188     -2.658      0.008     -65.550      -9.862\nHomelessness rate                       205.2618    230.770      0.889      0.374    -247.613     658.136\nYear                                    700.4441    443.891      1.578      0.115    -170.671    1571.559\nDisaster_encoded                      -1.003e+04   3663.246     -2.738      0.006   -1.72e+04   -2841.488\n==============================================================================\nOmnibus:                      905.752   Durbin-Watson:                   2.008\nProb(Omnibus):                  0.000   Jarque-Bera (JB):            33090.742\nSkew:                           4.333   Prob(JB):                         0.00\nKurtosis:                      30.332   Cond. No.                     4.06e+07\n==============================================================================\n\nNotes:\n[1] Standard Errors assume that the covariance matrix of the errors is correctly specified.\n[2] The condition number is large, 4.06e+07. This might indicate that there are\nstrong multicollinearity or other numerical problems.\n",
       "datasetInfos": [],
       "metadata": {},
       "removedWidgets": [],
       "type": "ansi"
      }
     },
     "output_type": "display_data"
    }
   ],
   "source": [
    "#Aplicación del modelo\n",
    "import statsmodels.api as sm\n",
    "import statsmodels.formula.api as smf\n",
    "# Creación del modelo utilizando matrices como en scikitlearn\n",
    "# ==============================================================================\n",
    "# A la matriz de predictores se le tiene que añadir una columna de 1s para el intercept del modelo\n",
    "X_train = sm.add_constant(X_train, prepend=True) #constante: intersección (b0)\n",
    "modelo_lineal = sm.OLS(endog=y_train, exog=X_train,) #OLS: Mínimos cuadrados ordinario\n",
    "modelo_lineal = modelo_lineal.fit()\n",
    "print(modelo_lineal.summary())\n",
    "#A mayor Z más significativa (en valor absoluto)"
   ]
  },
  {
   "cell_type": "markdown",
   "metadata": {
    "application/vnd.databricks.v1+cell": {
     "inputWidgets": {},
     "nuid": "6ed34d8b-7222-49c4-9feb-eca68e456352",
     "showTitle": false,
     "title": ""
    }
   },
   "source": [
    "**Conclusión:**\n",
    "\n",
    "El modelo considerando con la transformación de datos categórico muestra la variable Disaster_encoded con un impacto significativo sobre la variable respuesta 'Total economic damages'"
   ]
  }
 ],
 "metadata": {
  "application/vnd.databricks.v1+notebook": {
   "dashboards": [
    {
     "elements": [],
     "globalVars": {},
     "guid": "64a067ad-0da0-476b-bba2-55f5c0f3a205",
     "layoutOption": {
      "grid": true,
      "stack": true
     },
     "nuid": "be1fccaf-c18c-4b7c-81a3-f99abf6c0b92",
     "origId": 340370522327680,
     "title": "Untitled",
     "version": "DashboardViewV1",
     "width": 1024
    }
   ],
   "language": "python",
   "notebookMetadata": {
    "pythonIndentUnit": 4
   },
   "notebookName": "Proyecto Limpieza UNAV_Ma.Auxiliadora Solano Ramírez",
   "notebookOrigID": 340370522327608,
   "widgets": {}
  },
  "kernelspec": {
   "display_name": "Python 3",
   "language": "python",
   "name": "python3"
  },
  "language_info": {
   "codemirror_mode": {
    "name": "ipython",
    "version": 3
   },
   "file_extension": ".py",
   "mimetype": "text/x-python",
   "name": "python",
   "nbconvert_exporter": "python",
   "pygments_lexer": "ipython3",
   "version": "3.8.8"
  }
 },
 "nbformat": 4,
 "nbformat_minor": 4
}
