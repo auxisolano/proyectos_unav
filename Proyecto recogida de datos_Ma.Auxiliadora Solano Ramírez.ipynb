{
 "cells": [
  {
   "cell_type": "markdown",
   "id": "aa13faaa-b715-4f7b-86af-ba1c66d43f80",
   "metadata": {},
   "source": [
    "# Máster en Big Data Science - UNAV \n",
    "-----------------------------------------------------------------------------------------------------------------------------------------\n",
    "### Técnicas de Recogida de datos - Proyecto - Deep wikipedia"
   ]
  },
  {
   "cell_type": "markdown",
   "id": "16110a78-4c14-4913-ae3c-56b507e82cc4",
   "metadata": {},
   "source": [
    "## Aspectos generales:\n",
    "- Objetivo: Mapa de Wikipedia: recuperar la página raíz y los primeros n enlaces (en azul) del primer párrafo del artículo.\n",
    "- Página web: https://en.wikipedia.org/wiki/ y https://es.wikipedia.org/wiki/Main_Page\n",
    "- Métodos utilizados: BeutifulSoup\n",
    "- Resultado: Visualización en red"
   ]
  },
  {
   "cell_type": "markdown",
   "id": "d39cc0e9-5fce-4e70-a4f2-ca85390c1c65",
   "metadata": {},
   "source": [
    "## Retos"
   ]
  },
  {
   "cell_type": "markdown",
   "id": "270bfcee-6d2e-4c77-94f9-a40b3a79a54a",
   "metadata": {},
   "source": [
    "Especificación de los aspectos que significaron mayor reto para el web scraping:\n",
    " - **API wikipedia:** Se investiga acerca del API propia de wikipedia, en donde se explora la extracción de los links asociados a otras páginas de wikipedia sin éxito. Se revisó la documentación en: https://www.mediawiki.org/wiki/API:Main_page/es   y   https://pypi.org/project/Wikipedia-API/\n",
    " - **Gráfico de red:** Se investiga la librería pyvis para lograr la visualización de red: https://pyvis.readthedocs.io/en/latest/. Esto solo permite una única visualización sin ser interactivo como en https://wikipedia.luk.ke/\n",
    " - **Distinto idioma:** Se realiza el mismo ejercicio para el idioma español con la dirección https://es.wikipedia.org/wiki/ y se identifica que la estructura de los artículos varía, por lo que el primer párrafo de contenido para el caso del idioma inglés es parrafo[1], mientras que para el idioma español es parrafo[0]."
   ]
  },
  {
   "cell_type": "markdown",
   "id": "776c0e7e-953b-4cd8-b5ec-9c03cfe2e2a9",
   "metadata": {},
   "source": [
    "## 1. Importar librerías requeridas"
   ]
  },
  {
   "cell_type": "code",
   "execution_count": 1,
   "id": "a0d10eb6-caca-4dda-98dc-69e846a4ab26",
   "metadata": {},
   "outputs": [
    {
     "name": "stdout",
     "output_type": "stream",
     "text": [
      "Requirement already satisfied: pyvis in c:\\users\\auxis\\anaconda3\\lib\\site-packages (0.1.9)\n",
      "Requirement already satisfied: networkx>=1.11 in c:\\users\\auxis\\anaconda3\\lib\\site-packages (from pyvis) (2.5)\n",
      "Requirement already satisfied: jinja2>=2.9.6 in c:\\users\\auxis\\anaconda3\\lib\\site-packages (from pyvis) (2.11.3)\n",
      "Requirement already satisfied: ipython>=5.3.0 in c:\\users\\auxis\\anaconda3\\lib\\site-packages (from pyvis) (7.22.0)\n",
      "Requirement already satisfied: jsonpickle>=1.4.1 in c:\\users\\auxis\\anaconda3\\lib\\site-packages (from pyvis) (2.0.0)\n",
      "Requirement already satisfied: pickleshare in c:\\users\\auxis\\anaconda3\\lib\\site-packages (from ipython>=5.3.0->pyvis) (0.7.5)\n",
      "Requirement already satisfied: decorator in c:\\users\\auxis\\anaconda3\\lib\\site-packages (from ipython>=5.3.0->pyvis) (5.0.6)\n",
      "Requirement already satisfied: pygments in c:\\users\\auxis\\anaconda3\\lib\\site-packages (from ipython>=5.3.0->pyvis) (2.8.1)\n",
      "Requirement already satisfied: backcall in c:\\users\\auxis\\anaconda3\\lib\\site-packages (from ipython>=5.3.0->pyvis) (0.2.0)\n",
      "Requirement already satisfied: prompt-toolkit!=3.0.0,!=3.0.1,<3.1.0,>=2.0.0 in c:\\users\\auxis\\anaconda3\\lib\\site-packages (from ipython>=5.3.0->pyvis) (3.0.17)\n",
      "Requirement already satisfied: jedi>=0.16 in c:\\users\\auxis\\anaconda3\\lib\\site-packages (from ipython>=5.3.0->pyvis) (0.17.2)\n",
      "Requirement already satisfied: setuptools>=18.5 in c:\\users\\auxis\\anaconda3\\lib\\site-packages (from ipython>=5.3.0->pyvis) (52.0.0.post20210125)\n",
      "Requirement already satisfied: colorama in c:\\users\\auxis\\anaconda3\\lib\\site-packages (from ipython>=5.3.0->pyvis) (0.4.4)\n",
      "Requirement already satisfied: traitlets>=4.2 in c:\\users\\auxis\\anaconda3\\lib\\site-packages (from ipython>=5.3.0->pyvis) (5.0.5)\n",
      "Requirement already satisfied: parso<0.8.0,>=0.7.0 in c:\\users\\auxis\\anaconda3\\lib\\site-packages (from jedi>=0.16->ipython>=5.3.0->pyvis) (0.7.0)\n",
      "Requirement already satisfied: MarkupSafe>=0.23 in c:\\users\\auxis\\anaconda3\\lib\\site-packages (from jinja2>=2.9.6->pyvis) (2.0.1)\n",
      "Requirement already satisfied: wcwidth in c:\\users\\auxis\\anaconda3\\lib\\site-packages (from prompt-toolkit!=3.0.0,!=3.0.1,<3.1.0,>=2.0.0->ipython>=5.3.0->pyvis) (0.2.5)\n",
      "Requirement already satisfied: ipython-genutils in c:\\users\\auxis\\anaconda3\\lib\\site-packages (from traitlets>=4.2->ipython>=5.3.0->pyvis) (0.2.0)\n",
      "Note: you may need to restart the kernel to use updated packages.\n"
     ]
    }
   ],
   "source": [
    "pip install pyvis"
   ]
  },
  {
   "cell_type": "code",
   "execution_count": 2,
   "id": "639a2a5b-4969-4ca1-b274-a29b3856afb9",
   "metadata": {},
   "outputs": [],
   "source": [
    "#Librerías relacionadas con scraping\n",
    "#Librería acceder a las páginas web con Python\n",
    "import requests\n",
    "#Librería para leer el HTML de la página web\n",
    "from bs4 import BeautifulSoup\n",
    "\n",
    "#Librerías relacionadas con la visualización\n",
    "from pyvis.network import Network"
   ]
  },
  {
   "cell_type": "markdown",
   "id": "9ab7feae-302f-46bb-9c9d-ebc4145d0c57",
   "metadata": {},
   "source": [
    "## Búsqueda en inglés"
   ]
  },
  {
   "cell_type": "markdown",
   "id": "2c6ce355-5df5-4863-af35-040e9002446b",
   "metadata": {},
   "source": [
    "### 2. Valor de la búsqueda en wikipedia en inglés"
   ]
  },
  {
   "cell_type": "code",
   "execution_count": 3,
   "id": "1d64f1a7-ff06-4a75-b87a-656a83d110bb",
   "metadata": {},
   "outputs": [
    {
     "name": "stdin",
     "output_type": "stream",
     "text": [
      "Search Wikipedia:  cat\n"
     ]
    }
   ],
   "source": [
    "busqueda = input(\"Search Wikipedia: \")"
   ]
  },
  {
   "cell_type": "markdown",
   "id": "5fa6749b-f9ad-438f-a7db-250c3edff7da",
   "metadata": {},
   "source": [
    "### 3. URL resultante para realizar la búsqueda"
   ]
  },
  {
   "cell_type": "code",
   "execution_count": 4,
   "id": "f2ad9821-d607-4551-a593-a8d9cae6c080",
   "metadata": {},
   "outputs": [
    {
     "name": "stdout",
     "output_type": "stream",
     "text": [
      "https://en.wikipedia.org/wiki/cat\n"
     ]
    }
   ],
   "source": [
    "#Ajuste en caso de contener varias palabras\n",
    "busqueda = busqueda.replace(\" \",\"_\")\n",
    "#print(busqueda)\n",
    "\n",
    "#url para scrapear\n",
    "url = \"https://en.wikipedia.org/wiki/\"+str(busqueda)\n",
    "print(url)"
   ]
  },
  {
   "cell_type": "markdown",
   "id": "7b5525fd-e994-4cec-848b-95b83f4d479b",
   "metadata": {},
   "source": [
    "### 4. Web scraping de la página de wikipedia resultante"
   ]
  },
  {
   "cell_type": "code",
   "execution_count": 5,
   "id": "74db3b7f-f0eb-4082-b059-ba34845a2c27",
   "metadata": {},
   "outputs": [
    {
     "name": "stdout",
     "output_type": "stream",
     "text": [
      "200\n",
      "76\n",
      "<p>The <b>cat</b> (<i>Felis catus</i>) is a <a href=\"/wiki/Domestication\" title=\"Domestication\">domestic</a> <a href=\"/wiki/Species\" title=\"Species\">species</a> of small <a class=\"mw-redirect\" href=\"/wiki/Carnivorous\" title=\"Carnivorous\">carnivorous</a> <a href=\"/wiki/Mammal\" title=\"Mammal\">mammal</a>.<sup class=\"reference\" id=\"cite_ref-Linnaeus1758_1-1\"><a href=\"#cite_note-Linnaeus1758-1\">[1]</a></sup><sup class=\"reference\" id=\"cite_ref-MSW3fc_2-1\"><a href=\"#cite_note-MSW3fc-2\">[2]</a></sup> It is the only domesticated species in the family <a href=\"/wiki/Felidae\" title=\"Felidae\">Felidae</a> and is often referred to as the <b>domestic cat</b> to distinguish it from the wild members of the family.<sup class=\"reference\" id=\"cite_ref-Clutton-Brock1999_4-0\"><a href=\"#cite_note-Clutton-Brock1999-4\">[4]</a></sup> A cat can either be a <b>house cat</b>, a <b><a href=\"/wiki/Farm_cat\" title=\"Farm cat\">farm cat</a></b> or a <b><a href=\"/wiki/Feral_cat\" title=\"Feral cat\">feral cat</a></b>; the latter ranges freely and avoids human contact.<sup class=\"reference\" id=\"cite_ref-Liberg_al2014_5-0\"><a href=\"#cite_note-Liberg_al2014-5\">[5]</a></sup> Domestic cats are valued by humans for companionship and their ability to kill <a href=\"/wiki/Rodent\" title=\"Rodent\">rodents</a>. About 60 <a class=\"mw-redirect\" href=\"/wiki/Cat_breeds\" title=\"Cat breeds\">cat breeds</a> are recognized by various <a class=\"mw-redirect\" href=\"/wiki/Cat_registries\" title=\"Cat registries\">cat registries</a>.<sup class=\"reference\" id=\"cite_ref-Driscoll_al2009_6-0\"><a href=\"#cite_note-Driscoll_al2009-6\">[6]</a></sup>\n",
      "</p>\n"
     ]
    }
   ],
   "source": [
    "#requests.get('página web') - de dónde se obtendrá la información\n",
    "r = requests.get(url)\n",
    "print(r.status_code)\n",
    "\n",
    "#Contenido de todo el HTML\n",
    "soup = BeautifulSoup(r.text,'html.parser')\n",
    "#print(soup)\n",
    "\n",
    "#Identificación de párrafos\n",
    "parrafos = soup.find_all('p')\n",
    "print(len(parrafos))\n",
    "#Selección del primer párrafo de contenido\n",
    "parrafo1 = parrafos[1]\n",
    "print(parrafo1)"
   ]
  },
  {
   "cell_type": "markdown",
   "id": "61893c99-b9a7-45dd-9e28-4ade7eb73f2c",
   "metadata": {},
   "source": [
    "### 5. Identificación de links asociados al primer párrafo de contenido el artículo"
   ]
  },
  {
   "cell_type": "markdown",
   "id": "8d5a0cc7-ca32-41f4-ac5c-383f07c448a6",
   "metadata": {},
   "source": [
    "#### 5.1 Extracción de todos los links"
   ]
  },
  {
   "cell_type": "code",
   "execution_count": 6,
   "id": "5feadc97-a8cc-4074-b9b9-a06403760929",
   "metadata": {},
   "outputs": [
    {
     "name": "stdout",
     "output_type": "stream",
     "text": [
      "15\n"
     ]
    }
   ],
   "source": [
    "#Identificación de todos los links dentro del HTML del primer párrafo\n",
    "links = parrafo1.find_all('a')\n",
    "print(len(links))"
   ]
  },
  {
   "cell_type": "markdown",
   "id": "caa78e6c-1a53-42ee-a411-68cd42eaf1bb",
   "metadata": {},
   "source": [
    "#### 5.2 Links de referencia que son citas bibliográficas"
   ]
  },
  {
   "cell_type": "code",
   "execution_count": 7,
   "id": "9afcec7c-69fa-47ef-be84-6df48b5ba888",
   "metadata": {},
   "outputs": [
    {
     "name": "stdout",
     "output_type": "stream",
     "text": [
      "5\n",
      "['#cite_note-Linnaeus1758-1', '#cite_note-MSW3fc-2', '#cite_note-Clutton-Brock1999-4', '#cite_note-Liberg_al2014-5', '#cite_note-Driscoll_al2009-6']\n"
     ]
    }
   ],
   "source": [
    "#Identificación de referencias biliográficas en el párrafo\n",
    "referencias = parrafo1.find_all('sup', attrs={'class':'reference'})\n",
    "print(len(referencias))\n",
    "bibliografia = []\n",
    "\n",
    "for i in range (len(referencias)):\n",
    "    referencia = referencias[i].find('a')\n",
    "    link_ref = referencia.get('href')\n",
    "    bibliografia.append(link_ref)\n",
    "\n",
    "print(bibliografia)"
   ]
  },
  {
   "cell_type": "markdown",
   "id": "c8e82dca-1fe3-4b8f-8ab0-266518ac9726",
   "metadata": {},
   "source": [
    "#### 5.3 Enlaces hacia otras páginas de wikipedia"
   ]
  },
  {
   "cell_type": "code",
   "execution_count": 8,
   "id": "a832f79f-01be-4899-958a-8dd41391ae04",
   "metadata": {},
   "outputs": [
    {
     "name": "stdout",
     "output_type": "stream",
     "text": [
      "['Domestication', 'Species', 'Carnivorous', 'Mammal', 'Felidae', 'Farm cat', 'Feral cat', 'Rodent', 'Cat breeds', 'Cat registries']\n"
     ]
    }
   ],
   "source": [
    "#Todos los liks y cuáles están asociados a bibliografía o a otros artículos de wikipedia que se encuentran en párrafo 1\n",
    "titulos_ref = []\n",
    "\n",
    "#Revisión de cada link\n",
    "for i in range (len(links)):\n",
    "    link = links[i].get('href')\n",
    "    \n",
    "    #En caso de ser link de referencia bibliográfica\n",
    "    if link in bibliografia:\n",
    "        #print('es una referencia bibliográfica')\n",
    "        pass\n",
    "    #En caso de ser link asociado a otro artículo de wikipedia\n",
    "    else:\n",
    "        titulo = links[i].get('title')\n",
    "        #Almacenar el título del siguiente artículo\n",
    "        titulos_ref.append(titulo)\n",
    "print(titulos_ref)"
   ]
  },
  {
   "cell_type": "markdown",
   "id": "aa429e20-314e-4591-899c-014f16b8813f",
   "metadata": {},
   "source": [
    "### 6. Visualización gráfica del resultado"
   ]
  },
  {
   "cell_type": "code",
   "execution_count": 9,
   "id": "c8b46171-67a6-4c04-ade3-b6dc5b9d4c1e",
   "metadata": {},
   "outputs": [
    {
     "data": {
      "text/html": [
       "\n",
       "        <iframe\n",
       "            width=\"500px\"\n",
       "            height=\"500px\"\n",
       "            src=\"myred.html\"\n",
       "            frameborder=\"0\"\n",
       "            allowfullscreen\n",
       "        ></iframe>\n",
       "        "
      ],
      "text/plain": [
       "<IPython.lib.display.IFrame at 0x1ffc8f59af0>"
      ]
     },
     "execution_count": 9,
     "metadata": {},
     "output_type": "execute_result"
    }
   ],
   "source": [
    "#Definición de la red para ser visualizada en este notebook\n",
    "net = Network(notebook=True)\n",
    "#Agregar como nodo 1 la búsqueda inicial\n",
    "net.add_node(1, label=busqueda) \n",
    "#Agregar los otros nodos relacionados a otros links de wikipedia\n",
    "net.add_nodes(titulos_ref)\n",
    "\n",
    "#Enlazar los artículos al artículo principal\n",
    "for i in range (len(titulos_ref)):\n",
    "    try:\n",
    "        net.add_edge(1,titulos_ref[i])\n",
    "    except:\n",
    "        net.add_edge(1,int(titulos_ref[i]))\n",
    "\n",
    "net.show(\"myred.html\")"
   ]
  },
  {
   "cell_type": "markdown",
   "id": "74d77fbe-24db-497b-95f8-b485c82ca668",
   "metadata": {},
   "source": [
    "## Búsqueda en español"
   ]
  },
  {
   "cell_type": "markdown",
   "id": "149d6d8d-7895-4020-9955-e128c9dc48ff",
   "metadata": {},
   "source": [
    "### 2. Valor de la búsqueda en wikipedia"
   ]
  },
  {
   "cell_type": "code",
   "execution_count": 10,
   "id": "fdd8ff45-1e72-45f4-93dd-bcb7d16d9cd3",
   "metadata": {},
   "outputs": [
    {
     "name": "stdin",
     "output_type": "stream",
     "text": [
      "Búsqueda en Wikipedia:  gato\n"
     ]
    }
   ],
   "source": [
    "busqueda = input(\"Búsqueda en Wikipedia: \")"
   ]
  },
  {
   "cell_type": "markdown",
   "id": "8bec67a3-f63a-4b76-a39d-accb4bea0372",
   "metadata": {},
   "source": [
    "### 3. URL resultante para realizar la búsqueda"
   ]
  },
  {
   "cell_type": "code",
   "execution_count": 11,
   "id": "d04bd1fb-a022-429b-b003-c47cf7641253",
   "metadata": {},
   "outputs": [
    {
     "name": "stdout",
     "output_type": "stream",
     "text": [
      "https://es.wikipedia.org/wiki/gato\n"
     ]
    }
   ],
   "source": [
    "#Ajuste en caso de contener varias palabras\n",
    "busqueda = busqueda.replace(\" \",\"_\")\n",
    "#print(busqueda)\n",
    "\n",
    "#url para scrapear\n",
    "url = \"https://es.wikipedia.org/wiki/\"+str(busqueda)\n",
    "print(url)"
   ]
  },
  {
   "cell_type": "markdown",
   "id": "f8a36f05-a285-4a32-8454-59d1dc68aa15",
   "metadata": {},
   "source": [
    "### 4. Web scraping de la página de wikipedia resultante"
   ]
  },
  {
   "cell_type": "code",
   "execution_count": 12,
   "id": "f2c39313-fdfc-4640-b097-cd26cdf0e3ed",
   "metadata": {},
   "outputs": [
    {
     "name": "stdout",
     "output_type": "stream",
     "text": [
      "200\n",
      "125\n",
      "<p>El <b>gato doméstico</b><sup class=\"reference separada\" id=\"cite_ref-MSW3fc_1-0\"><a href=\"#cite_note-MSW3fc-1\"><span class=\"corchete-llamada\">[</span>1<span class=\"corchete-llamada\">]</span></a></sup>​<sup class=\"reference separada\" id=\"cite_ref-ITIS_F.c._2-0\"><a href=\"#cite_note-ITIS_F.c.-2\"><span class=\"corchete-llamada\">[</span>2<span class=\"corchete-llamada\">]</span></a></sup>​ (<i><b>Felis silvestris catus</b></i>), llamado más comúnmente <b>gato</b>, y de forma coloquial <b>minino</b>,<sup class=\"reference separada\" id=\"cite_ref-3\"><a href=\"#cite_note-3\"><span class=\"corchete-llamada\">[</span>3<span class=\"corchete-llamada\">]</span></a></sup>​ <b>michino</b>,<sup class=\"reference separada\" id=\"cite_ref-4\"><a href=\"#cite_note-4\"><span class=\"corchete-llamada\">[</span>4<span class=\"corchete-llamada\">]</span></a></sup>​ <b>michi</b>,<sup class=\"reference separada\" id=\"cite_ref-5\"><a href=\"#cite_note-5\"><span class=\"corchete-llamada\">[</span>5<span class=\"corchete-llamada\">]</span></a></sup>​ <b>micho</b>,<sup class=\"reference separada\" id=\"cite_ref-6\"><a href=\"#cite_note-6\"><span class=\"corchete-llamada\">[</span>6<span class=\"corchete-llamada\">]</span></a></sup>​ <b>mizo</b>,<sup class=\"reference separada\" id=\"cite_ref-7\"><a href=\"#cite_note-7\"><span class=\"corchete-llamada\">[</span>7<span class=\"corchete-llamada\">]</span></a></sup>​ <b>miz</b>,<sup class=\"reference separada\" id=\"cite_ref-8\"><a href=\"#cite_note-8\"><span class=\"corchete-llamada\">[</span>8<span class=\"corchete-llamada\">]</span></a></sup>​ <b>morroño</b><sup class=\"reference separada\" id=\"cite_ref-9\"><a href=\"#cite_note-9\"><span class=\"corchete-llamada\">[</span>9<span class=\"corchete-llamada\">]</span></a></sup>​ o <b>morrongo</b>,<sup class=\"reference separada\" id=\"cite_ref-10\"><a href=\"#cite_note-10\"><span class=\"corchete-llamada\">[</span>10<span class=\"corchete-llamada\">]</span></a></sup>​ y algunos nombres más, es un <a class=\"mw-redirect\" href=\"/wiki/Mam%C3%ADfero\" title=\"Mamífero\">mamífero</a> <a href=\"/wiki/Carn%C3%ADvoro\" title=\"Carnívoro\">carnívoro</a> de la <a href=\"/wiki/Familia_(biolog%C3%ADa)\" title=\"Familia (biología)\">familia</a> <a href=\"/wiki/Felidae\" title=\"Felidae\">Felidae</a>. Es una subespecie domesticada por la convivencia con el <a href=\"/wiki/Homo_sapiens\" title=\"Homo sapiens\">ser humano</a>. \n",
      "</p>\n"
     ]
    }
   ],
   "source": [
    "#requests.get('página web') - de dónde se obtendrá la información\n",
    "r = requests.get(url)\n",
    "print(r.status_code)\n",
    "\n",
    "#Contenido de todo el HTML\n",
    "soup = BeautifulSoup(r.text,'html.parser')\n",
    "#print(soup)\n",
    "\n",
    "#Identificación de párrafos\n",
    "parrafos = soup.find_all('p')\n",
    "print(len(parrafos))\n",
    "#Selección del primer párrafo de contenido\n",
    "parrafo1 = parrafos[0]\n",
    "print(parrafo1)"
   ]
  },
  {
   "cell_type": "markdown",
   "id": "a9d2c71a-b13d-42c8-b11b-762fe9aa8951",
   "metadata": {},
   "source": [
    "### 5. Identificación de links asociados al primer párrafo de contenido el artículo"
   ]
  },
  {
   "cell_type": "markdown",
   "id": "c7db51f4-742f-462a-a510-ef4f8832d721",
   "metadata": {},
   "source": [
    "#### 5.1 Extracción de todos los links"
   ]
  },
  {
   "cell_type": "code",
   "execution_count": 13,
   "id": "ca17cc98-a105-43bf-bc78-fad3665bb7ad",
   "metadata": {},
   "outputs": [
    {
     "name": "stdout",
     "output_type": "stream",
     "text": [
      "15\n"
     ]
    }
   ],
   "source": [
    "#Identificación de todos los links dentro del HTML del primer párrafo\n",
    "links = parrafo1.find_all('a')\n",
    "print(len(links))"
   ]
  },
  {
   "cell_type": "markdown",
   "id": "ab66d775-5f89-4527-9c4b-64d37953732b",
   "metadata": {},
   "source": [
    "#### 5.2 Links de referencia que son citas bibliográficas"
   ]
  },
  {
   "cell_type": "code",
   "execution_count": 14,
   "id": "11bb9dc2-4f55-48d0-a366-c6b01dcf3a08",
   "metadata": {},
   "outputs": [
    {
     "name": "stdout",
     "output_type": "stream",
     "text": [
      "10\n",
      "['#cite_note-MSW3fc-1', '#cite_note-ITIS_F.c.-2', '#cite_note-3', '#cite_note-4', '#cite_note-5', '#cite_note-6', '#cite_note-7', '#cite_note-8', '#cite_note-9', '#cite_note-10']\n"
     ]
    }
   ],
   "source": [
    "#Identificación de referencias biliográficas en el párrafo\n",
    "referencias = parrafo1.find_all('sup', attrs={'class':'reference'})\n",
    "print(len(referencias))\n",
    "bibliografia = []\n",
    "\n",
    "for i in range (len(referencias)):\n",
    "    referencia = referencias[i].find('a')\n",
    "    link_ref = referencia.get('href')\n",
    "    bibliografia.append(link_ref)\n",
    "\n",
    "print(bibliografia)"
   ]
  },
  {
   "cell_type": "markdown",
   "id": "a3a3067b-bf26-4dab-bef9-245bb40fff4f",
   "metadata": {},
   "source": [
    "#### 5.3 Enlaces hacia otras páginas de wikipedia"
   ]
  },
  {
   "cell_type": "code",
   "execution_count": 15,
   "id": "60ba616f-2d6d-47c4-97b8-72fe10469581",
   "metadata": {},
   "outputs": [
    {
     "name": "stdout",
     "output_type": "stream",
     "text": [
      "['Mamífero', 'Carnívoro', 'Familia (biología)', 'Felidae', 'Homo sapiens']\n"
     ]
    }
   ],
   "source": [
    "#Todos los liks y cuáles están asociados a bibliografía o a otros artículos de wikipedia que se encuentran en párrafo 1\n",
    "titulos_ref = []\n",
    "\n",
    "#Revisión de cada link\n",
    "for i in range (len(links)):\n",
    "    link = links[i].get('href')\n",
    "    \n",
    "    #En caso de ser link de referencia bibliográfica\n",
    "    if link in bibliografia:\n",
    "        #print('es una referencia bibliográfica')\n",
    "        pass\n",
    "    #En caso de ser link asociado a otro artículo de wikipedia\n",
    "    else:\n",
    "        titulo = links[i].get('title')\n",
    "        #Almacenar el título del siguiente artículo\n",
    "        titulos_ref.append(titulo)\n",
    "print(titulos_ref)"
   ]
  },
  {
   "cell_type": "markdown",
   "id": "21625716-0d7d-4ad2-8c76-f01aeefb7d92",
   "metadata": {},
   "source": [
    "### 6. Visualización gráfica del resultado los artículos al artículo principal"
   ]
  },
  {
   "cell_type": "code",
   "execution_count": 16,
   "id": "e2cb4bad-70b0-4b3d-86ae-3c9e3f15629c",
   "metadata": {},
   "outputs": [
    {
     "data": {
      "text/html": [
       "\n",
       "        <iframe\n",
       "            width=\"500px\"\n",
       "            height=\"500px\"\n",
       "            src=\"myred.html\"\n",
       "            frameborder=\"0\"\n",
       "            allowfullscreen\n",
       "        ></iframe>\n",
       "        "
      ],
      "text/plain": [
       "<IPython.lib.display.IFrame at 0x1ffc8f59d90>"
      ]
     },
     "execution_count": 16,
     "metadata": {},
     "output_type": "execute_result"
    }
   ],
   "source": [
    "#Definición de la red para ser visualizada en este notebook\n",
    "net = Network(notebook=True)\n",
    "#Agregar como nodo 1 la búsqueda inicial\n",
    "net.add_node(1, label=busqueda) \n",
    "#Agregar los otros nodos relacionados a otros links de wikipedia\n",
    "net.add_nodes(titulos_ref)\n",
    "\n",
    "#Enlazar los artículos al artículo principal\n",
    "for i in range (len(titulos_ref)):\n",
    "    try:\n",
    "        net.add_edge(1,titulos_ref[i])\n",
    "    except:\n",
    "        net.add_edge(1,int(titulos_ref[i]))\n",
    "\n",
    "net.show(\"myred.html\")"
   ]
  },
  {
   "cell_type": "code",
   "execution_count": null,
   "id": "5ddec745-a1fc-4a88-99fd-56de3493a348",
   "metadata": {},
   "outputs": [],
   "source": []
  }
 ],
 "metadata": {
  "kernelspec": {
   "display_name": "Python 3",
   "language": "python",
   "name": "python3"
  },
  "language_info": {
   "codemirror_mode": {
    "name": "ipython",
    "version": 3
   },
   "file_extension": ".py",
   "mimetype": "text/x-python",
   "name": "python",
   "nbconvert_exporter": "python",
   "pygments_lexer": "ipython3",
   "version": "3.8.8"
  }
 },
 "nbformat": 4,
 "nbformat_minor": 5
}
